{
 "cells": [
  {
   "cell_type": "markdown",
   "id": "25bcef74",
   "metadata": {},
   "source": [
    "# CS210 - Homework #1: Spotify Playlist Analysis\n"
   ]
  },
  {
   "cell_type": "markdown",
   "id": "9b102f0d",
   "metadata": {},
   "source": [
    "Exploratory Data Analysis is a fundamental process in the field of data science that helps us gain insights into a dataset by summarizing its main characteristics and identifying patterns and relationships within the data. In this assignment, we will be applying exploratory data analysis techniques to a Spotify playlist to better understand the characteristics of the songs in the playlist. Through this exercise, we will learn scraping, visualize distributions, and uncover insights that can help us make informed decisions about the playlist's content and structure. Whether you are a music lover, aspiring data scientist, or simply interested in exploring the power of data, this assignment will provide you with a hands-on experience in exploratory data analysis that you can apply to any dataset. **You have unlimited freedom to use ChatGPT for this assignment, and we recommend it. Please do not forget to save your ChatGPT chats. Do not use different chats, and do not delete your chat history after you complete the assignment. Besides your notebook, you must also submit for your ChatGPT chat links.**\n",
    "\n",
    "\n",
    "**In this homework, we offer you 2 ways to get data.**\n",
    "\n",
    "1 - In this assignment, you will analyze a playlist, and this playlist is available as a table on a website. You can scrape the table from this website, we provide HTML content for this. There is a possibility to retrieve the data using BeautifulSoup. You can also get the table directly from the URL using Selenium, and this way will probably be easier. The homework will start with this part and if you successfully capture the data and use it in the homework, you will start with 25 points.\n",
    "\n",
    "2 - If you do not want to deal with scraping, we will also provide you with the CSV version of the dataset, and you can use it directly. In this case, naturally you will not have completed the scraping part, but you will still be able to complete the remaining parts of the assignment, and you will not receive any points for the scraping part.\n",
    "\n",
    "\n",
    "\n",
    "\n",
    "Below, you can find all the set of features, provided in the dataset:\n",
    "\n",
    "1. **Song:** The name of the track.\n",
    "2. **Artist:** The name of the artist or group that performed the song.\n",
    "3. **Popularity:** A numerical measure of the song's popularity.\n",
    "4. **BPM (Beats Per Minute):** The tempo or speed of the song in beats per minute.\n",
    "5. **Genres:** The musical genres associated with the song.\n",
    "6. **Parent Genres:** The broader or parent musical genres of the song.\n",
    "7. **Album:** The name of the album containing the song.\n",
    "8. **Album Date:** The release date of the album.\n",
    "9. **Time:** The duration of the song in minutes and seconds.\n",
    "10. **Dance:** A numerical value indicating danceability.\n",
    "11. **Energy:** A numerical value representing the energy level of the song.\n",
    "12. **Acoustic:** A numerical value indicating the acousticness of the song.\n",
    "13. **Instrumental:** A numerical value indicating the instrumentalness of the song.\n",
    "14. **Happy:** A numerical value representing the mood or happiness of the song.\n",
    "15. **Speech:** A numerical value indicating the presence of speech or lyrics in the song.\n",
    "16. **Live:** Indicates if the song is a live recording (1 for live, 0 for studio).\n",
    "17. **Loud:** A numerical value indicating the loudness of the song.\n",
    "18. **Key:** The musical key in which the song is composed.\n",
    "19. **Time Signature:** The time signature of the song.\n",
    "20. **Added At:** The date or timestamp when the song was added to the dataset.\n",
    "21. **Spotify Track Id:** Unique identifiers assigned to each track by Spotify.\n",
    "22. **Album Label:** The name of the record label associated with the album.\n",
    "23. **Camelot:** Information about the musical key or tonal center of the song.\n",
    "24. **Spotify Track Img:** URLs or references to images associated with the Spotify tracks.\n"
   ]
  },
  {
   "cell_type": "code",
   "execution_count": 1,
   "id": "358bd436",
   "metadata": {},
   "outputs": [],
   "source": [
    "import pandas as pd\n",
    "import numpy as np\n",
    "import matplotlib.pyplot as plt\n",
    "import seaborn as sns"
   ]
  },
  {
   "cell_type": "markdown",
   "id": "1a0403bd",
   "metadata": {
    "jp-MarkdownHeadingCollapsed": true
   },
   "source": [
    "## Q1: Scraping  (25 points)"
   ]
  },
  {
   "cell_type": "markdown",
   "id": "d0fde0aa",
   "metadata": {},
   "source": [
    "If you want to scrape the playlist, you can retrieve the data using [this playlist analyzer website](https://www.chosic.com/spotify-playlist-analyzer/?plid=4wyQnWDDys6T8A2ni96VfG). Here, you should take the Playlist Table, which contains the songs' information, and convert it to DataFrame. As we mentioned at the beginning of the assignment, using Selenium may be a more logical solution since the content of the site is dynamic. But you are also free to use BeautifulSoup, or read the file directly and start data analysis. If you want to use BeautifulSoup, we provided the static version of the webpage. "
   ]
  },
  {
   "cell_type": "code",
   "execution_count": 2,
   "id": "76a8cc84",
   "metadata": {
    "scrolled": true
   },
   "outputs": [],
   "source": [
    "#SCRAPING WAY - 25 POINTS\n",
    "import bs4 as bs\n",
    "html_file_name = \"CS210 - Homework 1 - for BeautifulSoup.html\"\n",
    "\n",
    "source_file = open(html_file_name, \"r\", encoding=\"utf-8\")\n",
    "soup = bs.BeautifulSoup(source_file, \"html.parser\")\n",
    "source_file.close()\n",
    "\n",
    "playlist_table = soup.find(id=\"tracks-table\")\n",
    "table_head = playlist_table.find(\"thead\").find('tr')\n",
    "table_body = playlist_table.find(\"tbody\")\n",
    "\n",
    "columns = []\n",
    "for feature in table_head:\n",
    "    columns.append(feature.get_text())\n",
    "\n",
    "df = pd.DataFrame(columns=columns)\n",
    "\n",
    "for song in table_body:\n",
    "    new_entry = dict()\n",
    "    features = song.contents\n",
    "    for i in range(len(features)):\n",
    "        feature = features[i].get_text().strip()\n",
    "        if \"db\" in feature:\n",
    "            feature = feature.replace(\"db\", \"\").strip()\n",
    "        try:\n",
    "            feature = int(feature)\n",
    "        except ValueError:\n",
    "            pass\n",
    "        \n",
    "        new_entry[columns[i]] = feature\n",
    "\n",
    "    df.loc[len(df)] = new_entry"
   ]
  },
  {
   "cell_type": "markdown",
   "id": "ef3194a7",
   "metadata": {},
   "source": [
    "Spotify Track Img, Song Preview columns may not be in the data we got from scraping, but we will not use these columns. So you can ignore this columns."
   ]
  },
  {
   "cell_type": "markdown",
   "id": "cd16bd0e",
   "metadata": {
    "jp-MarkdownHeadingCollapsed": true
   },
   "source": [
    "## Q2: Exploring the Dataset (35 points)"
   ]
  },
  {
   "cell_type": "markdown",
   "id": "5062af49",
   "metadata": {},
   "source": [
    "Since we complete the scraping, we can finally start deep-diving into the dataset. Now, follow the instructions."
   ]
  },
  {
   "cell_type": "code",
   "execution_count": 3,
   "id": "f44b54d7",
   "metadata": {},
   "outputs": [
    {
     "data": {
      "text/html": [
       "<div>\n",
       "<style scoped>\n",
       "    .dataframe tbody tr th:only-of-type {\n",
       "        vertical-align: middle;\n",
       "    }\n",
       "\n",
       "    .dataframe tbody tr th {\n",
       "        vertical-align: top;\n",
       "    }\n",
       "\n",
       "    .dataframe thead th {\n",
       "        text-align: right;\n",
       "    }\n",
       "</style>\n",
       "<table border=\"1\" class=\"dataframe\">\n",
       "  <thead>\n",
       "    <tr style=\"text-align: right;\">\n",
       "      <th></th>\n",
       "      <th>#</th>\n",
       "      <th>Song</th>\n",
       "      <th>Artist</th>\n",
       "      <th>Popularity</th>\n",
       "      <th>BPM</th>\n",
       "      <th>Genres</th>\n",
       "      <th>Parent Genres</th>\n",
       "      <th>Album</th>\n",
       "      <th>Album Date</th>\n",
       "      <th>Time</th>\n",
       "      <th>...</th>\n",
       "      <th>Happy</th>\n",
       "      <th>Speech</th>\n",
       "      <th>Live</th>\n",
       "      <th>Loud</th>\n",
       "      <th>Key</th>\n",
       "      <th>Time Signature</th>\n",
       "      <th>Added at</th>\n",
       "      <th>Spotify Track Id</th>\n",
       "      <th>Album Label</th>\n",
       "      <th>Camelot</th>\n",
       "    </tr>\n",
       "  </thead>\n",
       "  <tbody>\n",
       "    <tr>\n",
       "      <th>0</th>\n",
       "      <td>1</td>\n",
       "      <td>Crying Lightning</td>\n",
       "      <td>Arctic Monkeys</td>\n",
       "      <td>75</td>\n",
       "      <td>107</td>\n",
       "      <td>garage rock, modern rock, permanent wave, rock...</td>\n",
       "      <td>Rock</td>\n",
       "      <td>Humbug</td>\n",
       "      <td>2009-08-20</td>\n",
       "      <td>03:44</td>\n",
       "      <td>...</td>\n",
       "      <td>67</td>\n",
       "      <td>0</td>\n",
       "      <td>20</td>\n",
       "      <td>-4</td>\n",
       "      <td>E Minor</td>\n",
       "      <td>4</td>\n",
       "      <td>2023-10-11</td>\n",
       "      <td>6wVWJl64yoTzU27EI8ep20</td>\n",
       "      <td>Domino Recording Co</td>\n",
       "      <td>9A</td>\n",
       "    </tr>\n",
       "    <tr>\n",
       "      <th>1</th>\n",
       "      <td>2</td>\n",
       "      <td>Buzzcut Season</td>\n",
       "      <td>Lorde</td>\n",
       "      <td>73</td>\n",
       "      <td>111</td>\n",
       "      <td>art pop, metropopolis, nz pop, pop</td>\n",
       "      <td>Pop, Electronic</td>\n",
       "      <td>Pure Heroine</td>\n",
       "      <td>2013-09-27</td>\n",
       "      <td>04:06</td>\n",
       "      <td>...</td>\n",
       "      <td>25</td>\n",
       "      <td>0</td>\n",
       "      <td>10</td>\n",
       "      <td>-11</td>\n",
       "      <td>C♯/D♭ Major</td>\n",
       "      <td>4</td>\n",
       "      <td>2023-10-11</td>\n",
       "      <td>51QEyJI5M7uyd8DOh9tqQY</td>\n",
       "      <td>Universal Music New Zealand Limited</td>\n",
       "      <td>3B</td>\n",
       "    </tr>\n",
       "    <tr>\n",
       "      <th>2</th>\n",
       "      <td>3</td>\n",
       "      <td>Ode To The Mets</td>\n",
       "      <td>The Strokes</td>\n",
       "      <td>69</td>\n",
       "      <td>92</td>\n",
       "      <td>alternative rock, garage rock, modern rock, pe...</td>\n",
       "      <td>Rock</td>\n",
       "      <td>The New Abnormal</td>\n",
       "      <td>2020-04-10</td>\n",
       "      <td>05:51</td>\n",
       "      <td>...</td>\n",
       "      <td>20</td>\n",
       "      <td>0</td>\n",
       "      <td>10</td>\n",
       "      <td>-5</td>\n",
       "      <td>C♯/D♭ Minor</td>\n",
       "      <td>4</td>\n",
       "      <td>2023-10-11</td>\n",
       "      <td>1BLOVHYYlH4JUHQGcpt75R</td>\n",
       "      <td>Cult Records/RCA Records</td>\n",
       "      <td>12A</td>\n",
       "    </tr>\n",
       "  </tbody>\n",
       "</table>\n",
       "<p>3 rows × 24 columns</p>\n",
       "</div>"
      ],
      "text/plain": [
       "   #              Song          Artist  Popularity  BPM  \\\n",
       "0  1  Crying Lightning  Arctic Monkeys          75  107   \n",
       "1  2    Buzzcut Season           Lorde          73  111   \n",
       "2  3   Ode To The Mets     The Strokes          69   92   \n",
       "\n",
       "                                              Genres    Parent Genres  \\\n",
       "0  garage rock, modern rock, permanent wave, rock...             Rock   \n",
       "1                 art pop, metropopolis, nz pop, pop  Pop, Electronic   \n",
       "2  alternative rock, garage rock, modern rock, pe...             Rock   \n",
       "\n",
       "              Album  Album Date   Time  ...  Happy  Speech  Live  Loud  \\\n",
       "0            Humbug  2009-08-20  03:44  ...     67       0    20    -4   \n",
       "1      Pure Heroine  2013-09-27  04:06  ...     25       0    10   -11   \n",
       "2  The New Abnormal  2020-04-10  05:51  ...     20       0    10    -5   \n",
       "\n",
       "           Key  Time Signature    Added at        Spotify Track Id  \\\n",
       "0      E Minor               4  2023-10-11  6wVWJl64yoTzU27EI8ep20   \n",
       "1  C♯/D♭ Major               4  2023-10-11  51QEyJI5M7uyd8DOh9tqQY   \n",
       "2  C♯/D♭ Minor               4  2023-10-11  1BLOVHYYlH4JUHQGcpt75R   \n",
       "\n",
       "                           Album Label  Camelot  \n",
       "0                  Domino Recording Co       9A  \n",
       "1  Universal Music New Zealand Limited       3B  \n",
       "2             Cult Records/RCA Records      12A  \n",
       "\n",
       "[3 rows x 24 columns]"
      ]
     },
     "execution_count": 3,
     "metadata": {},
     "output_type": "execute_result"
    }
   ],
   "source": [
    "#2pts - show the first 3 rows\n",
    "df.head(3)"
   ]
  },
  {
   "cell_type": "code",
   "execution_count": 4,
   "id": "1718dfa6",
   "metadata": {},
   "outputs": [
    {
     "name": "stdout",
     "output_type": "stream",
     "text": [
      "<class 'pandas.core.frame.DataFrame'>\n",
      "Index: 326 entries, 0 to 325\n",
      "Data columns (total 24 columns):\n",
      " #   Column            Non-Null Count  Dtype \n",
      "---  ------            --------------  ----- \n",
      " 0   #                 326 non-null    int64 \n",
      " 1   Song              326 non-null    object\n",
      " 2   Artist            326 non-null    object\n",
      " 3   Popularity        326 non-null    int64 \n",
      " 4   BPM               326 non-null    int64 \n",
      " 5   Genres            326 non-null    object\n",
      " 6   Parent Genres     326 non-null    object\n",
      " 7   Album             326 non-null    object\n",
      " 8   Album Date        326 non-null    object\n",
      " 9   Time              326 non-null    object\n",
      " 10  Dance             326 non-null    int64 \n",
      " 11  Energy            326 non-null    int64 \n",
      " 12  Acoustic          326 non-null    int64 \n",
      " 13  Instrumental      326 non-null    int64 \n",
      " 14  Happy             326 non-null    int64 \n",
      " 15  Speech            326 non-null    int64 \n",
      " 16  Live              326 non-null    int64 \n",
      " 17  Loud              326 non-null    int64 \n",
      " 18  Key               326 non-null    object\n",
      " 19  Time Signature    326 non-null    int64 \n",
      " 20  Added at          326 non-null    object\n",
      " 21  Spotify Track Id  326 non-null    object\n",
      " 22  Album Label       326 non-null    object\n",
      " 23  Camelot           326 non-null    object\n",
      "dtypes: int64(12), object(12)\n",
      "memory usage: 63.7+ KB\n"
     ]
    }
   ],
   "source": [
    "#1pts - show the info of dataframe\n",
    "df.info()\n",
    "# print(\"Data Types\\n\", df.dtypes)\n",
    "# print(\"Columns: \", df.columns)"
   ]
  },
  {
   "cell_type": "code",
   "execution_count": 5,
   "id": "b7dac89e",
   "metadata": {},
   "outputs": [
    {
     "data": {
      "text/html": [
       "<div>\n",
       "<style scoped>\n",
       "    .dataframe tbody tr th:only-of-type {\n",
       "        vertical-align: middle;\n",
       "    }\n",
       "\n",
       "    .dataframe tbody tr th {\n",
       "        vertical-align: top;\n",
       "    }\n",
       "\n",
       "    .dataframe thead th {\n",
       "        text-align: right;\n",
       "    }\n",
       "</style>\n",
       "<table border=\"1\" class=\"dataframe\">\n",
       "  <thead>\n",
       "    <tr style=\"text-align: right;\">\n",
       "      <th></th>\n",
       "      <th>#</th>\n",
       "      <th>Popularity</th>\n",
       "      <th>BPM</th>\n",
       "      <th>Dance</th>\n",
       "      <th>Energy</th>\n",
       "      <th>Acoustic</th>\n",
       "      <th>Instrumental</th>\n",
       "      <th>Happy</th>\n",
       "      <th>Speech</th>\n",
       "      <th>Live</th>\n",
       "      <th>Loud</th>\n",
       "      <th>Time Signature</th>\n",
       "    </tr>\n",
       "  </thead>\n",
       "  <tbody>\n",
       "    <tr>\n",
       "      <th>count</th>\n",
       "      <td>326.000000</td>\n",
       "      <td>326.00000</td>\n",
       "      <td>326.000000</td>\n",
       "      <td>326.000000</td>\n",
       "      <td>326.000000</td>\n",
       "      <td>326.000000</td>\n",
       "      <td>326.000000</td>\n",
       "      <td>326.000000</td>\n",
       "      <td>326.000000</td>\n",
       "      <td>326.000000</td>\n",
       "      <td>326.000000</td>\n",
       "      <td>326.000000</td>\n",
       "    </tr>\n",
       "    <tr>\n",
       "      <th>mean</th>\n",
       "      <td>163.500000</td>\n",
       "      <td>50.41411</td>\n",
       "      <td>122.990798</td>\n",
       "      <td>54.895706</td>\n",
       "      <td>60.478528</td>\n",
       "      <td>28.245399</td>\n",
       "      <td>13.380368</td>\n",
       "      <td>43.625767</td>\n",
       "      <td>0.858896</td>\n",
       "      <td>12.055215</td>\n",
       "      <td>-8.128834</td>\n",
       "      <td>3.929448</td>\n",
       "    </tr>\n",
       "    <tr>\n",
       "      <th>std</th>\n",
       "      <td>94.252321</td>\n",
       "      <td>23.10292</td>\n",
       "      <td>25.101822</td>\n",
       "      <td>14.852345</td>\n",
       "      <td>20.385164</td>\n",
       "      <td>29.670725</td>\n",
       "      <td>24.219816</td>\n",
       "      <td>22.836027</td>\n",
       "      <td>3.906409</td>\n",
       "      <td>12.615376</td>\n",
       "      <td>3.079755</td>\n",
       "      <td>0.320467</td>\n",
       "    </tr>\n",
       "    <tr>\n",
       "      <th>min</th>\n",
       "      <td>1.000000</td>\n",
       "      <td>0.00000</td>\n",
       "      <td>66.000000</td>\n",
       "      <td>11.000000</td>\n",
       "      <td>10.000000</td>\n",
       "      <td>0.000000</td>\n",
       "      <td>0.000000</td>\n",
       "      <td>4.000000</td>\n",
       "      <td>0.000000</td>\n",
       "      <td>0.000000</td>\n",
       "      <td>-20.000000</td>\n",
       "      <td>1.000000</td>\n",
       "    </tr>\n",
       "    <tr>\n",
       "      <th>25%</th>\n",
       "      <td>82.250000</td>\n",
       "      <td>40.00000</td>\n",
       "      <td>106.000000</td>\n",
       "      <td>45.000000</td>\n",
       "      <td>45.000000</td>\n",
       "      <td>2.000000</td>\n",
       "      <td>0.000000</td>\n",
       "      <td>26.000000</td>\n",
       "      <td>0.000000</td>\n",
       "      <td>0.000000</td>\n",
       "      <td>-10.000000</td>\n",
       "      <td>4.000000</td>\n",
       "    </tr>\n",
       "    <tr>\n",
       "      <th>50%</th>\n",
       "      <td>163.500000</td>\n",
       "      <td>55.00000</td>\n",
       "      <td>122.500000</td>\n",
       "      <td>55.000000</td>\n",
       "      <td>61.000000</td>\n",
       "      <td>17.000000</td>\n",
       "      <td>0.000000</td>\n",
       "      <td>41.000000</td>\n",
       "      <td>0.000000</td>\n",
       "      <td>10.000000</td>\n",
       "      <td>-8.000000</td>\n",
       "      <td>4.000000</td>\n",
       "    </tr>\n",
       "    <tr>\n",
       "      <th>75%</th>\n",
       "      <td>244.750000</td>\n",
       "      <td>66.00000</td>\n",
       "      <td>138.000000</td>\n",
       "      <td>66.000000</td>\n",
       "      <td>77.000000</td>\n",
       "      <td>51.750000</td>\n",
       "      <td>13.750000</td>\n",
       "      <td>60.000000</td>\n",
       "      <td>0.000000</td>\n",
       "      <td>17.500000</td>\n",
       "      <td>-6.000000</td>\n",
       "      <td>4.000000</td>\n",
       "    </tr>\n",
       "    <tr>\n",
       "      <th>max</th>\n",
       "      <td>326.000000</td>\n",
       "      <td>93.00000</td>\n",
       "      <td>200.000000</td>\n",
       "      <td>89.000000</td>\n",
       "      <td>98.000000</td>\n",
       "      <td>96.000000</td>\n",
       "      <td>95.000000</td>\n",
       "      <td>98.000000</td>\n",
       "      <td>40.000000</td>\n",
       "      <td>80.000000</td>\n",
       "      <td>-2.000000</td>\n",
       "      <td>4.000000</td>\n",
       "    </tr>\n",
       "  </tbody>\n",
       "</table>\n",
       "</div>"
      ],
      "text/plain": [
       "                #  Popularity         BPM       Dance      Energy    Acoustic  \\\n",
       "count  326.000000   326.00000  326.000000  326.000000  326.000000  326.000000   \n",
       "mean   163.500000    50.41411  122.990798   54.895706   60.478528   28.245399   \n",
       "std     94.252321    23.10292   25.101822   14.852345   20.385164   29.670725   \n",
       "min      1.000000     0.00000   66.000000   11.000000   10.000000    0.000000   \n",
       "25%     82.250000    40.00000  106.000000   45.000000   45.000000    2.000000   \n",
       "50%    163.500000    55.00000  122.500000   55.000000   61.000000   17.000000   \n",
       "75%    244.750000    66.00000  138.000000   66.000000   77.000000   51.750000   \n",
       "max    326.000000    93.00000  200.000000   89.000000   98.000000   96.000000   \n",
       "\n",
       "       Instrumental       Happy      Speech        Live        Loud  \\\n",
       "count    326.000000  326.000000  326.000000  326.000000  326.000000   \n",
       "mean      13.380368   43.625767    0.858896   12.055215   -8.128834   \n",
       "std       24.219816   22.836027    3.906409   12.615376    3.079755   \n",
       "min        0.000000    4.000000    0.000000    0.000000  -20.000000   \n",
       "25%        0.000000   26.000000    0.000000    0.000000  -10.000000   \n",
       "50%        0.000000   41.000000    0.000000   10.000000   -8.000000   \n",
       "75%       13.750000   60.000000    0.000000   17.500000   -6.000000   \n",
       "max       95.000000   98.000000   40.000000   80.000000   -2.000000   \n",
       "\n",
       "       Time Signature  \n",
       "count      326.000000  \n",
       "mean         3.929448  \n",
       "std          0.320467  \n",
       "min          1.000000  \n",
       "25%          4.000000  \n",
       "50%          4.000000  \n",
       "75%          4.000000  \n",
       "max          4.000000  "
      ]
     },
     "execution_count": 5,
     "metadata": {},
     "output_type": "execute_result"
    }
   ],
   "source": [
    "#2pts - give the statistical summary of numerical columns\n",
    "df.describe()"
   ]
  },
  {
   "cell_type": "markdown",
   "id": "9b3155c1",
   "metadata": {},
   "source": [
    "Let's learn more about our dataset. There are various genres in playlists but some of them are more frequent than others. Your task is to determine the top 10 most frequent genres present in the data. Please consider that some songs have multiple genres. And at the end print top 10 genres with their counts."
   ]
  },
  {
   "cell_type": "code",
   "execution_count": 6,
   "id": "3424e8f4",
   "metadata": {
    "scrolled": true
   },
   "outputs": [
    {
     "name": "stdout",
     "output_type": "stream",
     "text": [
      "'indie rock' appears 113 times\n",
      "'modern rock' appears 104 times\n",
      "'art pop' appears 80 times\n",
      "'rock' appears 74 times\n",
      "'indie pop' appears 64 times\n",
      "'chamber pop' appears 58 times\n",
      "'permanent wave' appears 48 times\n",
      "'pov: indie' appears 41 times\n",
      "'indietronica' appears 38 times\n",
      "'garage rock' appears 37 times\n"
     ]
    }
   ],
   "source": [
    "#5pts\n",
    "genre_series = df[\"Genres\"]  # The column that contains genres in order\n",
    "genre_freq = dict()  # How mony times each genre appear\n",
    "\n",
    "for song_g in genre_series:\n",
    "    genres = [genre.strip().lower() for genre in song_g.split(\",\")]  # Multiple genres are seperated by a comma\n",
    "    for genre in genres:\n",
    "        # Increase the counter for that genre\n",
    "        if genre in genre_freq:\n",
    "            genre_freq[genre] += 1\n",
    "        else:\n",
    "            genre_freq[genre] = 1\n",
    "\n",
    "genre_freq = dict(sorted(genre_freq.items(), key=lambda x: x[1], reverse=True))  # Sort the dictionry of genre frequency by their values\n",
    "\n",
    "# Print the top 10\n",
    "for genre in list(genre_freq.keys())[:10]:\n",
    "    print(f\"'{genre}' appears {genre_freq[genre]} times\")"
   ]
  },
  {
   "cell_type": "markdown",
   "id": "b189f07e",
   "metadata": {},
   "source": [
    "Let's make the analysis a little more detailed. Specifically, you are required to find and display the top 5 most popular music genres based on their average popularity score, but please only consider genres that appear more than 10 times in the dataset. And at the end print top_genres with their popularity score."
   ]
  },
  {
   "cell_type": "code",
   "execution_count": 7,
   "id": "3187ff08",
   "metadata": {},
   "outputs": [
    {
     "name": "stdout",
     "output_type": "stream",
     "text": [
      "'permanent wave' has an avarage popularity score of 67.92\n",
      "'pop' has an avarage popularity score of 65.82\n",
      "'sheffield indie' has an avarage popularity score of 65.65\n",
      "'garage rock' has an avarage popularity score of 65.03\n",
      "'la indie' has an avarage popularity score of 62.08\n"
     ]
    }
   ],
   "source": [
    "#6pts\n",
    "popularity_series = df[\"Popularity\"]\n",
    "total_pop_score_by_genre = dict()  # Keep the popularity score of each genre from every song with that genre\n",
    "\n",
    "for song_g, song_p in zip(genre_series, popularity_series):\n",
    "    genres = [genre.strip().lower() for genre in song_g.split(\",\")]  # Multiple genres are seperated by a comma\n",
    "    for genre in genres:\n",
    "        if genre_freq[genre] > 10:  # If that genre appears more than 10 times        \n",
    "            # To work with avarage score,\n",
    "            # divide the score from the current song with the total number of songs with that genre (genre_freq from the prev. cell)\n",
    "            if genre in total_pop_score_by_genre:\n",
    "                total_pop_score_by_genre[genre] += song_p / genre_freq[genre]  \n",
    "            else:\n",
    "                total_pop_score_by_genre[genre] = song_p / genre_freq[genre]\n",
    "\n",
    "total_pop_score_by_genre = dict(sorted(total_pop_score_by_genre.items(), key=lambda x: x[1], reverse=True))  # Sort the genres based on score\n",
    "# Print the top 5\n",
    "for genre in list(total_pop_score_by_genre.keys())[:5]:\n",
    "    print(f\"'{genre}' has an avarage popularity score of {total_pop_score_by_genre[genre]:.2f}\")"
   ]
  },
  {
   "cell_type": "markdown",
   "id": "7c60431e",
   "metadata": {},
   "source": [
    "Our dataset contains lots of technical information about the music. Still, we can create different columns for better information source. In this question, we will apply a pretty basic feature engineering approach. Here you need to categorize the music according to popularity and BPM.There will be two new columns named \"Popularity_Category\" and \"BPM_Category\". Let it be \"High\" if its popularity is above the 75th percentile, \"Medium\" if it falls between 25 and 75 (inclusive), and \"Low\" for all the others. For BPM, if it is below 100, call it \"Slow\", if it is between 100 and 130 (inclusive), call it \"Medium\", and if it is greater than 130, let it be \"Fast\". Once the categorization is complete, print the value counts for both 'Popularity_Category' and 'BPM_Category'."
   ]
  },
  {
   "cell_type": "code",
   "execution_count": 8,
   "id": "fb716630",
   "metadata": {},
   "outputs": [
    {
     "name": "stdout",
     "output_type": "stream",
     "text": [
      "Popularity_Category\n",
      "Medium    165\n",
      "Low        82\n",
      "High       79\n",
      "Name: count, dtype: int64\n",
      "\n",
      "BPM_Category\n",
      "Medium    151\n",
      "Fast      107\n",
      "Slow       68\n",
      "Name: count, dtype: int64\n"
     ]
    }
   ],
   "source": [
    "#5pts\n",
    "bpm_series = df[\"BPM\"]\n",
    "\n",
    "\"\"\"\n",
    "Some of the songs have a popularity score of 0.\n",
    "Since the popularity scores have roughly a symmetric normal distribution,\n",
    "I will fill those values with the mean.\n",
    "\"\"\"\n",
    "# Convert zeros to NaN\n",
    "filled_popularity_series = popularity_series.replace(0, np.nan)\n",
    "# Calculate the mean\n",
    "popularity_mean_filled = filled_popularity_series.mean()\n",
    "# Fill missing values with the mean\n",
    "filled_popularity_series = filled_popularity_series.fillna(popularity_mean_filled)\n",
    "\n",
    "# Replace the popularity scores coulmn in the DataFrame with the filled version\n",
    "df[\"Popularity\"] = filled_popularity_series\n",
    "\n",
    "# Get the 75th and 25th percentile values\n",
    "pop_75 = np.percentile(filled_popularity_series, 75)\n",
    "pop_25 = np.percentile(filled_popularity_series, 25)\n",
    "\n",
    "popularity_category = list() # An ordered list to keep the new series' values\n",
    "bpm_category = list()        # An ordered list to keep the new series' values\n",
    "for song_idx in range(df.shape[0]):\n",
    "    if filled_popularity_series[song_idx] > pop_75:\n",
    "        popularity_category.append(\"High\")\n",
    "    elif filled_popularity_series[song_idx] > pop_25:\n",
    "        popularity_category.append(\"Medium\")        \n",
    "    else:\n",
    "        popularity_category.append(\"Low\")\n",
    "\n",
    "    if bpm_series[song_idx] > 130:\n",
    "        bpm_category.append(\"Fast\")\n",
    "    elif bpm_series[song_idx] > 100:\n",
    "        bpm_category.append(\"Medium\")        \n",
    "    else:\n",
    "        bpm_category.append(\"Slow\")\n",
    "\n",
    "# Add the new series to the DataFrame\n",
    "df[\"Popularity_Category\"] = popularity_category\n",
    "df[\"BPM_Category\"] = bpm_category\n",
    "\n",
    "# Get and print the counts\n",
    "popularity_category_counts = df.value_counts(subset=\"Popularity_Category\")\n",
    "bpm_category_counts = df.value_counts(subset=\"BPM_Category\")\n",
    "print(popularity_category_counts, bpm_category_counts, sep=\"\\n\\n\")"
   ]
  },
  {
   "cell_type": "markdown",
   "id": "5934e50b",
   "metadata": {},
   "source": [
    "Let's test our filtering skills. Filtering is a significant skill in data science because in many cases you will only need some part of the dataset. In this question, we will filter a song called Crying Lightning by Arctic Monkeys. It's not a song that is arbitrarily chosen by the assistant, you can also take it as a recommendation. :)"
   ]
  },
  {
   "cell_type": "code",
   "execution_count": 9,
   "id": "3f45b5e7",
   "metadata": {},
   "outputs": [
    {
     "data": {
      "text/html": [
       "<div>\n",
       "<style scoped>\n",
       "    .dataframe tbody tr th:only-of-type {\n",
       "        vertical-align: middle;\n",
       "    }\n",
       "\n",
       "    .dataframe tbody tr th {\n",
       "        vertical-align: top;\n",
       "    }\n",
       "\n",
       "    .dataframe thead th {\n",
       "        text-align: right;\n",
       "    }\n",
       "</style>\n",
       "<table border=\"1\" class=\"dataframe\">\n",
       "  <thead>\n",
       "    <tr style=\"text-align: right;\">\n",
       "      <th></th>\n",
       "      <th>#</th>\n",
       "      <th>Song</th>\n",
       "      <th>Artist</th>\n",
       "      <th>Popularity</th>\n",
       "      <th>BPM</th>\n",
       "      <th>Genres</th>\n",
       "      <th>Parent Genres</th>\n",
       "      <th>Album</th>\n",
       "      <th>Album Date</th>\n",
       "      <th>Time</th>\n",
       "      <th>...</th>\n",
       "      <th>Live</th>\n",
       "      <th>Loud</th>\n",
       "      <th>Key</th>\n",
       "      <th>Time Signature</th>\n",
       "      <th>Added at</th>\n",
       "      <th>Spotify Track Id</th>\n",
       "      <th>Album Label</th>\n",
       "      <th>Camelot</th>\n",
       "      <th>Popularity_Category</th>\n",
       "      <th>BPM_Category</th>\n",
       "    </tr>\n",
       "  </thead>\n",
       "  <tbody>\n",
       "    <tr>\n",
       "      <th>1</th>\n",
       "      <td>2</td>\n",
       "      <td>Buzzcut Season</td>\n",
       "      <td>Lorde</td>\n",
       "      <td>73.000000</td>\n",
       "      <td>111</td>\n",
       "      <td>art pop, metropopolis, nz pop, pop</td>\n",
       "      <td>Pop, Electronic</td>\n",
       "      <td>Pure Heroine</td>\n",
       "      <td>2013-09-27</td>\n",
       "      <td>04:06</td>\n",
       "      <td>...</td>\n",
       "      <td>10</td>\n",
       "      <td>-11</td>\n",
       "      <td>C♯/D♭ Major</td>\n",
       "      <td>4</td>\n",
       "      <td>2023-10-11</td>\n",
       "      <td>51QEyJI5M7uyd8DOh9tqQY</td>\n",
       "      <td>Universal Music New Zealand Limited</td>\n",
       "      <td>3B</td>\n",
       "      <td>High</td>\n",
       "      <td>Medium</td>\n",
       "    </tr>\n",
       "    <tr>\n",
       "      <th>2</th>\n",
       "      <td>3</td>\n",
       "      <td>Ode To The Mets</td>\n",
       "      <td>The Strokes</td>\n",
       "      <td>69.000000</td>\n",
       "      <td>92</td>\n",
       "      <td>alternative rock, garage rock, modern rock, pe...</td>\n",
       "      <td>Rock</td>\n",
       "      <td>The New Abnormal</td>\n",
       "      <td>2020-04-10</td>\n",
       "      <td>05:51</td>\n",
       "      <td>...</td>\n",
       "      <td>10</td>\n",
       "      <td>-5</td>\n",
       "      <td>C♯/D♭ Minor</td>\n",
       "      <td>4</td>\n",
       "      <td>2023-10-11</td>\n",
       "      <td>1BLOVHYYlH4JUHQGcpt75R</td>\n",
       "      <td>Cult Records/RCA Records</td>\n",
       "      <td>12A</td>\n",
       "      <td>High</td>\n",
       "      <td>Slow</td>\n",
       "    </tr>\n",
       "    <tr>\n",
       "      <th>3</th>\n",
       "      <td>4</td>\n",
       "      <td>Instant Crush (feat. Julian Casablancas)</td>\n",
       "      <td>Daft Punk,Julian Casablancas</td>\n",
       "      <td>78.000000</td>\n",
       "      <td>110</td>\n",
       "      <td>electro, filter house, rock, indie rock</td>\n",
       "      <td>Hip Hop, Electronic, Rock</td>\n",
       "      <td>Random Access Memories</td>\n",
       "      <td>2013-05-20</td>\n",
       "      <td>05:37</td>\n",
       "      <td>...</td>\n",
       "      <td>0</td>\n",
       "      <td>-10</td>\n",
       "      <td>A#/B♭ Minor</td>\n",
       "      <td>4</td>\n",
       "      <td>2023-10-11</td>\n",
       "      <td>2cGxRwrMyEAp8dEbuZaVv6</td>\n",
       "      <td>Columbia</td>\n",
       "      <td>3A</td>\n",
       "      <td>High</td>\n",
       "      <td>Medium</td>\n",
       "    </tr>\n",
       "    <tr>\n",
       "      <th>4</th>\n",
       "      <td>5</td>\n",
       "      <td>I Know The End</td>\n",
       "      <td>Phoebe Bridgers</td>\n",
       "      <td>55.151007</td>\n",
       "      <td>111</td>\n",
       "      <td>indie pop, la indie, pov: indie</td>\n",
       "      <td>Pop</td>\n",
       "      <td>Punisher</td>\n",
       "      <td>2020-06-18</td>\n",
       "      <td>05:44</td>\n",
       "      <td>...</td>\n",
       "      <td>20</td>\n",
       "      <td>-10</td>\n",
       "      <td>C♯/D♭ Major</td>\n",
       "      <td>4</td>\n",
       "      <td>2023-10-11</td>\n",
       "      <td>3cr3oAP4bQFNjZBV7ElKaB</td>\n",
       "      <td>Dead Oceans</td>\n",
       "      <td>3B</td>\n",
       "      <td>Medium</td>\n",
       "      <td>Medium</td>\n",
       "    </tr>\n",
       "    <tr>\n",
       "      <th>5</th>\n",
       "      <td>6</td>\n",
       "      <td>Taro</td>\n",
       "      <td>alt-J</td>\n",
       "      <td>55.151007</td>\n",
       "      <td>172</td>\n",
       "      <td>indie rock, indietronica, modern alternative r...</td>\n",
       "      <td>Rock, Pop</td>\n",
       "      <td>An Awesome Wave</td>\n",
       "      <td>2012-05-28</td>\n",
       "      <td>05:14</td>\n",
       "      <td>...</td>\n",
       "      <td>0</td>\n",
       "      <td>-11</td>\n",
       "      <td>F Major</td>\n",
       "      <td>4</td>\n",
       "      <td>2023-10-11</td>\n",
       "      <td>36ylLzMtvJ2CItc7bN4TcF</td>\n",
       "      <td>Infectious</td>\n",
       "      <td>7B</td>\n",
       "      <td>Medium</td>\n",
       "      <td>Fast</td>\n",
       "    </tr>\n",
       "  </tbody>\n",
       "</table>\n",
       "<p>5 rows × 26 columns</p>\n",
       "</div>"
      ],
      "text/plain": [
       "   #                                      Song                        Artist  \\\n",
       "1  2                            Buzzcut Season                         Lorde   \n",
       "2  3                           Ode To The Mets                   The Strokes   \n",
       "3  4  Instant Crush (feat. Julian Casablancas)  Daft Punk,Julian Casablancas   \n",
       "4  5                            I Know The End               Phoebe Bridgers   \n",
       "5  6                                      Taro                         alt-J   \n",
       "\n",
       "   Popularity  BPM                                             Genres  \\\n",
       "1   73.000000  111                 art pop, metropopolis, nz pop, pop   \n",
       "2   69.000000   92  alternative rock, garage rock, modern rock, pe...   \n",
       "3   78.000000  110            electro, filter house, rock, indie rock   \n",
       "4   55.151007  111                    indie pop, la indie, pov: indie   \n",
       "5   55.151007  172  indie rock, indietronica, modern alternative r...   \n",
       "\n",
       "               Parent Genres                   Album  Album Date   Time  ...  \\\n",
       "1            Pop, Electronic            Pure Heroine  2013-09-27  04:06  ...   \n",
       "2                       Rock        The New Abnormal  2020-04-10  05:51  ...   \n",
       "3  Hip Hop, Electronic, Rock  Random Access Memories  2013-05-20  05:37  ...   \n",
       "4                        Pop                Punisher  2020-06-18  05:44  ...   \n",
       "5                  Rock, Pop         An Awesome Wave  2012-05-28  05:14  ...   \n",
       "\n",
       "   Live  Loud          Key  Time Signature    Added at  \\\n",
       "1    10   -11  C♯/D♭ Major               4  2023-10-11   \n",
       "2    10    -5  C♯/D♭ Minor               4  2023-10-11   \n",
       "3     0   -10  A#/B♭ Minor               4  2023-10-11   \n",
       "4    20   -10  C♯/D♭ Major               4  2023-10-11   \n",
       "5     0   -11      F Major               4  2023-10-11   \n",
       "\n",
       "         Spotify Track Id                          Album Label  Camelot  \\\n",
       "1  51QEyJI5M7uyd8DOh9tqQY  Universal Music New Zealand Limited       3B   \n",
       "2  1BLOVHYYlH4JUHQGcpt75R             Cult Records/RCA Records      12A   \n",
       "3  2cGxRwrMyEAp8dEbuZaVv6                             Columbia       3A   \n",
       "4  3cr3oAP4bQFNjZBV7ElKaB                          Dead Oceans       3B   \n",
       "5  36ylLzMtvJ2CItc7bN4TcF                           Infectious       7B   \n",
       "\n",
       "  Popularity_Category  BPM_Category  \n",
       "1                High        Medium  \n",
       "2                High          Slow  \n",
       "3                High        Medium  \n",
       "4              Medium        Medium  \n",
       "5              Medium          Fast  \n",
       "\n",
       "[5 rows x 26 columns]"
      ]
     },
     "execution_count": 9,
     "metadata": {},
     "output_type": "execute_result"
    }
   ],
   "source": [
    "#3pts\n",
    "filtered_song = df[df[\"Song\"] == \"Crying Lightning\"].loc[0]  # Save the filtered song\n",
    "df = df[df[\"Song\"] != \"Crying Lightning\"]\n",
    "df.head(5)\n",
    "# print(filtered_song)"
   ]
  },
  {
   "cell_type": "markdown",
   "id": "97adf6d0",
   "metadata": {},
   "source": [
    "Let's do a more advanced filtering operation. Display the name of the most common album among the tracks that have a \"High\" popularity, a \"Fast\" BPM, and are also above the 75th percentile in loudness.\n",
    "\n"
   ]
  },
  {
   "cell_type": "code",
   "execution_count": 10,
   "id": "9fc8d2b9",
   "metadata": {},
   "outputs": [
    {
     "data": {
      "text/plain": [
       "'Favourite Worst Nightmare'"
      ]
     },
     "execution_count": 10,
     "metadata": {},
     "output_type": "execute_result"
    }
   ],
   "source": [
    "#6pts\n",
    "loud_series = df[\"Loud\"]\n",
    "loud_75_perc = np.percentile(loud_series, 75)  # 75th percentile for loudness\n",
    "\n",
    "# Get the songs that fits the criterias\n",
    "feasible_songs = df[\n",
    "    (df[\"Popularity_Category\"] == \"High\") &\n",
    "    (df[\"BPM_Category\"] == \"Fast\") &\n",
    "    (df[\"Loud\"] > loud_75_perc)\n",
    "]\n",
    "\n",
    "# Count the albums from feasible songs and print the one that appears most\n",
    "feasible_songs.value_counts(subset=\"Album\").idxmax()"
   ]
  },
  {
   "cell_type": "markdown",
   "id": "908e0038",
   "metadata": {},
   "source": [
    "Now, display the Camelot code that is most common among the tracks that belong to the top 10% in terms of popularity.\n",
    "\n"
   ]
  },
  {
   "cell_type": "code",
   "execution_count": 11,
   "id": "2e96fbbf",
   "metadata": {},
   "outputs": [
    {
     "name": "stdout",
     "output_type": "stream",
     "text": [
      "                Song Camelot\n",
      "252         cardigan      5A\n",
      "293  bad idea right?     11B\n",
      "316           august      7B\n"
     ]
    }
   ],
   "source": [
    "#5pts\n",
    "pop_90 = np.percentile(popularity_series, 90)  # Get the 90th percentile to filter top 10%\n",
    "\n",
    "# Filter the top 10%\n",
    "top_10 = df[df[\"Popularity\"] > 90]\n",
    "\n",
    "# Print the name of the song and Camelot code\n",
    "print(top_10[[\"Song\", \"Camelot\"]])"
   ]
  },
  {
   "cell_type": "markdown",
   "id": "76803b5a",
   "metadata": {},
   "source": [
    "## Q3: Visualization and Analysis (40 points)"
   ]
  },
  {
   "cell_type": "markdown",
   "id": "a443861f",
   "metadata": {},
   "source": [
    "We learned many things about our dataset. Now let's create some visualizations using tools like Matplotlib, Seaborn etc. To warm up let's start with some univariate analysis. \n",
    "\n",
    "For the first question:\n",
    "\n",
    "- Create a subplot matrix.\n",
    "- Create a histogram for the 'Popularity_Category' variable with a bin size of 30, the color should be red.\n",
    "- Set the title of the first subplot as 'Popularities.'\n",
    "- Set the label for the y-axis as 'Frequencies.'\n",
    "- Set the label for the x-axis as 'Popularity Category.'\n",
    "- Set the boundaries for the y-axis as 0 to 200.\n",
    "- Repeat the above steps for the 'BPM_Category' variable, creating a histogram with a bin size of 30 in the second subplot, the color should be blue.\n",
    "- Set the title of the second subplot as 'BPM Categories.'\n",
    "- Set the label for the y-axis as 'Frequencies.'\n",
    "- Set the label for the x-axis as 'BPM Category.'\n",
    "- Set the boundaries for the y-axis as 0 to 200."
   ]
  },
  {
   "cell_type": "code",
   "execution_count": 12,
   "id": "105d881d",
   "metadata": {
    "scrolled": true
   },
   "outputs": [
    {
     "data": {
      "image/png": "[encoded data removed]",
      "text/plain": [
       "<Figure size 1200x400 with 2 Axes>"
      ]
     },
     "metadata": {},
     "output_type": "display_data"
    }
   ],
   "source": [
    "#2pts\n",
    "%matplotlib inline\n",
    "sns.set_theme()\n",
    "\n",
    "fig, axs = plt.subplots(1, 2, figsize=(12, 4))\n",
    "sns.histplot(data=df, x=\"Popularity_Category\", binwidth=30, color=\"red\", ax=axs[0])\n",
    "sns.histplot(data=df, x=\"BPM_Category\", binwidth=30, color=\"blue\", ax=axs[1])\n",
    "\n",
    "axs[0].set(title=\"Popularities\", xlabel='Popularity Category', ylabel='Frequencies', ylim=(0, 200))\n",
    "axs[1].set(title=\"BPM Categories\", xlabel='BPM Category', ylabel='Frequencies', ylim=(0, 200))\n",
    "plt.show()"
   ]
  },
  {
   "cell_type": "markdown",
   "id": "836c2652",
   "metadata": {},
   "source": [
    "Now let's do some bi-variate analysis. If we want to plot the relationship between Energy and Loudness, think that which plot would be the appropriate choice.\n",
    "\n",
    "Visualize the relationship between the two according to the plot you choose. Loudness bounds must be -2-20 and energy limits must be 0-100. "
   ]
  },
  {
   "cell_type": "code",
   "execution_count": 15,
   "id": "59059134",
   "metadata": {},
   "outputs": [
    {
     "data": {
      "image/png": "[encoded data removed]",
      "text/plain": [
       "<Figure size 640x480 with 1 Axes>"
      ]
     },
     "metadata": {},
     "output_type": "display_data"
    }
   ],
   "source": [
    "#3pts\n",
    "energy_series = df[\"Energy\"]\n",
    "\n",
    "fig, ax = plt.subplots()\n",
    "sns.scatterplot(data=df, x=\"Loud\", y=\"Energy\", ax=ax)\n",
    "ax.set(title=\"Loudness vs. Energy\", xlim=(-20, -2), ylim=(0, 100), xlabel=\"Loudness\", ylabel=\"Energy\")\n",
    "# Show the plot\n",
    "plt.show()"
   ]
  },
  {
   "cell_type": "markdown",
   "id": "0478fa50",
   "metadata": {},
   "source": [
    "Now, create the plot which displays the average popularity of music albums over the years, with each data point representing a year, you can use a line graph with markers, and includes labels and appropriate y-limits ( It must be 5 units below the minimum popularity and 5 units above the maximum popularity.)  You can also rotate the x tick values ​​by 45 degrees. \n"
   ]
  },
  {
   "cell_type": "code",
   "execution_count": 25,
   "id": "834c778c",
   "metadata": {},
   "outputs": [
    {
     "data": {
      "image/png": "[encoded data removed]",
      "text/plain": [
       "<Figure size 1500x500 with 1 Axes>"
      ]
     },
     "metadata": {},
     "output_type": "display_data"
    }
   ],
   "source": [
    "#6pts\n",
    "popularity_series = df[\"Popularity\"]\n",
    "year_list = [date.split(\"-\")[0] for date in df[\"Album Date\"]]\n",
    "\n",
    "album_popularity = dict()\n",
    "for year, pop in zip(year_list, popularity_series):\n",
    "    if year in album_popularity:\n",
    "        album_popularity[year][0] += pop\n",
    "        album_popularity[year][1] += 1\n",
    "    else:\n",
    "        album_popularity[year] = [pop, 1]\n",
    "\n",
    "album_popularity = dict(sorted(album_popularity.items()))\n",
    "for year in album_popularity:\n",
    "    album_popularity[year] = album_popularity[year][0] / album_popularity[year][1]\n",
    "\n",
    "\n",
    "\n",
    "fig, ax = plt.subplots(figsize=(15, 5))\n",
    "\n",
    "years = list(album_popularity.keys())\n",
    "avg_pop = list(album_popularity.values())\n",
    "# plt.plot(years, avg_pop, marker='o', linestyle='-', markersize=8, color='b', label='Data Points')\n",
    "sns.lineplot(x=years, y=avg_pop, marker='o', linestyle='-', markersize=8, color=\"blue\", ax=ax)\n",
    "\n",
    "ax.set(xlabel=\"Years\", ylabel=\"Avarage Popularity\", ylim=(min(avg_pop) - 5, max(avg_pop) + 5))\n",
    "ax.tick_params(axis='x', labelrotation=45)\n",
    "\n",
    "plt.show()"
   ]
  },
  {
   "cell_type": "markdown",
   "id": "9f570b71",
   "metadata": {},
   "source": [
    "Now, let's create a plot that illustrates the average popularity of music albums across the months of the year. The plot should be in the form of a line graph with markers, with the x-axis representing the months (in a custom order from January to December) and the y-axis representing the average popularity. Make sure to include appropriate labels and set the y-axis limits to be 5 units below the minimum popularity and 5 units above the maximum popularity. Additionally, rotate the x-axis tick values by 45 degrees for better readability. "
   ]
  },
  {
   "cell_type": "code",
   "execution_count": null,
   "id": "f21e57fd",
   "metadata": {},
   "outputs": [],
   "source": [
    "#7pts\n"
   ]
  },
  {
   "cell_type": "markdown",
   "id": "d78afda9",
   "metadata": {},
   "source": [
    "Let's create more sophisticated plot. In this question you will also make some operations on the dataset again.\n",
    "\n",
    "Visualize and compare the BPM (Beats Per Minute) levels in the music of four different artists: Lorde, Big Thief, Wolf Alice and Phoebe Bridgers. The data is presented in a countplot with three categories for BPM levels: Slow, Medium, and Fast. Each artist's contribution to each BPM category is shown using a different color. The y-axis represents the frequency of songs falling into each BPM category. Set the y-axis limits to a range of 0 to 10 for better clarity.\n",
    "\n",
    "You already see the answer below as an example, you can use inferno as the color code. There may be slight differences in styling, but we expect a very similar answer. Please be careful with the order of x-axis.\n"
   ]
  },
  {
   "cell_type": "markdown",
   "id": "c23869fc",
   "metadata": {},
   "source": [
    "<img src=\"https://i.imgur.com/EAk2mcB.png\" alt=\"barplot-210\" border=\"0\" width=\"500\">\n"
   ]
  },
  {
   "cell_type": "code",
   "execution_count": null,
   "id": "8ffd7342",
   "metadata": {},
   "outputs": [],
   "source": [
    "#7pts"
   ]
  },
  {
   "cell_type": "markdown",
   "id": "4f6982af",
   "metadata": {},
   "source": [
    "We are approaching the end. Visualize the aggregated Energy and Acoustic values of songs categorized by the top 10 most common genres in the dataset.\n",
    "\n",
    "The final visualization should be a stacked bar chart where each bar represents one of the top 10 genres, and the height of the colored segments within each bar denotes the sum of Energy and Acoustic values for songs in that genre. This allows for a quick comparative view of how energetic or acoustic songs from each of the top genres tend to be.\n",
    "\n",
    "You already see the answer below as an example, you can use ['#669bbc', '#003049'] colors. There may be slight differences in styling, but we expect a very similar answer.\n"
   ]
  },
  {
   "cell_type": "markdown",
   "id": "33541312",
   "metadata": {},
   "source": [
    "<img src=\"https://i.imgur.com/eM0q688.png\" alt=\"barplot-210\" border=\"0\" width=\"500\">\n"
   ]
  },
  {
   "cell_type": "code",
   "execution_count": null,
   "id": "a55ccd62",
   "metadata": {},
   "outputs": [],
   "source": [
    "#7pts"
   ]
  },
  {
   "cell_type": "markdown",
   "id": "6538dce6",
   "metadata": {},
   "source": [
    "Now, show the correlations of numerical columns in a heatmap, don't forget that you must only use numerical columns. You can use inferno as a color map."
   ]
  },
  {
   "cell_type": "code",
   "execution_count": null,
   "id": "a2c7de0d",
   "metadata": {},
   "outputs": [],
   "source": [
    "#4pts"
   ]
  },
  {
   "cell_type": "markdown",
   "id": "092f05cf",
   "metadata": {},
   "source": [
    "And we will conclude the assignment with a simple question. Though this question isn't directly related to visualization, you must retrieve and print the HTML content of the chat URL you used in ChatGPT using BeautifulSoup. "
   ]
  },
  {
   "cell_type": "code",
   "execution_count": null,
   "id": "99fce349",
   "metadata": {},
   "outputs": [],
   "source": [
    "#4pts\n",
    "print(\"HTML content: \")"
   ]
  },
  {
   "cell_type": "markdown",
   "id": "84b32c14",
   "metadata": {},
   "source": [
    "Congratulations! You've reached the end of your assignment. In this assignment, we dealt with data questions about albums, artists, and many music related data over Spotify data. I hope it has been a fun process.\n",
    "\n",
    "**If you want to listen to the playlist we analyzed:**\n",
    "https://open.spotify.com/playlist/4wyQnWDDys6T8A2ni96VfG?si=1c69c078d81f47f5\n",
    "\n",
    "See you later!\n",
    "    \n",
    "<img src=\"https://i.imgur.com/KSbQFe7.png\" alt=\"barplot-210\" border=\"0\" width=\"300\">\n",
    "\n",
    "***dall-e prompt***: an oil painting of data science student does homework in pain\n",
    "\n"
   ]
  }
 ],
 "metadata": {
  "kernelspec": {
   "display_name": "Python 3 (ipykernel)",
   "language": "python",
   "name": "python3"
  },
  "language_info": {
   "codemirror_mode": {
    "name": "ipython",
    "version": 3
   },
   "file_extension": ".py",
   "mimetype": "text/x-python",
   "name": "python",
   "nbconvert_exporter": "python",
   "pygments_lexer": "ipython3",
   "version": "3.12.0"
  }
 },
 "nbformat": 4,
 "nbformat_minor": 5
}
