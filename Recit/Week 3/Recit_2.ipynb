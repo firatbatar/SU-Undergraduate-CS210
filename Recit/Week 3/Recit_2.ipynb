{
 "cells": [
  {
   "cell_type": "markdown",
   "metadata": {
    "id": "-IlSZ8YyB_up"
   },
   "source": [
    "# CS 210 - Recitation #2 - Introduction to Numpy, Matplotlib and Pandas\n",
    "\n",
    "## Numpy\n",
    "\n",
    "NumPy (short for Numerical Python) is a popular open-source Python library used for scientific computing and data analysis. It provides a powerful array object that can hold and manipulate large multidimensional arrays and matrices of numerical data, as well as a collection of functions for performing various mathematical operations on these arrays.\n",
    "\n",
    "NumPy's array object is more efficient than Python's built-in data structures for working with large amounts of data, particularly when dealing with mathematical operations. More information can be obtained from [this link.](https://docs.scipy.org/doc/numpy/reference/index.html)"
   ]
  },
  {
   "cell_type": "code",
   "execution_count": 1,
   "metadata": {
    "ExecuteTime": {
     "end_time": "2019-02-23T20:09:00.343719Z",
     "start_time": "2019-02-23T20:09:00.101323Z"
    },
    "id": "Ipni6DYnB_uq"
   },
   "outputs": [],
   "source": [
    "# np as an alias for numpy, and we generally define it in this way.\n",
    "import numpy as np"
   ]
  },
  {
   "cell_type": "markdown",
   "metadata": {
    "id": "dmRMS85CB_ut"
   },
   "source": [
    "### Arrays\n",
    "\n",
    "It's basically alternative to list concept in Python, however there are key differences you might want to know: \n",
    "- Numpy arrays can only contain elements of the same data type. \n",
    "- NumPy arrays are much faster than lists in Python because they are implemented in C and can take advantage of low-level optimizations.\n",
    "- NumPy arrays take up less memory than Python lists, especially for large arrays, because they store data in a contiguous (yakın) block of memory."
   ]
  },
  {
   "cell_type": "code",
   "execution_count": 2,
   "metadata": {
    "ExecuteTime": {
     "end_time": "2019-02-23T18:37:39.966455Z",
     "start_time": "2019-02-23T18:37:39.959770Z"
    },
    "colab": {
     "base_uri": "https://localhost:8080/"
    },
    "id": "4k37qSiNB_uu",
    "outputId": "9bdda413-a7d3-4c63-880b-7eec96ce7061"
   },
   "outputs": [
    {
     "name": "stdout",
     "output_type": "stream",
     "text": [
      "[1 2 3]\n",
      "rank: 1\n",
      "shape: (3,)\n",
      "size: 3\n",
      "dtype: int32\n",
      "first element 1\n"
     ]
    }
   ],
   "source": [
    "ndarray = np.array([1, 2, 3])\n",
    "\n",
    "print(ndarray)\n",
    "\n",
    "# returns the number of dimensions, in other words the length of shape attribute\n",
    "print(\"rank: {}\".format(ndarray.ndim))\n",
    "\n",
    "# a tuple that represents the size of each dimension\n",
    "print(\"shape: {}\".format(ndarray.shape))\n",
    "\n",
    "# total number of elements in the array\n",
    "print(\"size: {}\".format(ndarray.size))\n",
    "\n",
    "# the data type of the elements\n",
    "print(\"dtype: {}\".format(ndarray.dtype))\n",
    "\n",
    "print(\"first element {}\".format(ndarray[0]))  # indexing to access an element, as you see indexing is just like in the lists."
   ]
  },
  {
   "cell_type": "code",
   "execution_count": 3,
   "metadata": {
    "ExecuteTime": {
     "end_time": "2019-02-23T18:37:40.367600Z",
     "start_time": "2019-02-23T18:37:40.360199Z"
    },
    "colab": {
     "base_uri": "https://localhost:8080/"
    },
    "id": "ubPm80EGB_ux",
    "outputId": "e1112dc1-2e69-4f46-994e-68ed4fc51260"
   },
   "outputs": [
    {
     "name": "stdout",
     "output_type": "stream",
     "text": [
      "[[1. 2. 3.]\n",
      " [3. 4. 5.]\n",
      " [6. 7. 8.]]\n",
      "rank: 2\n",
      "shape: (3, 3)\n",
      "size: 9\n",
      "dtype: float64\n",
      "element @ row: 0, col: 1 -> 2.0\n"
     ]
    }
   ],
   "source": [
    "# another example with a 2d nested list\n",
    "ndarray = np.array([[1, 2, 3], [3, 4, 5], [6, 7, 8]], dtype=float)  # dtype parameter is important but not necessary\n",
    "                                                                    # we basically converted elements from int32 to float.\n",
    "\n",
    "print(ndarray)\n",
    "print(\"rank: {}\".format(ndarray.ndim))\n",
    "print(\"shape: {}\".format(ndarray.shape))\n",
    "print(\"size: {}\".format(ndarray.size))\n",
    "print(\"dtype: {}\".format(ndarray.dtype))\n",
    "\n",
    "row = 0\n",
    "col = 1\n",
    "print(\"element @ row: {}, col: {} -> {}\".format(row, col, ndarray[row,col]))  # since we have a 2d array"
   ]
  },
  {
   "cell_type": "markdown",
   "metadata": {
    "id": "dN98I45_B_u3"
   },
   "source": [
    "### Data types\n",
    "\n",
    "In addition to the existing native Python data types, such as `int` and `float`, Numpy has its own numeric data types as well. Numpy tries to guess a datatype when you create an array.\n",
    "\n",
    "``` py\n",
    ">>> ndarray = np.array([[1, 2, 3, 4, 5, 6]])\n",
    ">>> ndarray.dtype\n",
    "    dtype('int64')\n",
    "```\n",
    "\n",
    "We can change the data type of an array with additional `dtype` parameter just like in the cell above; \n",
    "\n",
    "``` py\n",
    ">>> ndarray = np.array([[1, 2, 3, 4, 5, 6]], dtype=np.int32)\n",
    ">>> ndarray.dtype\n",
    "    dtype('int32')\n",
    "```\n",
    "\n",
    "Or, after the array is created.\n",
    "\n",
    "``` py\n",
    ">>> ndarray = np.array([[1, 2, 3, 4, 5, 6]])\n",
    ">>> ndarray.dtype = np.float64\n",
    ">>> ndarray.dtype\n",
    "    dtype('float64')\n",
    "```\n",
    "\n",
    "Deciding on the data type may affect the performance depending on the context of the problem.  \n",
    "Full list of available data types can be observed from this [link.](https://docs.scipy.org/doc/numpy-1.13.0/user/basics.types.html)"
   ]
  },
  {
   "cell_type": "markdown",
   "metadata": {
    "id": "dxOQu6atB_u2"
   },
   "source": [
    "### More on array creation\n",
    "\n",
    "We also have array utilities that help us create special ndarrays.\n",
    "\n",
    "``` py\n",
    ">>> a = np.zeros((2,2)) # 2x2 array with full of zeros.\n",
    ">>> print(a)\n",
    "    [[ 0.  0.]\n",
    "    [ 0.  0.]]\n",
    "```\n",
    "\n",
    "``` py\n",
    ">>> a = np.ones((2,2)) # 2x2 array with full of ones.\n",
    ">>> print(a)\n",
    "    [[ 1.  1.]\n",
    "    [ 1.  1.]]\n",
    "```\n",
    "\n",
    "``` py\n",
    ">>> a = np.full((2,2), 3)  # 2x2 creates a constant array (in that case values equal to 3.)\n",
    ">>> print(a)               \n",
    "    [[ 3.  3.]\n",
    "    [ 3.  3.]]\n",
    "```\n",
    "\n",
    "``` py\n",
    ">>> a = np.eye(2)  # creates an identity matrix, it may be useful in linear algebra operations.\n",
    ">>> print(a)              \n",
    "    [[ 1.  0.]\n",
    "    [ 0.  1.]]\n",
    "```\n",
    "\n",
    "``` py\n",
    ">>> a = np.random.random((2,2))  # creates an array filled with random values\n",
    ">>> print(a)                     # a possible output\n",
    "    [[ 0.91940167  0.08143941]\n",
    "    [ 0.68744134  0.87236687]]\n",
    "```\n",
    "\n",
    "Normally in Python, we have `range` statement to create a sequence that can be converted to a list."
   ]
  },
  {
   "cell_type": "code",
   "execution_count": null,
   "metadata": {
    "colab": {
     "base_uri": "https://localhost:8080/"
    },
    "id": "_5fHGInDmYXj",
    "outputId": "13bd0eaf-9909-4b8c-e2da-0147417c259d"
   },
   "outputs": [],
   "source": [
    "lst = list(range(1,10,2))\n",
    "print(lst)"
   ]
  },
  {
   "cell_type": "markdown",
   "metadata": {
    "id": "v-5hM282mdRx"
   },
   "source": [
    "With Numpy, we can create more sophisticated arrays."
   ]
  },
  {
   "cell_type": "code",
   "execution_count": null,
   "metadata": {
    "colab": {
     "base_uri": "https://localhost:8080/"
    },
    "id": "-fltVyrHmivZ",
    "outputId": "cc695e91-07a2-4d75-a674-888b8acd6e2c"
   },
   "outputs": [],
   "source": [
    "ndarray = np.arange(8,20,4)  # start, end (excluding), stride (stride means stepsize)\n",
    "ndarray"
   ]
  },
  {
   "cell_type": "code",
   "execution_count": null,
   "metadata": {
    "colab": {
     "base_uri": "https://localhost:8080/"
    },
    "id": "i4PAHzlbmdcB",
    "outputId": "70b1a6d3-6868-4a05-f156-40a82bc4d773"
   },
   "outputs": [],
   "source": [
    "ndarray = np.linspace(10, 100, 5)  # start, end (including), number of elements. \n",
    "ndarray"
   ]
  },
  {
   "cell_type": "markdown",
   "metadata": {
    "id": "UcE2RtKZm5eX"
   },
   "source": [
    "Another great tool of Numpy is the `reshape` function that allows us to change the shape of the ndarray."
   ]
  },
  {
   "cell_type": "code",
   "execution_count": null,
   "metadata": {
    "colab": {
     "base_uri": "https://localhost:8080/"
    },
    "id": "7PCboGPUmvjo",
    "outputId": "2df5d4fc-2d3e-4ae5-ab9c-459d7e75233d"
   },
   "outputs": [],
   "source": [
    "ndarray = np.arange(35).reshape(5,7) #with arange we created the following array : [0,1,2.....34] and then we converted into the matrix.\n",
    "ndarray "
   ]
  },
  {
   "cell_type": "markdown",
   "metadata": {
    "id": "y2zn8IiOB_u2"
   },
   "source": [
    "### Array Indexing\n",
    "\n",
    "As mentioned before, Numpy has a flexible indexing mechanism compared to native Python.\n",
    "\n",
    "![](http://scipy-lectures.org/_images/numpy_indexing.png)\n",
    "\n",
    "*Image obtained from http://scipy-lectures.org/intro/numpy/array_object.html*"
   ]
  },
  {
   "cell_type": "code",
   "execution_count": null,
   "metadata": {
    "colab": {
     "base_uri": "https://localhost:8080/"
    },
    "id": "VwpkEWc0WmFP",
    "outputId": "2df69682-75e9-4d16-e1aa-661174ddd713"
   },
   "outputs": [],
   "source": [
    "ndarray = np.array([[1,2,3,4], [5,6,7,8], [9,10,11,12]])\n",
    "print(ndarray)\n",
    "ndarray[:2, 1:3] # first term means take the first two rows (0,1), \n",
    "                 # second term means take the columns from the first one until the third but third one is excluded.\n",
    "    \n",
    "#ndarray[startrow:endrow:increasingvalue, startcol:endcol:inc]"
   ]
  },
  {
   "cell_type": "markdown",
   "metadata": {
    "id": "2HmhlTfPXBXu"
   },
   "source": [
    "One method is to use **integer array indexing**. It may look tricky but it's pretty easy. For instance when you define it as ndarray[[1, 1, 0, 2]], what we want is taking 1st, 1st, 0th, 2nd indexes in order. Let's see this in the following example."
   ]
  },
  {
   "cell_type": "code",
   "execution_count": null,
   "metadata": {
    "colab": {
     "base_uri": "https://localhost:8080/"
    },
    "id": "8XdtIq9rXBqZ",
    "outputId": "95007641-4694-4d31-bea3-e3b7f033b5a1"
   },
   "outputs": [],
   "source": [
    "ndarray = np.array([[1, 2], [3, 4], [5, 6]])\n",
    "print(ndarray)\n",
    "ndarray[[1, 1, 0, 2]]"
   ]
  },
  {
   "cell_type": "markdown",
   "metadata": {
    "id": "qBXVGD_fATBT"
   },
   "source": [
    "A visual description about how integer array indexing works:\n",
    "\n",
    "![](https://i.ibb.co/YRzSNkH/integerindexing.png)"
   ]
  },
  {
   "cell_type": "markdown",
   "metadata": {
    "id": "PGcdq6tfXVbM"
   },
   "source": [
    "**Boolean indexing**"
   ]
  },
  {
   "cell_type": "code",
   "execution_count": 4,
   "metadata": {
    "colab": {
     "base_uri": "https://localhost:8080/"
    },
    "id": "_x899LAfXYk8",
    "outputId": "15468917-3e86-401e-f801-c4e66b0771bf",
    "scrolled": true
   },
   "outputs": [
    {
     "name": "stdout",
     "output_type": "stream",
     "text": [
      "[[False False False False False  True]]\n",
      "[6]\n",
      "[4 5 6]\n"
     ]
    }
   ],
   "source": [
    "ndarray = np.array([[1, 2, 3, 4, 5, 6]])\n",
    "print(ndarray > 5)\n",
    " \n",
    "print(ndarray[ndarray > 5]) #For every element it checks if given element is bigger than 5 or not.\n",
    "print(ndarray[ndarray > 3])"
   ]
  },
  {
   "cell_type": "markdown",
   "metadata": {
    "id": "mkgqqP2gB_u4"
   },
   "source": [
    "### Array Math\n",
    "\n",
    "Mathematical functions operate elementwise on arrays. Normally in Python, when we do [1,2] + [5,6] it gives [1,2,5,6] as an output. We did concat operation here but my desire was to acquire [6,8]. Numpy allows to do that."
   ]
  },
  {
   "cell_type": "code",
   "execution_count": null,
   "metadata": {
    "ExecuteTime": {
     "end_time": "2019-02-23T21:01:47.963248Z",
     "start_time": "2019-02-23T21:01:47.889668Z"
    },
    "colab": {
     "base_uri": "https://localhost:8080/"
    },
    "id": "QejEA9YOB_u5",
    "outputId": "4d03edea-a217-406f-f9f9-049dad969cd2"
   },
   "outputs": [],
   "source": [
    "x = np.array([[1,2],[3,4]], dtype=np.float64)\n",
    "y = np.array([[5,6],[7,8]], dtype=np.float64)\n",
    "print(x)\n",
    "print(y)\n",
    "\n",
    "\n",
    "\n",
    "print(\"scalar summation\")\n",
    "print(x + 5) #it adds five to every element.\n",
    "print()\n",
    "\n",
    "print(\"array-wise summation\") #it does element-wise summation.\n",
    "print(x + y)\n",
    "print()\n",
    "\n",
    "print(np.add(x, y))  # same as the previous one\n",
    "print()\n",
    "\n",
    "print(\"subtraction\") #it does element-wise substraction.\n",
    "print(x - y)\n",
    "print()\n",
    "\n",
    "print(np.subtract(x, y)) # now you know it's the same.\n",
    "print()\n",
    "\n",
    "print(\"multiplication\") # same comments, you know the logic behind now.\n",
    "print(x * y)\n",
    "print()\n",
    "\n",
    "print(np.multiply(x, y))  \n",
    "print()\n",
    "\n",
    "print(\"divison\")\n",
    "print(x / y)\n",
    "print()\n",
    "\n",
    "print(np.divide(x, y))\n",
    "print()\n",
    "\n",
    "print(\"square root\")\n",
    "print(np.sqrt(x))"
   ]
  },
  {
   "cell_type": "code",
   "execution_count": 7,
   "metadata": {
    "ExecuteTime": {
     "end_time": "2019-02-23T21:12:09.993513Z",
     "start_time": "2019-02-23T21:12:09.967532Z"
    },
    "colab": {
     "base_uri": "https://localhost:8080/"
    },
    "id": "SiAX4dcZB_u7",
    "outputId": "4bfa0b26-062b-436a-c6e4-83bb33d74568"
   },
   "outputs": [
    {
     "name": "stdout",
     "output_type": "stream",
     "text": [
      "inner-product of vectors\n",
      "219\n",
      "219\n",
      "\n",
      "element-wise product\n",
      "[[ 5 12]\n",
      " [21 32]]\n",
      "\n",
      "Matrix product\n",
      "[[19 22]\n",
      " [43 50]]\n",
      "[[19 22]\n",
      " [43 50]]\n",
      "\n",
      "np.matmul can also be used\n",
      "[[19 22]\n",
      " [43 50]]\n",
      "\n",
      "\n",
      " [29 67]\n"
     ]
    }
   ],
   "source": [
    "'''Now it will be a bit harder. You may know matrix-wise operations from MATH201 - Linear Algebra course. We can do small\n",
    "recap here. Inner product of vectors multiplies corresponding elements (for example it multiplies second element with\n",
    "second one, third element with third one etc). Element-wise product is similar to the previous one but it's output is \n",
    "still matrix. It will be clear with example. Matrix product is same as matrix multiplication. Matrix multiplication is \n",
    "sort of a deeper concept. For example for 2x2 matrix: it takes dot product of first row and first column and the result become\n",
    "the upper left of output. It will also be clear with example.\n",
    "'''\n",
    "\n",
    "x = np.array([[1,2],[3,4]])\n",
    "y = np.array([[5,6],[7,8]])\n",
    "\n",
    "v = np.array([9,10])\n",
    "w = np.array([11, 12])\n",
    "\n",
    "print(\"inner-product of vectors\")\n",
    "print(v.dot(w))\n",
    "print(np.dot(v, w))\n",
    "print()\n",
    "\n",
    "print(\"element-wise product\")\n",
    "print(x * y)\n",
    "print()\n",
    "\n",
    "print(\"Matrix product\")\n",
    "print(x.dot(y))\n",
    "print(np.dot(x, y))\n",
    "print()\n",
    "\n",
    "print(\"np.matmul can also be used\")\n",
    "print(np.matmul(x, y))\n",
    "\n",
    "print(\"\\n\\n\", x.dot(v))"
   ]
  },
  {
   "cell_type": "markdown",
   "metadata": {
    "id": "0ifurn2ObhEq"
   },
   "source": [
    "#### Apply Along an Axis\n",
    "\n",
    "![](https://ipython-books.github.io/pages/chapter01_basic/images/numpy.png)\n",
    "\n",
    "*Image obtained from https://ipython-books.github.io/13-introducing-the-multidimensional-array-in-numpy-for-fast-array-computations/)*"
   ]
  },
  {
   "cell_type": "code",
   "execution_count": 8,
   "metadata": {
    "ExecuteTime": {
     "end_time": "2019-02-23T21:12:15.170344Z",
     "start_time": "2019-02-23T21:12:15.161255Z"
    },
    "colab": {
     "base_uri": "https://localhost:8080/"
    },
    "id": "tTF1Hsy3B_u-",
    "outputId": "603526c1-503d-4917-bea9-703b48ed5add"
   },
   "outputs": [
    {
     "name": "stdout",
     "output_type": "stream",
     "text": [
      "[[1 2]\n",
      " [3 4]]\n",
      "10\n",
      "[4 6]\n",
      "[3 7]\n"
     ]
    }
   ],
   "source": [
    "x = np.array([[1,2],[3,4]])\n",
    "\n",
    "print(x)\n",
    "\n",
    "# sum of all elements in the array\n",
    "print(np.sum(x))\n",
    "\n",
    "# sum of each column\n",
    "print(np.sum(x, axis=0))  \n",
    "\n",
    "# sum of each row\n",
    "print(np.sum(x, axis=1))"
   ]
  },
  {
   "cell_type": "code",
   "execution_count": 12,
   "metadata": {
    "ExecuteTime": {
     "end_time": "2019-02-24T11:17:36.686617Z",
     "start_time": "2019-02-24T11:17:36.662614Z"
    },
    "colab": {
     "base_uri": "https://localhost:8080/"
    },
    "id": "4oShUYNuB_vD",
    "outputId": "5322faa1-173f-4535-b5f4-19f45df733f3"
   },
   "outputs": [
    {
     "name": "stdout",
     "output_type": "stream",
     "text": [
      "[0 1 2 3 4 5 6 7 8 9]\n",
      "Mean value is:  4.5\n",
      "Max value is:  9\n",
      "Min value is:  0\n"
     ]
    }
   ],
   "source": [
    "x = np.arange(10)\n",
    "print(x)\n",
    "print(\"Mean value is: \", x.mean())\n",
    "print(\"Max value is: \", x.max())\n",
    "print(\"Min value is: \", x.min())"
   ]
  },
  {
   "cell_type": "code",
   "execution_count": 13,
   "metadata": {
    "ExecuteTime": {
     "end_time": "2019-02-24T11:23:09.330822Z",
     "start_time": "2019-02-24T11:23:09.303417Z"
    },
    "colab": {
     "base_uri": "https://localhost:8080/"
    },
    "id": "OTXsKvErB_vF",
    "outputId": "5ea9414a-3a09-4c68-95b5-f5194368986b"
   },
   "outputs": [
    {
     "name": "stdout",
     "output_type": "stream",
     "text": [
      "[[0 1 2 3 4]\n",
      " [5 6 7 8 9]]\n",
      "Mean value is:  [2.5 3.5 4.5 5.5 6.5]\n",
      "Max value is:  [5 6 7 8 9]\n",
      "Min value is:  [0 1 2 3 4]\n"
     ]
    }
   ],
   "source": [
    "x = np.arange(10).reshape(2, 5)\n",
    "\n",
    "print(x)\n",
    "\n",
    "# axis=0 column wise\n",
    "print(\"Mean value is: \", x.mean(axis=0))\n",
    "print(\"Max value is: \", x.max(axis=0))\n",
    "print(\"Min value is: \", x.min(axis=0))"
   ]
  },
  {
   "cell_type": "markdown",
   "metadata": {
    "id": "YBjeeVFaB_vH"
   },
   "source": [
    "### Back to reshaping\n",
    "\n",
    "The shape of an array can be changed with various commands.\n"
   ]
  },
  {
   "cell_type": "code",
   "execution_count": 14,
   "metadata": {
    "colab": {
     "base_uri": "https://localhost:8080/"
    },
    "id": "Bicm62Z8DMyw",
    "outputId": "70dbb189-5180-4bc7-e89c-fb468dde747b"
   },
   "outputs": [
    {
     "name": "stdout",
     "output_type": "stream",
     "text": [
      "[[0 1 2 3 4]\n",
      " [5 6 7 8 9]]\n",
      "[[0 1]\n",
      " [2 3]\n",
      " [4 5]\n",
      " [6 7]\n",
      " [8 9]]\n"
     ]
    }
   ],
   "source": [
    "# import numpy as np\n",
    "\n",
    "print(x.reshape(2, 5))  # returns the array with a modified shape\n",
    "       \n",
    "x.resize(5, 2)  # modifies the array itself\n",
    "print(x)"
   ]
  },
  {
   "cell_type": "markdown",
   "metadata": {
    "id": "xBX6cnFrDaRa"
   },
   "source": [
    "If a dimension is given as -1 in a reshaping operation, the other dimensions are automatically calculated.\n"
   ]
  },
  {
   "cell_type": "code",
   "execution_count": null,
   "metadata": {
    "colab": {
     "base_uri": "https://localhost:8080/"
    },
    "id": "FO7elLfRGo69",
    "outputId": "89cc82ad-e369-49ea-da15-b2c3c725543c"
   },
   "outputs": [],
   "source": [
    "x = np.arange(12)\n",
    "x.reshape(4, -1)  # number of cols is to be guessed by numpy"
   ]
  },
  {
   "cell_type": "markdown",
   "metadata": {
    "id": "LWjq_vTqGjIB"
   },
   "source": [
    "\n",
    "\n",
    "In some cases, we need the flatten version of the array. Flatten means converting matrix to a 1D array.\n",
    "\n"
   ]
  },
  {
   "cell_type": "code",
   "execution_count": 15,
   "metadata": {
    "colab": {
     "base_uri": "https://localhost:8080/"
    },
    "id": "KfJHs0qdGwvY",
    "outputId": "f258c73f-b8e3-4034-8df6-ae127ec530a7"
   },
   "outputs": [
    {
     "name": "stdout",
     "output_type": "stream",
     "text": [
      "[[0 1 2 3 4]\n",
      " [5 6 7 8 9]]\n",
      "[-1  1  2  3  4  5  6  7  8  9]\n",
      "(10,)\n",
      "[[-1  1  2  3  4]\n",
      " [ 5  6  7  8  9]]\n",
      "[-1  1  2  3  4  5  6  7  8  9]\n",
      "(10,)\n"
     ]
    }
   ],
   "source": [
    "x = np.arange(10).reshape(2, 5)\n",
    "y = x.flatten() \n",
    "y[0] = -1\n",
    "print(x)\n",
    "print(y)\n",
    "print(y.shape)\n",
    "\n",
    "\n",
    "x = np.arange(10).reshape(2, 5)\n",
    "y = x.ravel()\n",
    "y[0] = -1\n",
    "print(x)\n",
    "print(y)\n",
    "print(y.shape)"
   ]
  },
  {
   "cell_type": "markdown",
   "metadata": {
    "id": "Nt8GGz8JGzJ4"
   },
   "source": [
    "\n",
    "\n",
    "`ravel`and `flatten` have the same effect on arrays. However, the new array created using ravel is actually a reference to the parent array. So, any changes to the new array will affect the parent as well. But it is memory efficient since it does not create a copy."
   ]
  },
  {
   "cell_type": "markdown",
   "metadata": {
    "id": "e6P9N9VlB_vQ"
   },
   "source": [
    "### Random\n",
    "\n",
    "The `random` module provides nice functions to generate random numbers (and also statistical distributions) of any given shape.\n",
    "\n",
    "``` py\n",
    "# random numbers between [0,1) of shape 2,2\n",
    ">>> np.random.rand(2,2)\n",
    "[[0.60332224 0.37830503]\n",
    " [0.1736118  0.38234196]]\n",
    " \n",
    "# standard normal distribution with mean=0 and variance=1 of shape 2,2\n",
    ">>> np.random.randn(2,2)\n",
    "[[-2.10285019  0.4114038 ]\n",
    " [-0.65259364 -0.05859651]]\n",
    "\n",
    "# random integers between [0, 10) of shape 2,2\n",
    ">>> np.random.randint(0, 10, size=[2,2])\n",
    "[[8 9]\n",
    " [9 9]]\n",
    "\n",
    "# one random number between [0,1)\n",
    ">>> np.random.random()\n",
    "0.8150009405258001\n",
    "\n",
    "# random numbers between [0,1) of shape 2,2\n",
    ">>> np.random.random(size=[2,2])\n",
    "[[0.64642465 0.22353422]\n",
    " [0.97918432 0.44304317]]\n",
    "\n",
    "# pick 10 items from a given list, with equal probability\n",
    ">>> np.random.choice(['a', 'e', 'i', 'o', 'u'], size=10)\n",
    "['o' 'e' 'i' 'a' 'i' 'a' 'e' 'u' 'e' 'i']\n",
    "\n",
    "# pick 10 items from a given list with a predefined probabilities\n",
    ">> np.random.choice(['a', 'e', 'i', 'o', 'u'], \n",
    "    size=10, p=[0.3, .1, 0.1, 0.4, 0.1])\n",
    "['o' 'o' 'o' 'o' 'o' 'i' 'o' 'e' 'e' 'u']\n",
    "```"
   ]
  },
  {
   "cell_type": "markdown",
   "metadata": {
    "id": "MtjSzC_ZADaD"
   },
   "source": [
    "# Matplotlib\n",
    "\n",
    "Matplotlib is a data visualization library for Python that provides a range of tools for creating high-quality visualizations in various formats, including graphs, plots, charts, and other visual representations of data. It is built on top of NumPy and provides a convenient interface for creating static, animated, and interactive visualizations in Python.\n",
    "\n",
    "Matplotlib allows users to create a wide range of visualizations, including line plots, scatter plots, bar charts, histograms, and more. It also provides a range of customization options, allowing users to fine-tune the appearance of their plots to meet specific requirements. \n",
    "![](https://matplotlib.org/_images/sphx_glr_scatter_demo2_0011.png)\n",
    "\n",
    "*Image obtained from https://matplotlib.org/gallery/lines_bars_and_markers/scatter_demo2.html*"
   ]
  },
  {
   "cell_type": "code",
   "execution_count": 1,
   "metadata": {
    "ExecuteTime": {
     "end_time": "2019-09-24T11:15:14.480692Z",
     "start_time": "2019-09-24T11:15:14.161943Z"
    },
    "id": "cBWhIplTADaE"
   },
   "outputs": [],
   "source": [
    "import matplotlib.pyplot as plt  # we'll be using pyplot with plt alias\n",
    "import numpy as np\n",
    "\n",
    "# graphs will be included in the notebook\n",
    "%matplotlib inline"
   ]
  },
  {
   "cell_type": "code",
   "execution_count": 6,
   "metadata": {
    "ExecuteTime": {
     "end_time": "2019-09-24T11:15:15.300489Z",
     "start_time": "2019-09-24T11:15:15.195747Z"
    },
    "colab": {
     "base_uri": "https://localhost:8080/",
     "height": 265
    },
    "id": "F17pJn0gADaK",
    "outputId": "3a6e447d-8426-4de6-b08d-fdd08e9c7620"
   },
   "outputs": [
    {
     "data": {
      "image/png": "[encoded data removed]",
      "text/plain": [
       "<Figure size 640x480 with 1 Axes>"
      ]
     },
     "metadata": {},
     "output_type": "display_data"
    }
   ],
   "source": [
    "n = 5\n",
    "x_values = np.arange(n) #output is [0,1,2,3,4]\n",
    "y_values = np.square(x_values) #output is [0,1,4,9,16] basically y = x^2 \n",
    "\n",
    "plt.plot(x_values, y_values,color=\"blue\",linestyle=\" \",marker=\"*\") #it will create scatter plot with blue stars. try linestyle:-\n",
    "plt.show()"
   ]
  },
  {
   "cell_type": "code",
   "execution_count": 13,
   "metadata": {
    "ExecuteTime": {
     "end_time": "2019-09-24T11:15:15.616743Z",
     "start_time": "2019-09-24T11:15:15.488252Z"
    },
    "colab": {
     "base_uri": "https://localhost:8080/",
     "height": 265
    },
    "id": "d3NSIe5CADaN",
    "outputId": "9131808b-edd4-4826-cddc-c509cebbfb58"
   },
   "outputs": [
    {
     "data": {
      "image/png": "[encoded data removed]",
      "text/plain": [
       "<Figure size 640x480 with 1 Axes>"
      ]
     },
     "metadata": {},
     "output_type": "display_data"
    }
   ],
   "source": [
    "# let's plot cosine and sine functions\n",
    "x = np.linspace(-np.pi, np.pi, 256, endpoint=True)\n",
    "c = np.cos(x) # y=cos(x)\n",
    "s = np.sin(x) # y=sin(x)\n",
    "\n",
    "plt.plot(x, c)  # first parameter x-axis, second one y-axis\n",
    "plt.plot(x, s)\n",
    "plt.show()"
   ]
  },
  {
   "cell_type": "markdown",
   "metadata": {
    "id": "MZH1XRMS_rLu"
   },
   "source": [
    "## Chart Elements\n",
    "\n",
    "<img height=\"500\" width=\"500\" src=\"https://matplotlib.org/_images/anatomy.png\"></img>\n",
    "\n",
    "*Image obtained from https://matplotlib.org*"
   ]
  },
  {
   "cell_type": "code",
   "execution_count": 18,
   "metadata": {
    "ExecuteTime": {
     "end_time": "2019-09-24T11:15:16.065643Z",
     "start_time": "2019-09-24T11:15:15.837463Z"
    },
    "colab": {
     "base_uri": "https://localhost:8080/",
     "height": 295
    },
    "id": "eTCjWHtDADaP",
    "outputId": "1b6cac23-c326-4590-833c-a8b148afdfa9"
   },
   "outputs": [
    {
     "data": {
      "image/png": "[encoded data removed]",
      "text/plain": [
       "<Figure size 640x480 with 1 Axes>"
      ]
     },
     "metadata": {},
     "output_type": "display_data"
    }
   ],
   "source": [
    "# playing with the defaults\n",
    "x = np.linspace(-np.pi, np.pi, 256, endpoint=True)\n",
    "c = np.cos(x)\n",
    "s = np.sin(x)\n",
    "\n",
    "# blue color with a continuous line of width 1 (pixels)\n",
    "plt.plot(x, c, color=\"blue\", linewidth=1.0, linestyle=\":\", label=\"cosine\")\n",
    "\n",
    "# green color with a continuous line of width 1 (pixels)\n",
    "plt.plot(x, s, color=\"green\", linewidth=1.0, linestyle=\"-.\", label=\"sine\")\n",
    "\n",
    "# set x limits\n",
    "plt.xlim(-4.0,4.0)\n",
    "# set y limits\n",
    "plt.ylim(-1.0,1.0)\n",
    "\n",
    "# set x ticks\n",
    "plt.xticks(np.linspace(-4,4,9,endpoint=True))\n",
    "#plt.xticks([-np.pi, -np.pi/2, 0, np.pi/2, np.pi])\n",
    "#plt.xticks([-np.pi, -np.pi/2, 0, np.pi/2, np.pi], [r'$-\\pi$', r'$-\\pi/2$', r'$0$', r'$\\pi/2$', r'$\\pi$'])\n",
    "\n",
    "# set y ticks\n",
    "plt.yticks(np.linspace(-1,1,5,endpoint=True))\n",
    "\n",
    "# enable the legend\n",
    "plt.legend()\n",
    "\n",
    "# add title\n",
    "plt.title(\"sine - cosine\")\n",
    "plt.xlabel(\"x values\")\n",
    "plt.ylabel(\"y values\")\n",
    "\n",
    "plt.show()"
   ]
  },
  {
   "cell_type": "markdown",
   "metadata": {
    "id": "LqpZ9a8n2_gw"
   },
   "source": [
    "## Chart Types"
   ]
  },
  {
   "cell_type": "markdown",
   "metadata": {
    "id": "Wh9v96mc3Ozp"
   },
   "source": [
    "### Scatter Plot"
   ]
  },
  {
   "cell_type": "code",
   "execution_count": 21,
   "metadata": {
    "ExecuteTime": {
     "end_time": "2019-09-24T11:17:04.685281Z",
     "start_time": "2019-09-24T11:17:04.586357Z"
    },
    "colab": {
     "base_uri": "https://localhost:8080/",
     "height": 527
    },
    "id": "u-27SxkJADaS",
    "outputId": "c36f4913-0e88-4092-eb27-bb8da5375016"
   },
   "outputs": [
    {
     "data": {
      "image/png": "[encoded data removed]",
      "text/plain": [
       "<Figure size 640x480 with 1 Axes>"
      ]
     },
     "metadata": {},
     "output_type": "display_data"
    },
    {
     "data": {
      "image/png": "[encoded data removed]",
      "text/plain": [
       "<Figure size 640x480 with 1 Axes>"
      ]
     },
     "metadata": {},
     "output_type": "display_data"
    }
   ],
   "source": [
    "data = {\n",
    "        \"a\": np.arange(50),\n",
    "        \"c\": np.random.randint(0, 50, 50),\n",
    "        \"d\": np.abs(np.random.randn(50)) * 100\n",
    "       }\n",
    "\n",
    "# print(data)\n",
    "\n",
    "# adding a new key\n",
    "data[\"b\"] = data[\"a\"] + 10 * np.random.randn(50)\n",
    "plt.scatter(data[\"a\"], data[\"b\"])\n",
    "plt.show()\n",
    "plt.scatter(data[\"a\"], data[\"b\"], c=data[\"c\"], s=data[\"d\"])  # setting x and y axes from the data\n",
    "                                                             # c = color coding, s = size of each dot\n",
    "plt.xlabel(\"a\")\n",
    "plt.ylabel(\"b\")\n",
    "plt.show() \n"
   ]
  },
  {
   "cell_type": "markdown",
   "metadata": {
    "id": "4B0oo1-G3ShJ"
   },
   "source": [
    "### Histograms"
   ]
  },
  {
   "cell_type": "code",
   "execution_count": 23,
   "metadata": {
    "colab": {
     "base_uri": "https://localhost:8080/",
     "height": 265
    },
    "id": "gY5LUcQkADaY",
    "outputId": "6ca313da-f5fe-4618-e767-be15719c2337"
   },
   "outputs": [
    {
     "data": {
      "image/png": "[encoded data removed]",
      "text/plain": [
       "<Figure size 640x480 with 1 Axes>"
      ]
     },
     "metadata": {},
     "output_type": "display_data"
    }
   ],
   "source": [
    "x = np.random.normal(10, 5, 1000)  # normal dist. with mean set to 10 and standard deviation to 5\n",
    "\n",
    "plt.hist(x, bins=100) #larger bins mean more detail.\n",
    "plt.show()"
   ]
  },
  {
   "cell_type": "code",
   "execution_count": 24,
   "metadata": {
    "ExecuteTime": {
     "end_time": "2019-02-24T21:22:29.554346Z",
     "start_time": "2019-02-24T21:22:29.423999Z"
    },
    "colab": {
     "base_uri": "https://localhost:8080/",
     "height": 295
    },
    "id": "NFruLQiYADab",
    "outputId": "22117d44-e135-4c74-e4a5-be19c65bf5d7"
   },
   "outputs": [
    {
     "data": {
      "image/png": "[encoded data removed]",
      "text/plain": [
       "<Figure size 640x480 with 1 Axes>"
      ]
     },
     "metadata": {},
     "output_type": "display_data"
    }
   ],
   "source": [
    "x = ['Nuclear', 'Hydro', 'Gas', 'Oil', 'Coal', 'Biofuel']\n",
    "energy = np.random.randint(10, 100, len(x))\n",
    "\n",
    "plt.bar(x, energy, color='green')\n",
    "plt.xlabel(\"Energy Source\")\n",
    "plt.ylabel(\"Energy Output (GJ)\")\n",
    "plt.title(\"Energy output from various fuel sources\")\n",
    "\n",
    "plt.show()"
   ]
  },
  {
   "cell_type": "markdown",
   "metadata": {
    "id": "wqyf1L3aADad"
   },
   "source": [
    "## Playing with the layout\n",
    "\n",
    "![](https://i.stack.imgur.com/HZWkV.png)\n",
    "\n",
    "*Image obtained from https://realpython.com/python-matplotlib-guide/*\n",
    "\n",
    "``` py\n",
    ">>> fig = plt.figure()  # create a figure object\n",
    ">>> ax = fig.add_subplot(1, 1, 1)  # create an axes object in the figure\n",
    "                                   # (row, column, position)\n",
    ">>> ax.plot(x)  # now, we can plot on axes ax\n",
    "```\n",
    "\n",
    "``` py\n",
    ">>> fig, axs = plt.subplots(1, 3)  # returns a figure in which 3 axes are placed horizontally\n",
    "```"
   ]
  },
  {
   "cell_type": "code",
   "execution_count": 25,
   "metadata": {
    "ExecuteTime": {
     "end_time": "2019-02-24T21:22:30.086752Z",
     "start_time": "2019-02-24T21:22:29.871662Z"
    },
    "colab": {
     "base_uri": "https://localhost:8080/",
     "height": 250
    },
    "id": "J3H-MRqQADae",
    "outputId": "46c08d1e-bde8-43f1-be02-129e4c167cdb"
   },
   "outputs": [
    {
     "data": {
      "text/plain": [
       "Text(0.5, 0.98, 'Categorical Plotting')"
      ]
     },
     "execution_count": 25,
     "metadata": {},
     "output_type": "execute_result"
    },
    {
     "data": {
      "image/png": "[encoded data removed]",
      "text/plain": [
       "<Figure size 1000x300 with 3 Axes>"
      ]
     },
     "metadata": {},
     "output_type": "display_data"
    }
   ],
   "source": [
    "data = {'apples': 10, 'oranges': 15, 'lemons': 5, 'limes': 20}\n",
    "names = list(data.keys())\n",
    "values = list(data.values())\n",
    "\n",
    "fig, axs = plt.subplots(1,3, figsize=(10, 3), sharey=True)\n",
    "\n",
    "axs[0].bar(names, values)\n",
    "axs[1].scatter(names, values)\n",
    "axs[2].plot(names, values)\n",
    "fig.suptitle('Categorical Plotting')  # figure title\n"
   ]
  },
  {
   "cell_type": "markdown",
   "metadata": {},
   "source": [
    "## Seaborn\n",
    "\n",
    "Seaborn is an amazing visualization library for statistical graphics plotting in Python. It provides beautiful default styles and color palettes to make statistical plots more attractive. It is built on the top of matplotlib library and also closely integrated to the data structures from pandas. It's a fancier version of Matplotlib and built on Matplotlib too.\n"
   ]
  },
  {
   "cell_type": "code",
   "execution_count": 3,
   "metadata": {},
   "outputs": [],
   "source": [
    "import seaborn as sns"
   ]
  },
  {
   "cell_type": "code",
   "execution_count": 9,
   "metadata": {},
   "outputs": [
    {
     "data": {
      "text/plain": [
       "<seaborn.axisgrid.FacetGrid at 0x1d88dc82c60>"
      ]
     },
     "execution_count": 9,
     "metadata": {},
     "output_type": "execute_result"
    },
    {
     "data": {
      "image/png": "[encoded data removed]",
      "text/plain": [
       "<Figure size 1095.38x500 with 2 Axes>"
      ]
     },
     "metadata": {},
     "output_type": "display_data"
    }
   ],
   "source": [
    "# Import seaborn\n",
    "# import seaborn as sns\n",
    "\n",
    "# Apply the default style, try whitegrid, darkgrid, dark, white, and ticks.\n",
    "sns.set_style('whitegrid')\n",
    "\n",
    "# Load an example dataset, nothing special here just a default dataset.\n",
    "tips = sns.load_dataset(\"tips\")\n",
    "\n",
    "\n",
    "sns.relplot(\n",
    "    data=tips,\n",
    "    x=\"total_bill\", y=\"tip\", col=\"time\",\n",
    "    hue=\"smoker\", style=\"smoker\", size=\"size\",\n",
    ")"
   ]
  },
  {
   "cell_type": "markdown",
   "metadata": {},
   "source": [
    "- data: This argument specifies the dataset to be used for creating the plot. In this case, the dataset is tips.\n",
    "\n",
    "- x: This argument specifies the column name or variable to be used for the x-axis. In this case, the column is total_bill.\n",
    "\n",
    "- y: This argument specifies the column name or variable to be used for the y-axis. In this case, the column is tip.\n",
    "\n",
    "- col: This argument specifies the column name or variable to be used for creating subplots based on the unique values in the column. In this case, the column is time.\n",
    "\n",
    "- hue: This argument specifies the column name or variable to be used for grouping the data points by color. In this case, the column is smoker.\n",
    "\n",
    "- style: This argument specifies the column name or variable to be used for differentiating the data points by marker style. In this case, the column is smoker.\n",
    "\n",
    "- size: This argument specifies the column name or variable to be used for differentiating the data points by marker size. In this case, the column is size.\n",
    "\n",
    "In summary, the sns.relplot() function creates a scatter plot using the tips dataset with total_bill on the x-axis, tip on the y-axis, and subplots created based on the unique values in the time column. The data points are grouped by color based on the smoker column, differentiated by marker style based on the smoker column, and differentiated by marker size based on the size column."
   ]
  },
  {
   "cell_type": "code",
   "execution_count": 10,
   "metadata": {
    "scrolled": true
   },
   "outputs": [
    {
     "data": {
      "text/plain": [
       "<seaborn.axisgrid.FacetGrid at 0x1d88d24c680>"
      ]
     },
     "execution_count": 10,
     "metadata": {},
     "output_type": "execute_result"
    },
    {
     "data": {
      "image/png": "[encoded data removed]",
      "text/plain": [
       "<Figure size 1114.88x500 with 2 Axes>"
      ]
     },
     "metadata": {},
     "output_type": "display_data"
    }
   ],
   "source": [
    "dots = sns.load_dataset(\"dots\")\n",
    "sns.relplot(\n",
    "    data=dots, kind=\"line\",\n",
    "    x=\"time\", y=\"firing_rate\", col=\"align\",\n",
    "    hue=\"choice\", size=\"coherence\", style=\"choice\",\n",
    ") #Another example, don't try to memorize anything check: https://seaborn.pydata.org/tutorial/introduction when you need it."
   ]
  },
  {
   "cell_type": "markdown",
   "metadata": {},
   "source": [
    "# Pandas\n",
    "\n",
    "\n",
    "Pandas is an open-source data analysis and manipulation library for Python. It provides powerful and flexible data structures for working with structured data such as tabular, time series, and matrix data."
   ]
  },
  {
   "cell_type": "code",
   "execution_count": 2,
   "metadata": {},
   "outputs": [],
   "source": [
    "import pandas as pd  # an alias for pandas, let's import everything like just we didn't.\n",
    "import numpy as np\n",
    "import seaborn as sns "
   ]
  },
  {
   "cell_type": "markdown",
   "metadata": {},
   "source": [
    "## Dataframe\n",
    "\n",
    "![](https://www.cdn.geeksforgeeks.org/wp-content/uploads/creating_dataframe1.png)\n",
    "\n",
    "*Image obtained from https://www.geeksforgeeks.org/python-pandas-dataframe/*\n",
    "\n",
    "A dataframe is a 2-dimensional labeled data structure with columns of potentially different types. You can think of it like a spreadsheet or a SQL table. It is the most commonly used pandas object. Some key features:\n",
    "\n",
    "- Flexibility: DataFrames can handle different types of data, including numerical, categorical, and text data, and can handle missing or incomplete data using NaN (Not a Number) values.\n",
    "\n",
    "- Data manipulation: DataFrames can be easily manipulated and transformed using built-in functions and methods, such as filtering, aggregating, merging, and pivoting data.\n",
    "\n",
    "- Reading and writing data: DataFrames can be easily read from and written to different file formats such as CSV, Excel, SQL, and JSON.\n",
    "\n",
    "You may create a dataframe from: \n",
    "\n",
    "- Dict of 1D ndarrays, lists, dicts, or Series\n",
    "- 2-D numpy.ndarray\n",
    "- Structured or record ndarray\n",
    "- Another DataFrame\n",
    "\n",
    "## File I/O\n",
    "\n",
    "With pandas, we are able to read and write a variety of data formats.\n",
    "\n",
    "- CSV\n",
    "- SQL\n",
    "- JSON\n",
    "- Excel\n",
    "- and so on\n",
    "\n",
    "In this notebook, let's just focus on CSV files."
   ]
  },
  {
   "cell_type": "code",
   "execution_count": 3,
   "metadata": {},
   "outputs": [],
   "source": [
    "fname = \"nba.csv\"\n",
    "# we use the read_csv function\n",
    "# to read the dataset into a dataframe\n",
    "# it returns the dataframe object\n",
    "df=pd.read_csv(fname)"
   ]
  },
  {
   "cell_type": "code",
   "execution_count": 4,
   "metadata": {},
   "outputs": [
    {
     "data": {
      "text/html": [
       "<div>\n",
       "<style scoped>\n",
       "    .dataframe tbody tr th:only-of-type {\n",
       "        vertical-align: middle;\n",
       "    }\n",
       "\n",
       "    .dataframe tbody tr th {\n",
       "        vertical-align: top;\n",
       "    }\n",
       "\n",
       "    .dataframe thead th {\n",
       "        text-align: right;\n",
       "    }\n",
       "</style>\n",
       "<table border=\"1\" class=\"dataframe\">\n",
       "  <thead>\n",
       "    <tr style=\"text-align: right;\">\n",
       "      <th></th>\n",
       "      <th>Name</th>\n",
       "      <th>Team</th>\n",
       "      <th>Number</th>\n",
       "      <th>Position</th>\n",
       "      <th>Age</th>\n",
       "      <th>Height</th>\n",
       "      <th>Weight</th>\n",
       "      <th>College</th>\n",
       "      <th>Salary</th>\n",
       "    </tr>\n",
       "  </thead>\n",
       "  <tbody>\n",
       "    <tr>\n",
       "      <th>0</th>\n",
       "      <td>Avery Bradley</td>\n",
       "      <td>Boston Celtics</td>\n",
       "      <td>0.0</td>\n",
       "      <td>PG</td>\n",
       "      <td>25.0</td>\n",
       "      <td>6-2</td>\n",
       "      <td>180.0</td>\n",
       "      <td>Texas</td>\n",
       "      <td>7730337.0</td>\n",
       "    </tr>\n",
       "    <tr>\n",
       "      <th>1</th>\n",
       "      <td>Jae Crowder</td>\n",
       "      <td>Boston Celtics</td>\n",
       "      <td>99.0</td>\n",
       "      <td>SF</td>\n",
       "      <td>25.0</td>\n",
       "      <td>6-6</td>\n",
       "      <td>235.0</td>\n",
       "      <td>Marquette</td>\n",
       "      <td>6796117.0</td>\n",
       "    </tr>\n",
       "    <tr>\n",
       "      <th>2</th>\n",
       "      <td>John Holland</td>\n",
       "      <td>Boston Celtics</td>\n",
       "      <td>30.0</td>\n",
       "      <td>SG</td>\n",
       "      <td>27.0</td>\n",
       "      <td>6-5</td>\n",
       "      <td>205.0</td>\n",
       "      <td>Boston University</td>\n",
       "      <td>NaN</td>\n",
       "    </tr>\n",
       "    <tr>\n",
       "      <th>3</th>\n",
       "      <td>R.J. Hunter</td>\n",
       "      <td>Boston Celtics</td>\n",
       "      <td>28.0</td>\n",
       "      <td>SG</td>\n",
       "      <td>22.0</td>\n",
       "      <td>6-5</td>\n",
       "      <td>185.0</td>\n",
       "      <td>Georgia State</td>\n",
       "      <td>1148640.0</td>\n",
       "    </tr>\n",
       "    <tr>\n",
       "      <th>4</th>\n",
       "      <td>Jonas Jerebko</td>\n",
       "      <td>Boston Celtics</td>\n",
       "      <td>8.0</td>\n",
       "      <td>PF</td>\n",
       "      <td>29.0</td>\n",
       "      <td>6-10</td>\n",
       "      <td>231.0</td>\n",
       "      <td>NaN</td>\n",
       "      <td>5000000.0</td>\n",
       "    </tr>\n",
       "  </tbody>\n",
       "</table>\n",
       "</div>"
      ],
      "text/plain": [
       "            Name            Team  Number Position   Age Height  Weight  \\\n",
       "0  Avery Bradley  Boston Celtics     0.0       PG  25.0    6-2   180.0   \n",
       "1    Jae Crowder  Boston Celtics    99.0       SF  25.0    6-6   235.0   \n",
       "2   John Holland  Boston Celtics    30.0       SG  27.0    6-5   205.0   \n",
       "3    R.J. Hunter  Boston Celtics    28.0       SG  22.0    6-5   185.0   \n",
       "4  Jonas Jerebko  Boston Celtics     8.0       PF  29.0   6-10   231.0   \n",
       "\n",
       "             College     Salary  \n",
       "0              Texas  7730337.0  \n",
       "1          Marquette  6796117.0  \n",
       "2  Boston University        NaN  \n",
       "3      Georgia State  1148640.0  \n",
       "4                NaN  5000000.0  "
      ]
     },
     "execution_count": 4,
     "metadata": {},
     "output_type": "execute_result"
    }
   ],
   "source": [
    "df.head() # by default returns the top 5 rows of the dataframe"
   ]
  },
  {
   "cell_type": "code",
   "execution_count": 5,
   "metadata": {},
   "outputs": [
    {
     "data": {
      "text/html": [
       "<div>\n",
       "<style scoped>\n",
       "    .dataframe tbody tr th:only-of-type {\n",
       "        vertical-align: middle;\n",
       "    }\n",
       "\n",
       "    .dataframe tbody tr th {\n",
       "        vertical-align: top;\n",
       "    }\n",
       "\n",
       "    .dataframe thead th {\n",
       "        text-align: right;\n",
       "    }\n",
       "</style>\n",
       "<table border=\"1\" class=\"dataframe\">\n",
       "  <thead>\n",
       "    <tr style=\"text-align: right;\">\n",
       "      <th></th>\n",
       "      <th>Name</th>\n",
       "      <th>Team</th>\n",
       "      <th>Number</th>\n",
       "      <th>Position</th>\n",
       "      <th>Age</th>\n",
       "      <th>Height</th>\n",
       "      <th>Weight</th>\n",
       "      <th>College</th>\n",
       "      <th>Salary</th>\n",
       "    </tr>\n",
       "  </thead>\n",
       "  <tbody>\n",
       "    <tr>\n",
       "      <th>0</th>\n",
       "      <td>Avery Bradley</td>\n",
       "      <td>Boston Celtics</td>\n",
       "      <td>0.0</td>\n",
       "      <td>PG</td>\n",
       "      <td>25.0</td>\n",
       "      <td>6-2</td>\n",
       "      <td>180.0</td>\n",
       "      <td>Texas</td>\n",
       "      <td>7730337.0</td>\n",
       "    </tr>\n",
       "    <tr>\n",
       "      <th>1</th>\n",
       "      <td>Jae Crowder</td>\n",
       "      <td>Boston Celtics</td>\n",
       "      <td>99.0</td>\n",
       "      <td>SF</td>\n",
       "      <td>25.0</td>\n",
       "      <td>6-6</td>\n",
       "      <td>235.0</td>\n",
       "      <td>Marquette</td>\n",
       "      <td>6796117.0</td>\n",
       "    </tr>\n",
       "  </tbody>\n",
       "</table>\n",
       "</div>"
      ],
      "text/plain": [
       "            Name            Team  Number Position   Age Height  Weight  \\\n",
       "0  Avery Bradley  Boston Celtics     0.0       PG  25.0    6-2   180.0   \n",
       "1    Jae Crowder  Boston Celtics    99.0       SF  25.0    6-6   235.0   \n",
       "\n",
       "     College     Salary  \n",
       "0      Texas  7730337.0  \n",
       "1  Marquette  6796117.0  "
      ]
     },
     "execution_count": 5,
     "metadata": {},
     "output_type": "execute_result"
    }
   ],
   "source": [
    "df.head(2)  # viewing the first two rows of the dataframe"
   ]
  },
  {
   "cell_type": "code",
   "execution_count": 6,
   "metadata": {},
   "outputs": [
    {
     "data": {
      "text/html": [
       "<div>\n",
       "<style scoped>\n",
       "    .dataframe tbody tr th:only-of-type {\n",
       "        vertical-align: middle;\n",
       "    }\n",
       "\n",
       "    .dataframe tbody tr th {\n",
       "        vertical-align: top;\n",
       "    }\n",
       "\n",
       "    .dataframe thead th {\n",
       "        text-align: right;\n",
       "    }\n",
       "</style>\n",
       "<table border=\"1\" class=\"dataframe\">\n",
       "  <thead>\n",
       "    <tr style=\"text-align: right;\">\n",
       "      <th></th>\n",
       "      <th>Name</th>\n",
       "      <th>Team</th>\n",
       "      <th>Number</th>\n",
       "      <th>Position</th>\n",
       "      <th>Age</th>\n",
       "      <th>Height</th>\n",
       "      <th>Weight</th>\n",
       "      <th>College</th>\n",
       "      <th>Salary</th>\n",
       "    </tr>\n",
       "  </thead>\n",
       "  <tbody>\n",
       "    <tr>\n",
       "      <th>455</th>\n",
       "      <td>Tibor Pleiss</td>\n",
       "      <td>Utah Jazz</td>\n",
       "      <td>21.0</td>\n",
       "      <td>C</td>\n",
       "      <td>26.0</td>\n",
       "      <td>7-3</td>\n",
       "      <td>256.0</td>\n",
       "      <td>NaN</td>\n",
       "      <td>2900000.0</td>\n",
       "    </tr>\n",
       "    <tr>\n",
       "      <th>456</th>\n",
       "      <td>Jeff Withey</td>\n",
       "      <td>Utah Jazz</td>\n",
       "      <td>24.0</td>\n",
       "      <td>C</td>\n",
       "      <td>26.0</td>\n",
       "      <td>7-0</td>\n",
       "      <td>231.0</td>\n",
       "      <td>Kansas</td>\n",
       "      <td>947276.0</td>\n",
       "    </tr>\n",
       "  </tbody>\n",
       "</table>\n",
       "</div>"
      ],
      "text/plain": [
       "             Name       Team  Number Position   Age Height  Weight College  \\\n",
       "455  Tibor Pleiss  Utah Jazz    21.0        C  26.0    7-3   256.0     NaN   \n",
       "456   Jeff Withey  Utah Jazz    24.0        C  26.0    7-0   231.0  Kansas   \n",
       "\n",
       "        Salary  \n",
       "455  2900000.0  \n",
       "456   947276.0  "
      ]
     },
     "execution_count": 6,
     "metadata": {},
     "output_type": "execute_result"
    }
   ],
   "source": [
    "df.tail(2)  # viewing the last two rows of the dataframe"
   ]
  },
  {
   "cell_type": "code",
   "execution_count": 7,
   "metadata": {},
   "outputs": [
    {
     "data": {
      "text/plain": [
       "Name         object\n",
       "Team         object\n",
       "Number      float64\n",
       "Position     object\n",
       "Age         float64\n",
       "Height       object\n",
       "Weight      float64\n",
       "College      object\n",
       "Salary      float64\n",
       "dtype: object"
      ]
     },
     "execution_count": 7,
     "metadata": {},
     "output_type": "execute_result"
    }
   ],
   "source": [
    "df.dtypes # data types of each column"
   ]
  },
  {
   "cell_type": "code",
   "execution_count": 8,
   "metadata": {},
   "outputs": [
    {
     "data": {
      "text/plain": [
       "Index(['Name', 'Team', 'Number', 'Position', 'Age', 'Height', 'Weight',\n",
       "       'College', 'Salary'],\n",
       "      dtype='object')"
      ]
     },
     "execution_count": 8,
     "metadata": {},
     "output_type": "execute_result"
    }
   ],
   "source": [
    "df.columns # column names"
   ]
  },
  {
   "cell_type": "code",
   "execution_count": 9,
   "metadata": {},
   "outputs": [
    {
     "data": {
      "text/plain": [
       "(457, 9)"
      ]
     },
     "execution_count": 9,
     "metadata": {},
     "output_type": "execute_result"
    }
   ],
   "source": [
    "df.shape # number of rows and columns"
   ]
  },
  {
   "cell_type": "code",
   "execution_count": 10,
   "metadata": {},
   "outputs": [
    {
     "data": {
      "text/html": [
       "<div>\n",
       "<style scoped>\n",
       "    .dataframe tbody tr th:only-of-type {\n",
       "        vertical-align: middle;\n",
       "    }\n",
       "\n",
       "    .dataframe tbody tr th {\n",
       "        vertical-align: top;\n",
       "    }\n",
       "\n",
       "    .dataframe thead th {\n",
       "        text-align: right;\n",
       "    }\n",
       "</style>\n",
       "<table border=\"1\" class=\"dataframe\">\n",
       "  <thead>\n",
       "    <tr style=\"text-align: right;\">\n",
       "      <th></th>\n",
       "      <th>Number</th>\n",
       "      <th>Age</th>\n",
       "      <th>Weight</th>\n",
       "      <th>Salary</th>\n",
       "    </tr>\n",
       "  </thead>\n",
       "  <tbody>\n",
       "    <tr>\n",
       "      <th>count</th>\n",
       "      <td>457.000000</td>\n",
       "      <td>457.000000</td>\n",
       "      <td>457.000000</td>\n",
       "      <td>4.460000e+02</td>\n",
       "    </tr>\n",
       "    <tr>\n",
       "      <th>mean</th>\n",
       "      <td>17.678337</td>\n",
       "      <td>26.938731</td>\n",
       "      <td>221.522976</td>\n",
       "      <td>4.842684e+06</td>\n",
       "    </tr>\n",
       "    <tr>\n",
       "      <th>std</th>\n",
       "      <td>15.966090</td>\n",
       "      <td>4.404016</td>\n",
       "      <td>26.368343</td>\n",
       "      <td>5.229238e+06</td>\n",
       "    </tr>\n",
       "    <tr>\n",
       "      <th>min</th>\n",
       "      <td>0.000000</td>\n",
       "      <td>19.000000</td>\n",
       "      <td>161.000000</td>\n",
       "      <td>3.088800e+04</td>\n",
       "    </tr>\n",
       "    <tr>\n",
       "      <th>25%</th>\n",
       "      <td>5.000000</td>\n",
       "      <td>24.000000</td>\n",
       "      <td>200.000000</td>\n",
       "      <td>1.044792e+06</td>\n",
       "    </tr>\n",
       "    <tr>\n",
       "      <th>50%</th>\n",
       "      <td>13.000000</td>\n",
       "      <td>26.000000</td>\n",
       "      <td>220.000000</td>\n",
       "      <td>2.839073e+06</td>\n",
       "    </tr>\n",
       "    <tr>\n",
       "      <th>75%</th>\n",
       "      <td>25.000000</td>\n",
       "      <td>30.000000</td>\n",
       "      <td>240.000000</td>\n",
       "      <td>6.500000e+06</td>\n",
       "    </tr>\n",
       "    <tr>\n",
       "      <th>max</th>\n",
       "      <td>99.000000</td>\n",
       "      <td>40.000000</td>\n",
       "      <td>307.000000</td>\n",
       "      <td>2.500000e+07</td>\n",
       "    </tr>\n",
       "  </tbody>\n",
       "</table>\n",
       "</div>"
      ],
      "text/plain": [
       "           Number         Age      Weight        Salary\n",
       "count  457.000000  457.000000  457.000000  4.460000e+02\n",
       "mean    17.678337   26.938731  221.522976  4.842684e+06\n",
       "std     15.966090    4.404016   26.368343  5.229238e+06\n",
       "min      0.000000   19.000000  161.000000  3.088800e+04\n",
       "25%      5.000000   24.000000  200.000000  1.044792e+06\n",
       "50%     13.000000   26.000000  220.000000  2.839073e+06\n",
       "75%     25.000000   30.000000  240.000000  6.500000e+06\n",
       "max     99.000000   40.000000  307.000000  2.500000e+07"
      ]
     },
     "execution_count": 10,
     "metadata": {},
     "output_type": "execute_result"
    }
   ],
   "source": [
    "df.describe()  # getting statistical properties of .... columns"
   ]
  },
  {
   "cell_type": "code",
   "execution_count": 11,
   "metadata": {},
   "outputs": [
    {
     "name": "stdout",
     "output_type": "stream",
     "text": [
      "<class 'pandas.core.frame.DataFrame'>\n",
      "RangeIndex: 457 entries, 0 to 456\n",
      "Data columns (total 9 columns):\n",
      " #   Column    Non-Null Count  Dtype  \n",
      "---  ------    --------------  -----  \n",
      " 0   Name      457 non-null    object \n",
      " 1   Team      457 non-null    object \n",
      " 2   Number    457 non-null    float64\n",
      " 3   Position  457 non-null    object \n",
      " 4   Age       457 non-null    float64\n",
      " 5   Height    457 non-null    object \n",
      " 6   Weight    457 non-null    float64\n",
      " 7   College   373 non-null    object \n",
      " 8   Salary    446 non-null    float64\n",
      "dtypes: float64(4), object(5)\n",
      "memory usage: 32.3+ KB\n"
     ]
    }
   ],
   "source": [
    "df.info()  # a summary of the dataframe"
   ]
  },
  {
   "cell_type": "markdown",
   "metadata": {},
   "source": [
    "## Series (small information)\n",
    "\n",
    "Series is a one-dimensional labeled array capable of holding any data type (integers, strings, floating point numbers, Python objects, etc.). The axis labels are collectively referred to as the index. It is similar to a NumPy array, but with the added ability to have customized row labels or index. It's an important aspect of DataFrame concept.\n",
    "\n",
    "``` py\n",
    ">>> s = pd.Series(data, index=index)\n",
    "```\n",
    "\n",
    "Here, data can be\n",
    "\n",
    "- a Python dict\n",
    "- an ndarray\n",
    "- a scalar value\n",
    "\n"
   ]
  },
  {
   "cell_type": "code",
   "execution_count": 12,
   "metadata": {},
   "outputs": [
    {
     "name": "stdout",
     "output_type": "stream",
     "text": [
      "0    0.090481\n",
      "1    1.308450\n",
      "2   -1.414102\n",
      "3   -0.690789\n",
      "4   -0.496537\n",
      "dtype: float64\n",
      "a   -0.843916\n",
      "b   -1.001284\n",
      "c    1.095492\n",
      "d   -2.799150\n",
      "e    0.609854\n",
      "dtype: float64\n"
     ]
    }
   ],
   "source": [
    "print(pd.Series(np.random.randn(5)))\n",
    "print(pd.Series(np.random.randn(5), index=['a', 'b', 'c', 'd', 'e']))"
   ]
  },
  {
   "cell_type": "code",
   "execution_count": 13,
   "metadata": {},
   "outputs": [
    {
     "name": "stderr",
     "output_type": "stream",
     "text": [
      "C:\\Users\\firat\\AppData\\Local\\Temp\\ipykernel_14040\\819000697.py:2: FutureWarning: Series.__getitem__ treating keys as positions is deprecated. In a future version, integer keys will always be treated as labels (consistent with DataFrame behavior). To access a value by position, use `ser.iloc[pos]`\n",
      "  print(s[0])\n"
     ]
    },
    {
     "name": "stdout",
     "output_type": "stream",
     "text": [
      "-1.209466439850242\n",
      "-1.209466439850242\n",
      "a   -1.209466\n",
      "b    0.352748\n",
      "c    1.094222\n",
      "d    0.458701\n",
      "dtype: float64\n",
      "c    1.094222\n",
      "d    0.458701\n",
      "dtype: float64\n"
     ]
    },
    {
     "data": {
      "text/plain": [
       "a    0.298356\n",
       "b    1.422972\n",
       "c    2.986858\n",
       "d    1.582017\n",
       "e    0.194604\n",
       "dtype: float64"
      ]
     },
     "execution_count": 13,
     "metadata": {},
     "output_type": "execute_result"
    }
   ],
   "source": [
    "s = pd.Series(np.random.randn(5), index=['a', 'b', 'c', 'd', 'e'])\n",
    "print(s[0])\n",
    "\n",
    "print(s[\"a\"])  # in addition, we can use index names\n",
    "\n",
    "print(s[\"a\":\"d\"])  # slicing with index labels\n",
    "\n",
    "print(s[s > s.median()])  # conditional indexing\n",
    "\n",
    "np.exp(s)"
   ]
  },
  {
   "cell_type": "markdown",
   "metadata": {},
   "source": [
    "## Let's turn back to NBA DataFrame."
   ]
  },
  {
   "cell_type": "code",
   "execution_count": 14,
   "metadata": {},
   "outputs": [
    {
     "data": {
      "text/html": [
       "<div>\n",
       "<style scoped>\n",
       "    .dataframe tbody tr th:only-of-type {\n",
       "        vertical-align: middle;\n",
       "    }\n",
       "\n",
       "    .dataframe tbody tr th {\n",
       "        vertical-align: top;\n",
       "    }\n",
       "\n",
       "    .dataframe thead th {\n",
       "        text-align: right;\n",
       "    }\n",
       "</style>\n",
       "<table border=\"1\" class=\"dataframe\">\n",
       "  <thead>\n",
       "    <tr style=\"text-align: right;\">\n",
       "      <th></th>\n",
       "      <th>Name</th>\n",
       "      <th>Team</th>\n",
       "      <th>Number</th>\n",
       "      <th>Position</th>\n",
       "      <th>Age</th>\n",
       "      <th>Height</th>\n",
       "      <th>Weight</th>\n",
       "      <th>College</th>\n",
       "      <th>Salary</th>\n",
       "    </tr>\n",
       "  </thead>\n",
       "  <tbody>\n",
       "    <tr>\n",
       "      <th>0</th>\n",
       "      <td>Avery Bradley</td>\n",
       "      <td>Boston Celtics</td>\n",
       "      <td>0.0</td>\n",
       "      <td>PG</td>\n",
       "      <td>25.0</td>\n",
       "      <td>6-2</td>\n",
       "      <td>180.0</td>\n",
       "      <td>Texas</td>\n",
       "      <td>7730337.0</td>\n",
       "    </tr>\n",
       "    <tr>\n",
       "      <th>1</th>\n",
       "      <td>Jae Crowder</td>\n",
       "      <td>Boston Celtics</td>\n",
       "      <td>99.0</td>\n",
       "      <td>SF</td>\n",
       "      <td>25.0</td>\n",
       "      <td>6-6</td>\n",
       "      <td>235.0</td>\n",
       "      <td>Marquette</td>\n",
       "      <td>6796117.0</td>\n",
       "    </tr>\n",
       "    <tr>\n",
       "      <th>2</th>\n",
       "      <td>John Holland</td>\n",
       "      <td>Boston Celtics</td>\n",
       "      <td>30.0</td>\n",
       "      <td>SG</td>\n",
       "      <td>27.0</td>\n",
       "      <td>6-5</td>\n",
       "      <td>205.0</td>\n",
       "      <td>Boston University</td>\n",
       "      <td>NaN</td>\n",
       "    </tr>\n",
       "    <tr>\n",
       "      <th>3</th>\n",
       "      <td>R.J. Hunter</td>\n",
       "      <td>Boston Celtics</td>\n",
       "      <td>28.0</td>\n",
       "      <td>SG</td>\n",
       "      <td>22.0</td>\n",
       "      <td>6-5</td>\n",
       "      <td>185.0</td>\n",
       "      <td>Georgia State</td>\n",
       "      <td>1148640.0</td>\n",
       "    </tr>\n",
       "    <tr>\n",
       "      <th>4</th>\n",
       "      <td>Jonas Jerebko</td>\n",
       "      <td>Boston Celtics</td>\n",
       "      <td>8.0</td>\n",
       "      <td>PF</td>\n",
       "      <td>29.0</td>\n",
       "      <td>6-10</td>\n",
       "      <td>231.0</td>\n",
       "      <td>NaN</td>\n",
       "      <td>5000000.0</td>\n",
       "    </tr>\n",
       "  </tbody>\n",
       "</table>\n",
       "</div>"
      ],
      "text/plain": [
       "            Name            Team  Number Position   Age Height  Weight  \\\n",
       "0  Avery Bradley  Boston Celtics     0.0       PG  25.0    6-2   180.0   \n",
       "1    Jae Crowder  Boston Celtics    99.0       SF  25.0    6-6   235.0   \n",
       "2   John Holland  Boston Celtics    30.0       SG  27.0    6-5   205.0   \n",
       "3    R.J. Hunter  Boston Celtics    28.0       SG  22.0    6-5   185.0   \n",
       "4  Jonas Jerebko  Boston Celtics     8.0       PF  29.0   6-10   231.0   \n",
       "\n",
       "             College     Salary  \n",
       "0              Texas  7730337.0  \n",
       "1          Marquette  6796117.0  \n",
       "2  Boston University        NaN  \n",
       "3      Georgia State  1148640.0  \n",
       "4                NaN  5000000.0  "
      ]
     },
     "execution_count": 14,
     "metadata": {},
     "output_type": "execute_result"
    }
   ],
   "source": [
    "df.head() # returns a series object"
   ]
  },
  {
   "cell_type": "code",
   "execution_count": 15,
   "metadata": {},
   "outputs": [
    {
     "data": {
      "text/plain": [
       "0      Avery Bradley\n",
       "1        Jae Crowder\n",
       "2       John Holland\n",
       "3        R.J. Hunter\n",
       "4      Jonas Jerebko\n",
       "           ...      \n",
       "452       Trey Lyles\n",
       "453     Shelvin Mack\n",
       "454        Raul Neto\n",
       "455     Tibor Pleiss\n",
       "456      Jeff Withey\n",
       "Name: Name, Length: 457, dtype: object"
      ]
     },
     "execution_count": 15,
     "metadata": {},
     "output_type": "execute_result"
    }
   ],
   "source": [
    "df[\"Name\"]  # returns a series object, names column from the dataframe."
   ]
  },
  {
   "cell_type": "code",
   "execution_count": 16,
   "metadata": {},
   "outputs": [
    {
     "data": {
      "text/html": [
       "<div>\n",
       "<style scoped>\n",
       "    .dataframe tbody tr th:only-of-type {\n",
       "        vertical-align: middle;\n",
       "    }\n",
       "\n",
       "    .dataframe tbody tr th {\n",
       "        vertical-align: top;\n",
       "    }\n",
       "\n",
       "    .dataframe thead th {\n",
       "        text-align: right;\n",
       "    }\n",
       "</style>\n",
       "<table border=\"1\" class=\"dataframe\">\n",
       "  <thead>\n",
       "    <tr style=\"text-align: right;\">\n",
       "      <th></th>\n",
       "      <th>Name</th>\n",
       "      <th>Team</th>\n",
       "    </tr>\n",
       "  </thead>\n",
       "  <tbody>\n",
       "    <tr>\n",
       "      <th>0</th>\n",
       "      <td>Avery Bradley</td>\n",
       "      <td>Boston Celtics</td>\n",
       "    </tr>\n",
       "    <tr>\n",
       "      <th>1</th>\n",
       "      <td>Jae Crowder</td>\n",
       "      <td>Boston Celtics</td>\n",
       "    </tr>\n",
       "    <tr>\n",
       "      <th>2</th>\n",
       "      <td>John Holland</td>\n",
       "      <td>Boston Celtics</td>\n",
       "    </tr>\n",
       "    <tr>\n",
       "      <th>3</th>\n",
       "      <td>R.J. Hunter</td>\n",
       "      <td>Boston Celtics</td>\n",
       "    </tr>\n",
       "    <tr>\n",
       "      <th>4</th>\n",
       "      <td>Jonas Jerebko</td>\n",
       "      <td>Boston Celtics</td>\n",
       "    </tr>\n",
       "    <tr>\n",
       "      <th>...</th>\n",
       "      <td>...</td>\n",
       "      <td>...</td>\n",
       "    </tr>\n",
       "    <tr>\n",
       "      <th>452</th>\n",
       "      <td>Trey Lyles</td>\n",
       "      <td>Utah Jazz</td>\n",
       "    </tr>\n",
       "    <tr>\n",
       "      <th>453</th>\n",
       "      <td>Shelvin Mack</td>\n",
       "      <td>Utah Jazz</td>\n",
       "    </tr>\n",
       "    <tr>\n",
       "      <th>454</th>\n",
       "      <td>Raul Neto</td>\n",
       "      <td>Utah Jazz</td>\n",
       "    </tr>\n",
       "    <tr>\n",
       "      <th>455</th>\n",
       "      <td>Tibor Pleiss</td>\n",
       "      <td>Utah Jazz</td>\n",
       "    </tr>\n",
       "    <tr>\n",
       "      <th>456</th>\n",
       "      <td>Jeff Withey</td>\n",
       "      <td>Utah Jazz</td>\n",
       "    </tr>\n",
       "  </tbody>\n",
       "</table>\n",
       "<p>457 rows × 2 columns</p>\n",
       "</div>"
      ],
      "text/plain": [
       "              Name            Team\n",
       "0    Avery Bradley  Boston Celtics\n",
       "1      Jae Crowder  Boston Celtics\n",
       "2     John Holland  Boston Celtics\n",
       "3      R.J. Hunter  Boston Celtics\n",
       "4    Jonas Jerebko  Boston Celtics\n",
       "..             ...             ...\n",
       "452     Trey Lyles       Utah Jazz\n",
       "453   Shelvin Mack       Utah Jazz\n",
       "454      Raul Neto       Utah Jazz\n",
       "455   Tibor Pleiss       Utah Jazz\n",
       "456    Jeff Withey       Utah Jazz\n",
       "\n",
       "[457 rows x 2 columns]"
      ]
     },
     "execution_count": 16,
     "metadata": {},
     "output_type": "execute_result"
    }
   ],
   "source": [
    "df[[\"Name\", \"Team\"]] # returns another dataframe object, names and teams columns."
   ]
  },
  {
   "cell_type": "code",
   "execution_count": 17,
   "metadata": {},
   "outputs": [
    {
     "data": {
      "text/html": [
       "<div>\n",
       "<style scoped>\n",
       "    .dataframe tbody tr th:only-of-type {\n",
       "        vertical-align: middle;\n",
       "    }\n",
       "\n",
       "    .dataframe tbody tr th {\n",
       "        vertical-align: top;\n",
       "    }\n",
       "\n",
       "    .dataframe thead th {\n",
       "        text-align: right;\n",
       "    }\n",
       "</style>\n",
       "<table border=\"1\" class=\"dataframe\">\n",
       "  <thead>\n",
       "    <tr style=\"text-align: right;\">\n",
       "      <th></th>\n",
       "      <th>Name</th>\n",
       "      <th>Team</th>\n",
       "      <th>Number</th>\n",
       "      <th>Position</th>\n",
       "      <th>Age</th>\n",
       "      <th>Height</th>\n",
       "      <th>Weight</th>\n",
       "      <th>College</th>\n",
       "      <th>Salary</th>\n",
       "    </tr>\n",
       "  </thead>\n",
       "  <tbody>\n",
       "    <tr>\n",
       "      <th>19</th>\n",
       "      <td>Jarrett Jack</td>\n",
       "      <td>Brooklyn Nets</td>\n",
       "      <td>2.0</td>\n",
       "      <td>PG</td>\n",
       "      <td>32.0</td>\n",
       "      <td>6-3</td>\n",
       "      <td>200.0</td>\n",
       "      <td>Georgia Tech</td>\n",
       "      <td>6300000.0</td>\n",
       "    </tr>\n",
       "    <tr>\n",
       "      <th>31</th>\n",
       "      <td>Lou Amundson</td>\n",
       "      <td>New York Knicks</td>\n",
       "      <td>17.0</td>\n",
       "      <td>PF</td>\n",
       "      <td>33.0</td>\n",
       "      <td>6-9</td>\n",
       "      <td>220.0</td>\n",
       "      <td>UNLV</td>\n",
       "      <td>1635476.0</td>\n",
       "    </tr>\n",
       "    <tr>\n",
       "      <th>33</th>\n",
       "      <td>Carmelo Anthony</td>\n",
       "      <td>New York Knicks</td>\n",
       "      <td>7.0</td>\n",
       "      <td>SF</td>\n",
       "      <td>32.0</td>\n",
       "      <td>6-8</td>\n",
       "      <td>240.0</td>\n",
       "      <td>Syracuse</td>\n",
       "      <td>22875000.0</td>\n",
       "    </tr>\n",
       "    <tr>\n",
       "      <th>34</th>\n",
       "      <td>Jose Calderon</td>\n",
       "      <td>New York Knicks</td>\n",
       "      <td>3.0</td>\n",
       "      <td>PG</td>\n",
       "      <td>34.0</td>\n",
       "      <td>6-3</td>\n",
       "      <td>200.0</td>\n",
       "      <td>NaN</td>\n",
       "      <td>7402812.0</td>\n",
       "    </tr>\n",
       "    <tr>\n",
       "      <th>43</th>\n",
       "      <td>Sasha Vujacic</td>\n",
       "      <td>New York Knicks</td>\n",
       "      <td>18.0</td>\n",
       "      <td>SG</td>\n",
       "      <td>32.0</td>\n",
       "      <td>6-7</td>\n",
       "      <td>195.0</td>\n",
       "      <td>NaN</td>\n",
       "      <td>947276.0</td>\n",
       "    </tr>\n",
       "    <tr>\n",
       "      <th>...</th>\n",
       "      <td>...</td>\n",
       "      <td>...</td>\n",
       "      <td>...</td>\n",
       "      <td>...</td>\n",
       "      <td>...</td>\n",
       "      <td>...</td>\n",
       "      <td>...</td>\n",
       "      <td>...</td>\n",
       "      <td>...</td>\n",
       "    </tr>\n",
       "    <tr>\n",
       "      <th>406</th>\n",
       "      <td>Tayshaun Prince</td>\n",
       "      <td>Minnesota Timberwolves</td>\n",
       "      <td>12.0</td>\n",
       "      <td>SF</td>\n",
       "      <td>36.0</td>\n",
       "      <td>6-9</td>\n",
       "      <td>212.0</td>\n",
       "      <td>Kentucky</td>\n",
       "      <td>947276.0</td>\n",
       "    </tr>\n",
       "    <tr>\n",
       "      <th>413</th>\n",
       "      <td>Nick Collison</td>\n",
       "      <td>Oklahoma City Thunder</td>\n",
       "      <td>4.0</td>\n",
       "      <td>PF</td>\n",
       "      <td>35.0</td>\n",
       "      <td>6-10</td>\n",
       "      <td>255.0</td>\n",
       "      <td>Kansas</td>\n",
       "      <td>3750000.0</td>\n",
       "    </tr>\n",
       "    <tr>\n",
       "      <th>415</th>\n",
       "      <td>Randy Foye</td>\n",
       "      <td>Oklahoma City Thunder</td>\n",
       "      <td>6.0</td>\n",
       "      <td>SG</td>\n",
       "      <td>32.0</td>\n",
       "      <td>6-4</td>\n",
       "      <td>213.0</td>\n",
       "      <td>Villanova</td>\n",
       "      <td>3135000.0</td>\n",
       "    </tr>\n",
       "    <tr>\n",
       "      <th>420</th>\n",
       "      <td>Nazr Mohammed</td>\n",
       "      <td>Oklahoma City Thunder</td>\n",
       "      <td>13.0</td>\n",
       "      <td>C</td>\n",
       "      <td>38.0</td>\n",
       "      <td>6-10</td>\n",
       "      <td>250.0</td>\n",
       "      <td>Kentucky</td>\n",
       "      <td>222888.0</td>\n",
       "    </tr>\n",
       "    <tr>\n",
       "      <th>434</th>\n",
       "      <td>Chris Kaman</td>\n",
       "      <td>Portland Trail Blazers</td>\n",
       "      <td>35.0</td>\n",
       "      <td>C</td>\n",
       "      <td>34.0</td>\n",
       "      <td>7-0</td>\n",
       "      <td>265.0</td>\n",
       "      <td>Central Michigan</td>\n",
       "      <td>5016000.0</td>\n",
       "    </tr>\n",
       "  </tbody>\n",
       "</table>\n",
       "<p>91 rows × 9 columns</p>\n",
       "</div>"
      ],
      "text/plain": [
       "                Name                    Team  Number Position   Age Height  \\\n",
       "19      Jarrett Jack           Brooklyn Nets     2.0       PG  32.0    6-3   \n",
       "31      Lou Amundson         New York Knicks    17.0       PF  33.0    6-9   \n",
       "33   Carmelo Anthony         New York Knicks     7.0       SF  32.0    6-8   \n",
       "34     Jose Calderon         New York Knicks     3.0       PG  34.0    6-3   \n",
       "43     Sasha Vujacic         New York Knicks    18.0       SG  32.0    6-7   \n",
       "..               ...                     ...     ...      ...   ...    ...   \n",
       "406  Tayshaun Prince  Minnesota Timberwolves    12.0       SF  36.0    6-9   \n",
       "413    Nick Collison   Oklahoma City Thunder     4.0       PF  35.0   6-10   \n",
       "415       Randy Foye   Oklahoma City Thunder     6.0       SG  32.0    6-4   \n",
       "420    Nazr Mohammed   Oklahoma City Thunder    13.0        C  38.0   6-10   \n",
       "434      Chris Kaman  Portland Trail Blazers    35.0        C  34.0    7-0   \n",
       "\n",
       "     Weight           College      Salary  \n",
       "19    200.0      Georgia Tech   6300000.0  \n",
       "31    220.0              UNLV   1635476.0  \n",
       "33    240.0          Syracuse  22875000.0  \n",
       "34    200.0               NaN   7402812.0  \n",
       "43    195.0               NaN    947276.0  \n",
       "..      ...               ...         ...  \n",
       "406   212.0          Kentucky    947276.0  \n",
       "413   255.0            Kansas   3750000.0  \n",
       "415   213.0         Villanova   3135000.0  \n",
       "420   250.0          Kentucky    222888.0  \n",
       "434   265.0  Central Michigan   5016000.0  \n",
       "\n",
       "[91 rows x 9 columns]"
      ]
     },
     "execution_count": 17,
     "metadata": {},
     "output_type": "execute_result"
    }
   ],
   "source": [
    "df[df[\"Age\"] > 30]  # selection by boolean arrays, take the columns whose age is bigger than 30."
   ]
  },
  {
   "cell_type": "markdown",
   "metadata": {},
   "source": [
    "### Index Mechanism\n",
    "\n",
    "\n",
    "By default, whenever you read a dataframe from a file, a zero-based index column is generated automatically, unless you specify your indices. \n",
    "\n",
    "In order to change the index values, you can call `set_index` method, which returns a new dataframe."
   ]
  },
  {
   "cell_type": "code",
   "execution_count": 18,
   "metadata": {},
   "outputs": [
    {
     "data": {
      "text/html": [
       "<div>\n",
       "<style scoped>\n",
       "    .dataframe tbody tr th:only-of-type {\n",
       "        vertical-align: middle;\n",
       "    }\n",
       "\n",
       "    .dataframe tbody tr th {\n",
       "        vertical-align: top;\n",
       "    }\n",
       "\n",
       "    .dataframe thead th {\n",
       "        text-align: right;\n",
       "    }\n",
       "</style>\n",
       "<table border=\"1\" class=\"dataframe\">\n",
       "  <thead>\n",
       "    <tr style=\"text-align: right;\">\n",
       "      <th></th>\n",
       "      <th>Team</th>\n",
       "      <th>Number</th>\n",
       "      <th>Position</th>\n",
       "      <th>Age</th>\n",
       "      <th>Height</th>\n",
       "      <th>Weight</th>\n",
       "      <th>College</th>\n",
       "      <th>Salary</th>\n",
       "    </tr>\n",
       "    <tr>\n",
       "      <th>Name</th>\n",
       "      <th></th>\n",
       "      <th></th>\n",
       "      <th></th>\n",
       "      <th></th>\n",
       "      <th></th>\n",
       "      <th></th>\n",
       "      <th></th>\n",
       "      <th></th>\n",
       "    </tr>\n",
       "  </thead>\n",
       "  <tbody>\n",
       "    <tr>\n",
       "      <th>Avery Bradley</th>\n",
       "      <td>Boston Celtics</td>\n",
       "      <td>0.0</td>\n",
       "      <td>PG</td>\n",
       "      <td>25.0</td>\n",
       "      <td>6-2</td>\n",
       "      <td>180.0</td>\n",
       "      <td>Texas</td>\n",
       "      <td>7730337.0</td>\n",
       "    </tr>\n",
       "    <tr>\n",
       "      <th>Jae Crowder</th>\n",
       "      <td>Boston Celtics</td>\n",
       "      <td>99.0</td>\n",
       "      <td>SF</td>\n",
       "      <td>25.0</td>\n",
       "      <td>6-6</td>\n",
       "      <td>235.0</td>\n",
       "      <td>Marquette</td>\n",
       "      <td>6796117.0</td>\n",
       "    </tr>\n",
       "    <tr>\n",
       "      <th>John Holland</th>\n",
       "      <td>Boston Celtics</td>\n",
       "      <td>30.0</td>\n",
       "      <td>SG</td>\n",
       "      <td>27.0</td>\n",
       "      <td>6-5</td>\n",
       "      <td>205.0</td>\n",
       "      <td>Boston University</td>\n",
       "      <td>NaN</td>\n",
       "    </tr>\n",
       "    <tr>\n",
       "      <th>R.J. Hunter</th>\n",
       "      <td>Boston Celtics</td>\n",
       "      <td>28.0</td>\n",
       "      <td>SG</td>\n",
       "      <td>22.0</td>\n",
       "      <td>6-5</td>\n",
       "      <td>185.0</td>\n",
       "      <td>Georgia State</td>\n",
       "      <td>1148640.0</td>\n",
       "    </tr>\n",
       "    <tr>\n",
       "      <th>Jonas Jerebko</th>\n",
       "      <td>Boston Celtics</td>\n",
       "      <td>8.0</td>\n",
       "      <td>PF</td>\n",
       "      <td>29.0</td>\n",
       "      <td>6-10</td>\n",
       "      <td>231.0</td>\n",
       "      <td>NaN</td>\n",
       "      <td>5000000.0</td>\n",
       "    </tr>\n",
       "    <tr>\n",
       "      <th>...</th>\n",
       "      <td>...</td>\n",
       "      <td>...</td>\n",
       "      <td>...</td>\n",
       "      <td>...</td>\n",
       "      <td>...</td>\n",
       "      <td>...</td>\n",
       "      <td>...</td>\n",
       "      <td>...</td>\n",
       "    </tr>\n",
       "    <tr>\n",
       "      <th>Trey Lyles</th>\n",
       "      <td>Utah Jazz</td>\n",
       "      <td>41.0</td>\n",
       "      <td>PF</td>\n",
       "      <td>20.0</td>\n",
       "      <td>6-10</td>\n",
       "      <td>234.0</td>\n",
       "      <td>Kentucky</td>\n",
       "      <td>2239800.0</td>\n",
       "    </tr>\n",
       "    <tr>\n",
       "      <th>Shelvin Mack</th>\n",
       "      <td>Utah Jazz</td>\n",
       "      <td>8.0</td>\n",
       "      <td>PG</td>\n",
       "      <td>26.0</td>\n",
       "      <td>6-3</td>\n",
       "      <td>203.0</td>\n",
       "      <td>Butler</td>\n",
       "      <td>2433333.0</td>\n",
       "    </tr>\n",
       "    <tr>\n",
       "      <th>Raul Neto</th>\n",
       "      <td>Utah Jazz</td>\n",
       "      <td>25.0</td>\n",
       "      <td>PG</td>\n",
       "      <td>24.0</td>\n",
       "      <td>6-1</td>\n",
       "      <td>179.0</td>\n",
       "      <td>NaN</td>\n",
       "      <td>900000.0</td>\n",
       "    </tr>\n",
       "    <tr>\n",
       "      <th>Tibor Pleiss</th>\n",
       "      <td>Utah Jazz</td>\n",
       "      <td>21.0</td>\n",
       "      <td>C</td>\n",
       "      <td>26.0</td>\n",
       "      <td>7-3</td>\n",
       "      <td>256.0</td>\n",
       "      <td>NaN</td>\n",
       "      <td>2900000.0</td>\n",
       "    </tr>\n",
       "    <tr>\n",
       "      <th>Jeff Withey</th>\n",
       "      <td>Utah Jazz</td>\n",
       "      <td>24.0</td>\n",
       "      <td>C</td>\n",
       "      <td>26.0</td>\n",
       "      <td>7-0</td>\n",
       "      <td>231.0</td>\n",
       "      <td>Kansas</td>\n",
       "      <td>947276.0</td>\n",
       "    </tr>\n",
       "  </tbody>\n",
       "</table>\n",
       "<p>457 rows × 8 columns</p>\n",
       "</div>"
      ],
      "text/plain": [
       "                         Team  Number Position   Age Height  Weight  \\\n",
       "Name                                                                  \n",
       "Avery Bradley  Boston Celtics     0.0       PG  25.0    6-2   180.0   \n",
       "Jae Crowder    Boston Celtics    99.0       SF  25.0    6-6   235.0   \n",
       "John Holland   Boston Celtics    30.0       SG  27.0    6-5   205.0   \n",
       "R.J. Hunter    Boston Celtics    28.0       SG  22.0    6-5   185.0   \n",
       "Jonas Jerebko  Boston Celtics     8.0       PF  29.0   6-10   231.0   \n",
       "...                       ...     ...      ...   ...    ...     ...   \n",
       "Trey Lyles          Utah Jazz    41.0       PF  20.0   6-10   234.0   \n",
       "Shelvin Mack        Utah Jazz     8.0       PG  26.0    6-3   203.0   \n",
       "Raul Neto           Utah Jazz    25.0       PG  24.0    6-1   179.0   \n",
       "Tibor Pleiss        Utah Jazz    21.0        C  26.0    7-3   256.0   \n",
       "Jeff Withey         Utah Jazz    24.0        C  26.0    7-0   231.0   \n",
       "\n",
       "                         College     Salary  \n",
       "Name                                         \n",
       "Avery Bradley              Texas  7730337.0  \n",
       "Jae Crowder            Marquette  6796117.0  \n",
       "John Holland   Boston University        NaN  \n",
       "R.J. Hunter        Georgia State  1148640.0  \n",
       "Jonas Jerebko                NaN  5000000.0  \n",
       "...                          ...        ...  \n",
       "Trey Lyles              Kentucky  2239800.0  \n",
       "Shelvin Mack              Butler  2433333.0  \n",
       "Raul Neto                    NaN   900000.0  \n",
       "Tibor Pleiss                 NaN  2900000.0  \n",
       "Jeff Withey               Kansas   947276.0  \n",
       "\n",
       "[457 rows x 8 columns]"
      ]
     },
     "execution_count": 18,
     "metadata": {},
     "output_type": "execute_result"
    }
   ],
   "source": [
    "# sets the Name column\n",
    "# as the new index\n",
    "# and returns a new dataframe\n",
    "df.set_index(\"Name\")"
   ]
  },
  {
   "cell_type": "markdown",
   "metadata": {},
   "source": [
    "### An Important Note\n",
    "\n",
    "In pandas, most of the methods return a new dataframe and do not alter the original. Which means, whenever you want to make sure that you modify the original dataframe, you mainly have two options:\n",
    "\n",
    "- Assign the returned dataframe to the original.\n",
    "  - df = df.set_index(...)  # since set_index method returns the altered df\n",
    "- Set `inplace` parameter to `True`.\n",
    "  - df.set_index(..., inplace=True) \n",
    "\n",
    "Please pay attention that, whenever you set the `inplace` parameter to `True`, the method would not return a value. Which means if you try to do something like \n",
    "\n",
    "`df = df.set_index(..., inplace=True)`\n",
    "\n",
    "you will lose your dataframe."
   ]
  },
  {
   "cell_type": "code",
   "execution_count": 19,
   "metadata": {},
   "outputs": [
    {
     "data": {
      "text/html": [
       "<div>\n",
       "<style scoped>\n",
       "    .dataframe tbody tr th:only-of-type {\n",
       "        vertical-align: middle;\n",
       "    }\n",
       "\n",
       "    .dataframe tbody tr th {\n",
       "        vertical-align: top;\n",
       "    }\n",
       "\n",
       "    .dataframe thead th {\n",
       "        text-align: right;\n",
       "    }\n",
       "</style>\n",
       "<table border=\"1\" class=\"dataframe\">\n",
       "  <thead>\n",
       "    <tr style=\"text-align: right;\">\n",
       "      <th></th>\n",
       "      <th>Team</th>\n",
       "      <th>Number</th>\n",
       "      <th>Position</th>\n",
       "      <th>Age</th>\n",
       "      <th>Height</th>\n",
       "      <th>Weight</th>\n",
       "      <th>College</th>\n",
       "      <th>Salary</th>\n",
       "    </tr>\n",
       "    <tr>\n",
       "      <th>Name</th>\n",
       "      <th></th>\n",
       "      <th></th>\n",
       "      <th></th>\n",
       "      <th></th>\n",
       "      <th></th>\n",
       "      <th></th>\n",
       "      <th></th>\n",
       "      <th></th>\n",
       "    </tr>\n",
       "  </thead>\n",
       "  <tbody>\n",
       "    <tr>\n",
       "      <th>Avery Bradley</th>\n",
       "      <td>Boston Celtics</td>\n",
       "      <td>0.0</td>\n",
       "      <td>PG</td>\n",
       "      <td>25.0</td>\n",
       "      <td>6-2</td>\n",
       "      <td>180.0</td>\n",
       "      <td>Texas</td>\n",
       "      <td>7730337.0</td>\n",
       "    </tr>\n",
       "    <tr>\n",
       "      <th>Jae Crowder</th>\n",
       "      <td>Boston Celtics</td>\n",
       "      <td>99.0</td>\n",
       "      <td>SF</td>\n",
       "      <td>25.0</td>\n",
       "      <td>6-6</td>\n",
       "      <td>235.0</td>\n",
       "      <td>Marquette</td>\n",
       "      <td>6796117.0</td>\n",
       "    </tr>\n",
       "    <tr>\n",
       "      <th>John Holland</th>\n",
       "      <td>Boston Celtics</td>\n",
       "      <td>30.0</td>\n",
       "      <td>SG</td>\n",
       "      <td>27.0</td>\n",
       "      <td>6-5</td>\n",
       "      <td>205.0</td>\n",
       "      <td>Boston University</td>\n",
       "      <td>NaN</td>\n",
       "    </tr>\n",
       "    <tr>\n",
       "      <th>R.J. Hunter</th>\n",
       "      <td>Boston Celtics</td>\n",
       "      <td>28.0</td>\n",
       "      <td>SG</td>\n",
       "      <td>22.0</td>\n",
       "      <td>6-5</td>\n",
       "      <td>185.0</td>\n",
       "      <td>Georgia State</td>\n",
       "      <td>1148640.0</td>\n",
       "    </tr>\n",
       "    <tr>\n",
       "      <th>Jonas Jerebko</th>\n",
       "      <td>Boston Celtics</td>\n",
       "      <td>8.0</td>\n",
       "      <td>PF</td>\n",
       "      <td>29.0</td>\n",
       "      <td>6-10</td>\n",
       "      <td>231.0</td>\n",
       "      <td>NaN</td>\n",
       "      <td>5000000.0</td>\n",
       "    </tr>\n",
       "    <tr>\n",
       "      <th>...</th>\n",
       "      <td>...</td>\n",
       "      <td>...</td>\n",
       "      <td>...</td>\n",
       "      <td>...</td>\n",
       "      <td>...</td>\n",
       "      <td>...</td>\n",
       "      <td>...</td>\n",
       "      <td>...</td>\n",
       "    </tr>\n",
       "    <tr>\n",
       "      <th>Trey Lyles</th>\n",
       "      <td>Utah Jazz</td>\n",
       "      <td>41.0</td>\n",
       "      <td>PF</td>\n",
       "      <td>20.0</td>\n",
       "      <td>6-10</td>\n",
       "      <td>234.0</td>\n",
       "      <td>Kentucky</td>\n",
       "      <td>2239800.0</td>\n",
       "    </tr>\n",
       "    <tr>\n",
       "      <th>Shelvin Mack</th>\n",
       "      <td>Utah Jazz</td>\n",
       "      <td>8.0</td>\n",
       "      <td>PG</td>\n",
       "      <td>26.0</td>\n",
       "      <td>6-3</td>\n",
       "      <td>203.0</td>\n",
       "      <td>Butler</td>\n",
       "      <td>2433333.0</td>\n",
       "    </tr>\n",
       "    <tr>\n",
       "      <th>Raul Neto</th>\n",
       "      <td>Utah Jazz</td>\n",
       "      <td>25.0</td>\n",
       "      <td>PG</td>\n",
       "      <td>24.0</td>\n",
       "      <td>6-1</td>\n",
       "      <td>179.0</td>\n",
       "      <td>NaN</td>\n",
       "      <td>900000.0</td>\n",
       "    </tr>\n",
       "    <tr>\n",
       "      <th>Tibor Pleiss</th>\n",
       "      <td>Utah Jazz</td>\n",
       "      <td>21.0</td>\n",
       "      <td>C</td>\n",
       "      <td>26.0</td>\n",
       "      <td>7-3</td>\n",
       "      <td>256.0</td>\n",
       "      <td>NaN</td>\n",
       "      <td>2900000.0</td>\n",
       "    </tr>\n",
       "    <tr>\n",
       "      <th>Jeff Withey</th>\n",
       "      <td>Utah Jazz</td>\n",
       "      <td>24.0</td>\n",
       "      <td>C</td>\n",
       "      <td>26.0</td>\n",
       "      <td>7-0</td>\n",
       "      <td>231.0</td>\n",
       "      <td>Kansas</td>\n",
       "      <td>947276.0</td>\n",
       "    </tr>\n",
       "  </tbody>\n",
       "</table>\n",
       "<p>457 rows × 8 columns</p>\n",
       "</div>"
      ],
      "text/plain": [
       "                         Team  Number Position   Age Height  Weight  \\\n",
       "Name                                                                  \n",
       "Avery Bradley  Boston Celtics     0.0       PG  25.0    6-2   180.0   \n",
       "Jae Crowder    Boston Celtics    99.0       SF  25.0    6-6   235.0   \n",
       "John Holland   Boston Celtics    30.0       SG  27.0    6-5   205.0   \n",
       "R.J. Hunter    Boston Celtics    28.0       SG  22.0    6-5   185.0   \n",
       "Jonas Jerebko  Boston Celtics     8.0       PF  29.0   6-10   231.0   \n",
       "...                       ...     ...      ...   ...    ...     ...   \n",
       "Trey Lyles          Utah Jazz    41.0       PF  20.0   6-10   234.0   \n",
       "Shelvin Mack        Utah Jazz     8.0       PG  26.0    6-3   203.0   \n",
       "Raul Neto           Utah Jazz    25.0       PG  24.0    6-1   179.0   \n",
       "Tibor Pleiss        Utah Jazz    21.0        C  26.0    7-3   256.0   \n",
       "Jeff Withey         Utah Jazz    24.0        C  26.0    7-0   231.0   \n",
       "\n",
       "                         College     Salary  \n",
       "Name                                         \n",
       "Avery Bradley              Texas  7730337.0  \n",
       "Jae Crowder            Marquette  6796117.0  \n",
       "John Holland   Boston University        NaN  \n",
       "R.J. Hunter        Georgia State  1148640.0  \n",
       "Jonas Jerebko                NaN  5000000.0  \n",
       "...                          ...        ...  \n",
       "Trey Lyles              Kentucky  2239800.0  \n",
       "Shelvin Mack              Butler  2433333.0  \n",
       "Raul Neto                    NaN   900000.0  \n",
       "Tibor Pleiss                 NaN  2900000.0  \n",
       "Jeff Withey               Kansas   947276.0  \n",
       "\n",
       "[457 rows x 8 columns]"
      ]
     },
     "execution_count": 19,
     "metadata": {},
     "output_type": "execute_result"
    }
   ],
   "source": [
    "df = df.set_index(\"Name\")  # now, we modify the original df\n",
    "df"
   ]
  },
  {
   "cell_type": "code",
   "execution_count": 20,
   "metadata": {},
   "outputs": [
    {
     "data": {
      "text/plain": [
       "Index(['Avery Bradley', 'Jae Crowder', 'John Holland', 'R.J. Hunter',\n",
       "       'Jonas Jerebko', 'Amir Johnson', 'Jordan Mickey', 'Kelly Olynyk',\n",
       "       'Terry Rozier', 'Marcus Smart',\n",
       "       ...\n",
       "       'Rudy Gobert', 'Gordon Hayward', 'Rodney Hood', 'Joe Ingles',\n",
       "       'Chris Johnson', 'Trey Lyles', 'Shelvin Mack', 'Raul Neto',\n",
       "       'Tibor Pleiss', 'Jeff Withey'],\n",
       "      dtype='object', name='Name', length=457)"
      ]
     },
     "execution_count": 20,
     "metadata": {},
     "output_type": "execute_result"
    }
   ],
   "source": [
    "df.index  # returns the index values"
   ]
  },
  {
   "cell_type": "markdown",
   "metadata": {},
   "source": [
    "### loc vs iloc\n",
    "\n",
    "\n",
    "iloc and loc are two methods provided by pandas library for indexing and selecting data in a DataFrame.\n",
    "\n",
    "The main difference between the two methods is the way they use to access data:\n",
    "\n",
    "iloc uses integer-based indexing to access data in a DataFrame. It takes integer values to select rows and columns based on their numerical position. For example, df.iloc[0:3, 2:5] would select the first three rows and columns 2 through 4 (i.e., the columns at positions 2, 3, and 4). The indexing starts from 0.\n",
    "\n",
    "loc uses label-based indexing to access data in a DataFrame. It takes label values to select rows and columns based on their index or column name. For example, df.loc[:, 'column_name'] would select all rows of the DataFrame and the column with the label 'column_name'.\n"
   ]
  },
  {
   "cell_type": "code",
   "execution_count": 21,
   "metadata": {},
   "outputs": [
    {
     "data": {
      "text/html": [
       "<div>\n",
       "<style scoped>\n",
       "    .dataframe tbody tr th:only-of-type {\n",
       "        vertical-align: middle;\n",
       "    }\n",
       "\n",
       "    .dataframe tbody tr th {\n",
       "        vertical-align: top;\n",
       "    }\n",
       "\n",
       "    .dataframe thead th {\n",
       "        text-align: right;\n",
       "    }\n",
       "</style>\n",
       "<table border=\"1\" class=\"dataframe\">\n",
       "  <thead>\n",
       "    <tr style=\"text-align: right;\">\n",
       "      <th></th>\n",
       "      <th>Team</th>\n",
       "      <th>Number</th>\n",
       "      <th>Position</th>\n",
       "      <th>Age</th>\n",
       "      <th>Height</th>\n",
       "      <th>Weight</th>\n",
       "      <th>College</th>\n",
       "      <th>Salary</th>\n",
       "    </tr>\n",
       "    <tr>\n",
       "      <th>Name</th>\n",
       "      <th></th>\n",
       "      <th></th>\n",
       "      <th></th>\n",
       "      <th></th>\n",
       "      <th></th>\n",
       "      <th></th>\n",
       "      <th></th>\n",
       "      <th></th>\n",
       "    </tr>\n",
       "  </thead>\n",
       "  <tbody>\n",
       "    <tr>\n",
       "      <th>Aaron Brooks</th>\n",
       "      <td>Chicago Bulls</td>\n",
       "      <td>0.0</td>\n",
       "      <td>PG</td>\n",
       "      <td>31.0</td>\n",
       "      <td>6-0</td>\n",
       "      <td>161.0</td>\n",
       "      <td>Oregon</td>\n",
       "      <td>2250000.0</td>\n",
       "    </tr>\n",
       "    <tr>\n",
       "      <th>Aaron Gordon</th>\n",
       "      <td>Orlando Magic</td>\n",
       "      <td>0.0</td>\n",
       "      <td>PF</td>\n",
       "      <td>20.0</td>\n",
       "      <td>6-9</td>\n",
       "      <td>220.0</td>\n",
       "      <td>Arizona</td>\n",
       "      <td>4171680.0</td>\n",
       "    </tr>\n",
       "    <tr>\n",
       "      <th>Aaron Harrison</th>\n",
       "      <td>Charlotte Hornets</td>\n",
       "      <td>9.0</td>\n",
       "      <td>SG</td>\n",
       "      <td>21.0</td>\n",
       "      <td>6-6</td>\n",
       "      <td>210.0</td>\n",
       "      <td>Kentucky</td>\n",
       "      <td>525093.0</td>\n",
       "    </tr>\n",
       "    <tr>\n",
       "      <th>Adreian Payne</th>\n",
       "      <td>Minnesota Timberwolves</td>\n",
       "      <td>33.0</td>\n",
       "      <td>PF</td>\n",
       "      <td>25.0</td>\n",
       "      <td>6-10</td>\n",
       "      <td>237.0</td>\n",
       "      <td>Michigan State</td>\n",
       "      <td>1938840.0</td>\n",
       "    </tr>\n",
       "    <tr>\n",
       "      <th>Al Horford</th>\n",
       "      <td>Atlanta Hawks</td>\n",
       "      <td>15.0</td>\n",
       "      <td>C</td>\n",
       "      <td>30.0</td>\n",
       "      <td>6-10</td>\n",
       "      <td>245.0</td>\n",
       "      <td>Florida</td>\n",
       "      <td>12000000.0</td>\n",
       "    </tr>\n",
       "    <tr>\n",
       "      <th>...</th>\n",
       "      <td>...</td>\n",
       "      <td>...</td>\n",
       "      <td>...</td>\n",
       "      <td>...</td>\n",
       "      <td>...</td>\n",
       "      <td>...</td>\n",
       "      <td>...</td>\n",
       "      <td>...</td>\n",
       "    </tr>\n",
       "    <tr>\n",
       "      <th>Wilson Chandler</th>\n",
       "      <td>Denver Nuggets</td>\n",
       "      <td>21.0</td>\n",
       "      <td>SF</td>\n",
       "      <td>29.0</td>\n",
       "      <td>6-8</td>\n",
       "      <td>225.0</td>\n",
       "      <td>DePaul</td>\n",
       "      <td>10449438.0</td>\n",
       "    </tr>\n",
       "    <tr>\n",
       "      <th>Xavier Munford</th>\n",
       "      <td>Memphis Grizzlies</td>\n",
       "      <td>14.0</td>\n",
       "      <td>PG</td>\n",
       "      <td>24.0</td>\n",
       "      <td>6-3</td>\n",
       "      <td>180.0</td>\n",
       "      <td>Rhode Island</td>\n",
       "      <td>NaN</td>\n",
       "    </tr>\n",
       "    <tr>\n",
       "      <th>Zach LaVine</th>\n",
       "      <td>Minnesota Timberwolves</td>\n",
       "      <td>8.0</td>\n",
       "      <td>PG</td>\n",
       "      <td>21.0</td>\n",
       "      <td>6-5</td>\n",
       "      <td>189.0</td>\n",
       "      <td>UCLA</td>\n",
       "      <td>2148360.0</td>\n",
       "    </tr>\n",
       "    <tr>\n",
       "      <th>Zach Randolph</th>\n",
       "      <td>Memphis Grizzlies</td>\n",
       "      <td>50.0</td>\n",
       "      <td>PF</td>\n",
       "      <td>34.0</td>\n",
       "      <td>6-9</td>\n",
       "      <td>260.0</td>\n",
       "      <td>Michigan State</td>\n",
       "      <td>9638555.0</td>\n",
       "    </tr>\n",
       "    <tr>\n",
       "      <th>Zaza Pachulia</th>\n",
       "      <td>Dallas Mavericks</td>\n",
       "      <td>27.0</td>\n",
       "      <td>C</td>\n",
       "      <td>32.0</td>\n",
       "      <td>6-11</td>\n",
       "      <td>275.0</td>\n",
       "      <td>NaN</td>\n",
       "      <td>5200000.0</td>\n",
       "    </tr>\n",
       "  </tbody>\n",
       "</table>\n",
       "<p>457 rows × 8 columns</p>\n",
       "</div>"
      ],
      "text/plain": [
       "                                   Team  Number Position   Age Height  Weight  \\\n",
       "Name                                                                            \n",
       "Aaron Brooks              Chicago Bulls     0.0       PG  31.0    6-0   161.0   \n",
       "Aaron Gordon              Orlando Magic     0.0       PF  20.0    6-9   220.0   \n",
       "Aaron Harrison        Charlotte Hornets     9.0       SG  21.0    6-6   210.0   \n",
       "Adreian Payne    Minnesota Timberwolves    33.0       PF  25.0   6-10   237.0   \n",
       "Al Horford                Atlanta Hawks    15.0        C  30.0   6-10   245.0   \n",
       "...                                 ...     ...      ...   ...    ...     ...   \n",
       "Wilson Chandler          Denver Nuggets    21.0       SF  29.0    6-8   225.0   \n",
       "Xavier Munford        Memphis Grizzlies    14.0       PG  24.0    6-3   180.0   \n",
       "Zach LaVine      Minnesota Timberwolves     8.0       PG  21.0    6-5   189.0   \n",
       "Zach Randolph         Memphis Grizzlies    50.0       PF  34.0    6-9   260.0   \n",
       "Zaza Pachulia          Dallas Mavericks    27.0        C  32.0   6-11   275.0   \n",
       "\n",
       "                        College      Salary  \n",
       "Name                                         \n",
       "Aaron Brooks             Oregon   2250000.0  \n",
       "Aaron Gordon            Arizona   4171680.0  \n",
       "Aaron Harrison         Kentucky    525093.0  \n",
       "Adreian Payne    Michigan State   1938840.0  \n",
       "Al Horford              Florida  12000000.0  \n",
       "...                         ...         ...  \n",
       "Wilson Chandler          DePaul  10449438.0  \n",
       "Xavier Munford     Rhode Island         NaN  \n",
       "Zach LaVine                UCLA   2148360.0  \n",
       "Zach Randolph    Michigan State   9638555.0  \n",
       "Zaza Pachulia               NaN   5200000.0  \n",
       "\n",
       "[457 rows x 8 columns]"
      ]
     },
     "execution_count": 21,
     "metadata": {},
     "output_type": "execute_result"
    }
   ],
   "source": [
    "# sorts the instances wrt index values (curently it's player Names)\n",
    "# and returns a new dataframe\n",
    "df = df.sort_index(ascending=True)\n",
    "df"
   ]
  },
  {
   "cell_type": "markdown",
   "metadata": {},
   "source": [
    "#### Selection by Index Labels\n",
    "\n",
    ".loc[] is primarily label based, but may also be used with a boolean array.\n",
    "\n",
    "Allowed inputs are:\n",
    "\n",
    "    A single label, e.g. 5 or 'a', (note that 5 is interpreted as a label of the index, and never as an integer position along the index).\n",
    "\n",
    "    A list or array of labels, e.g. ['a', 'b', 'c'].\n",
    "\n",
    "    A slice object with labels, e.g. 'a':'f'.\n",
    "\n",
    "    Warning\n",
    "\n",
    "    Note that contrary to usual python slices, both the start and the stop are included\n",
    "\n",
    "    A boolean array of the same length as the axis being sliced, e.g. [True, False, True].\n",
    "\n",
    "    A callable function with one argument (the calling Series or DataFrame) and that returns valid output for indexing (one of the above)\n"
   ]
  },
  {
   "cell_type": "code",
   "execution_count": 22,
   "metadata": {},
   "outputs": [
    {
     "data": {
      "text/plain": [
       "Team        Los Angeles Lakers\n",
       "Number                    24.0\n",
       "Position                    SF\n",
       "Age                       37.0\n",
       "Height                     6-6\n",
       "Weight                   212.0\n",
       "College                    NaN\n",
       "Salary              25000000.0\n",
       "Name: Kobe Bryant, dtype: object"
      ]
     },
     "execution_count": 22,
     "metadata": {},
     "output_type": "execute_result"
    }
   ],
   "source": [
    "df.loc[\"Kobe Bryant\"]  # returns a single row as a series object"
   ]
  },
  {
   "cell_type": "code",
   "execution_count": 23,
   "metadata": {},
   "outputs": [
    {
     "data": {
      "text/html": [
       "<div>\n",
       "<style scoped>\n",
       "    .dataframe tbody tr th:only-of-type {\n",
       "        vertical-align: middle;\n",
       "    }\n",
       "\n",
       "    .dataframe tbody tr th {\n",
       "        vertical-align: top;\n",
       "    }\n",
       "\n",
       "    .dataframe thead th {\n",
       "        text-align: right;\n",
       "    }\n",
       "</style>\n",
       "<table border=\"1\" class=\"dataframe\">\n",
       "  <thead>\n",
       "    <tr style=\"text-align: right;\">\n",
       "      <th></th>\n",
       "      <th>Team</th>\n",
       "      <th>Number</th>\n",
       "    </tr>\n",
       "    <tr>\n",
       "      <th>Name</th>\n",
       "      <th></th>\n",
       "      <th></th>\n",
       "    </tr>\n",
       "  </thead>\n",
       "  <tbody>\n",
       "    <tr>\n",
       "      <th>Kobe Bryant</th>\n",
       "      <td>Los Angeles Lakers</td>\n",
       "      <td>24.0</td>\n",
       "    </tr>\n",
       "    <tr>\n",
       "      <th>Kosta Koufos</th>\n",
       "      <td>Sacramento Kings</td>\n",
       "      <td>41.0</td>\n",
       "    </tr>\n",
       "    <tr>\n",
       "      <th>Kris Humphries</th>\n",
       "      <td>Atlanta Hawks</td>\n",
       "      <td>43.0</td>\n",
       "    </tr>\n",
       "    <tr>\n",
       "      <th>Kristaps Porzingis</th>\n",
       "      <td>New York Knicks</td>\n",
       "      <td>6.0</td>\n",
       "    </tr>\n",
       "  </tbody>\n",
       "</table>\n",
       "</div>"
      ],
      "text/plain": [
       "                                  Team  Number\n",
       "Name                                          \n",
       "Kobe Bryant         Los Angeles Lakers    24.0\n",
       "Kosta Koufos          Sacramento Kings    41.0\n",
       "Kris Humphries           Atlanta Hawks    43.0\n",
       "Kristaps Porzingis     New York Knicks     6.0"
      ]
     },
     "execution_count": 23,
     "metadata": {},
     "output_type": "execute_result"
    }
   ],
   "source": [
    "df.loc[\"Kobe Bryant\":\"Kristaps Porzingis\", ['Team', 'Number']]  # getting only A and B from the selection\n",
    "# .loc[<selection for rows>, <selection for columns>]"
   ]
  },
  {
   "cell_type": "code",
   "execution_count": 24,
   "metadata": {},
   "outputs": [
    {
     "data": {
      "text/html": [
       "<div>\n",
       "<style scoped>\n",
       "    .dataframe tbody tr th:only-of-type {\n",
       "        vertical-align: middle;\n",
       "    }\n",
       "\n",
       "    .dataframe tbody tr th {\n",
       "        vertical-align: top;\n",
       "    }\n",
       "\n",
       "    .dataframe thead th {\n",
       "        text-align: right;\n",
       "    }\n",
       "</style>\n",
       "<table border=\"1\" class=\"dataframe\">\n",
       "  <thead>\n",
       "    <tr style=\"text-align: right;\">\n",
       "      <th></th>\n",
       "      <th>Team</th>\n",
       "      <th>Number</th>\n",
       "      <th>Position</th>\n",
       "      <th>Age</th>\n",
       "      <th>Height</th>\n",
       "      <th>Weight</th>\n",
       "      <th>College</th>\n",
       "      <th>Salary</th>\n",
       "    </tr>\n",
       "    <tr>\n",
       "      <th>Name</th>\n",
       "      <th></th>\n",
       "      <th></th>\n",
       "      <th></th>\n",
       "      <th></th>\n",
       "      <th></th>\n",
       "      <th></th>\n",
       "      <th></th>\n",
       "      <th></th>\n",
       "    </tr>\n",
       "  </thead>\n",
       "  <tbody>\n",
       "    <tr>\n",
       "      <th>Aaron Brooks</th>\n",
       "      <td>Chicago Bulls</td>\n",
       "      <td>0.0</td>\n",
       "      <td>PG</td>\n",
       "      <td>31.0</td>\n",
       "      <td>6-0</td>\n",
       "      <td>161.0</td>\n",
       "      <td>Oregon</td>\n",
       "      <td>2250000.0</td>\n",
       "    </tr>\n",
       "    <tr>\n",
       "      <th>Al Jefferson</th>\n",
       "      <td>Charlotte Hornets</td>\n",
       "      <td>25.0</td>\n",
       "      <td>C</td>\n",
       "      <td>31.0</td>\n",
       "      <td>6-10</td>\n",
       "      <td>289.0</td>\n",
       "      <td>NaN</td>\n",
       "      <td>13500000.0</td>\n",
       "    </tr>\n",
       "    <tr>\n",
       "      <th>Alan Anderson</th>\n",
       "      <td>Washington Wizards</td>\n",
       "      <td>6.0</td>\n",
       "      <td>SG</td>\n",
       "      <td>33.0</td>\n",
       "      <td>6-6</td>\n",
       "      <td>220.0</td>\n",
       "      <td>Michigan State</td>\n",
       "      <td>4000000.0</td>\n",
       "    </tr>\n",
       "    <tr>\n",
       "      <th>Amar'e Stoudemire</th>\n",
       "      <td>Miami Heat</td>\n",
       "      <td>5.0</td>\n",
       "      <td>PF</td>\n",
       "      <td>33.0</td>\n",
       "      <td>6-10</td>\n",
       "      <td>245.0</td>\n",
       "      <td>NaN</td>\n",
       "      <td>947276.0</td>\n",
       "    </tr>\n",
       "    <tr>\n",
       "      <th>Anderson Varejao</th>\n",
       "      <td>Golden State Warriors</td>\n",
       "      <td>18.0</td>\n",
       "      <td>PF</td>\n",
       "      <td>33.0</td>\n",
       "      <td>6-11</td>\n",
       "      <td>273.0</td>\n",
       "      <td>NaN</td>\n",
       "      <td>289755.0</td>\n",
       "    </tr>\n",
       "    <tr>\n",
       "      <th>...</th>\n",
       "      <td>...</td>\n",
       "      <td>...</td>\n",
       "      <td>...</td>\n",
       "      <td>...</td>\n",
       "      <td>...</td>\n",
       "      <td>...</td>\n",
       "      <td>...</td>\n",
       "      <td>...</td>\n",
       "    </tr>\n",
       "    <tr>\n",
       "      <th>Tyson Chandler</th>\n",
       "      <td>Phoenix Suns</td>\n",
       "      <td>4.0</td>\n",
       "      <td>C</td>\n",
       "      <td>33.0</td>\n",
       "      <td>7-1</td>\n",
       "      <td>240.0</td>\n",
       "      <td>NaN</td>\n",
       "      <td>13000000.0</td>\n",
       "    </tr>\n",
       "    <tr>\n",
       "      <th>Udonis Haslem</th>\n",
       "      <td>Miami Heat</td>\n",
       "      <td>40.0</td>\n",
       "      <td>PF</td>\n",
       "      <td>36.0</td>\n",
       "      <td>6-8</td>\n",
       "      <td>235.0</td>\n",
       "      <td>Florida</td>\n",
       "      <td>2854940.0</td>\n",
       "    </tr>\n",
       "    <tr>\n",
       "      <th>Vince Carter</th>\n",
       "      <td>Memphis Grizzlies</td>\n",
       "      <td>15.0</td>\n",
       "      <td>SG</td>\n",
       "      <td>39.0</td>\n",
       "      <td>6-6</td>\n",
       "      <td>220.0</td>\n",
       "      <td>North Carolina</td>\n",
       "      <td>4088019.0</td>\n",
       "    </tr>\n",
       "    <tr>\n",
       "      <th>Zach Randolph</th>\n",
       "      <td>Memphis Grizzlies</td>\n",
       "      <td>50.0</td>\n",
       "      <td>PF</td>\n",
       "      <td>34.0</td>\n",
       "      <td>6-9</td>\n",
       "      <td>260.0</td>\n",
       "      <td>Michigan State</td>\n",
       "      <td>9638555.0</td>\n",
       "    </tr>\n",
       "    <tr>\n",
       "      <th>Zaza Pachulia</th>\n",
       "      <td>Dallas Mavericks</td>\n",
       "      <td>27.0</td>\n",
       "      <td>C</td>\n",
       "      <td>32.0</td>\n",
       "      <td>6-11</td>\n",
       "      <td>275.0</td>\n",
       "      <td>NaN</td>\n",
       "      <td>5200000.0</td>\n",
       "    </tr>\n",
       "  </tbody>\n",
       "</table>\n",
       "<p>91 rows × 8 columns</p>\n",
       "</div>"
      ],
      "text/plain": [
       "                                    Team  Number Position   Age Height  \\\n",
       "Name                                                                     \n",
       "Aaron Brooks               Chicago Bulls     0.0       PG  31.0    6-0   \n",
       "Al Jefferson           Charlotte Hornets    25.0        C  31.0   6-10   \n",
       "Alan Anderson         Washington Wizards     6.0       SG  33.0    6-6   \n",
       "Amar'e Stoudemire             Miami Heat     5.0       PF  33.0   6-10   \n",
       "Anderson Varejao   Golden State Warriors    18.0       PF  33.0   6-11   \n",
       "...                                  ...     ...      ...   ...    ...   \n",
       "Tyson Chandler              Phoenix Suns     4.0        C  33.0    7-1   \n",
       "Udonis Haslem                 Miami Heat    40.0       PF  36.0    6-8   \n",
       "Vince Carter           Memphis Grizzlies    15.0       SG  39.0    6-6   \n",
       "Zach Randolph          Memphis Grizzlies    50.0       PF  34.0    6-9   \n",
       "Zaza Pachulia           Dallas Mavericks    27.0        C  32.0   6-11   \n",
       "\n",
       "                   Weight         College      Salary  \n",
       "Name                                                   \n",
       "Aaron Brooks        161.0          Oregon   2250000.0  \n",
       "Al Jefferson        289.0             NaN  13500000.0  \n",
       "Alan Anderson       220.0  Michigan State   4000000.0  \n",
       "Amar'e Stoudemire   245.0             NaN    947276.0  \n",
       "Anderson Varejao    273.0             NaN    289755.0  \n",
       "...                   ...             ...         ...  \n",
       "Tyson Chandler      240.0             NaN  13000000.0  \n",
       "Udonis Haslem       235.0         Florida   2854940.0  \n",
       "Vince Carter        220.0  North Carolina   4088019.0  \n",
       "Zach Randolph       260.0  Michigan State   9638555.0  \n",
       "Zaza Pachulia       275.0             NaN   5200000.0  \n",
       "\n",
       "[91 rows x 8 columns]"
      ]
     },
     "execution_count": 24,
     "metadata": {},
     "output_type": "execute_result"
    }
   ],
   "source": [
    "df.loc[df[\"Age\"] > 30]  # also accepts a boolean array"
   ]
  },
  {
   "cell_type": "markdown",
   "metadata": {},
   "source": [
    "#### Selection by Index Positions\n",
    "\n",
    "`df.iloc[]` select data via the position of the passed integers. In contrast to `loc[]`, the ending values are not included."
   ]
  },
  {
   "cell_type": "code",
   "execution_count": 25,
   "metadata": {},
   "outputs": [
    {
     "data": {
      "text/html": [
       "<div>\n",
       "<style scoped>\n",
       "    .dataframe tbody tr th:only-of-type {\n",
       "        vertical-align: middle;\n",
       "    }\n",
       "\n",
       "    .dataframe tbody tr th {\n",
       "        vertical-align: top;\n",
       "    }\n",
       "\n",
       "    .dataframe thead th {\n",
       "        text-align: right;\n",
       "    }\n",
       "</style>\n",
       "<table border=\"1\" class=\"dataframe\">\n",
       "  <thead>\n",
       "    <tr style=\"text-align: right;\">\n",
       "      <th></th>\n",
       "      <th>Team</th>\n",
       "      <th>Number</th>\n",
       "      <th>Position</th>\n",
       "      <th>Age</th>\n",
       "      <th>Height</th>\n",
       "      <th>Weight</th>\n",
       "      <th>College</th>\n",
       "      <th>Salary</th>\n",
       "    </tr>\n",
       "    <tr>\n",
       "      <th>Name</th>\n",
       "      <th></th>\n",
       "      <th></th>\n",
       "      <th></th>\n",
       "      <th></th>\n",
       "      <th></th>\n",
       "      <th></th>\n",
       "      <th></th>\n",
       "      <th></th>\n",
       "    </tr>\n",
       "  </thead>\n",
       "  <tbody>\n",
       "    <tr>\n",
       "      <th>Adreian Payne</th>\n",
       "      <td>Minnesota Timberwolves</td>\n",
       "      <td>33.0</td>\n",
       "      <td>PF</td>\n",
       "      <td>25.0</td>\n",
       "      <td>6-10</td>\n",
       "      <td>237.0</td>\n",
       "      <td>Michigan State</td>\n",
       "      <td>1938840.0</td>\n",
       "    </tr>\n",
       "    <tr>\n",
       "      <th>Al Horford</th>\n",
       "      <td>Atlanta Hawks</td>\n",
       "      <td>15.0</td>\n",
       "      <td>C</td>\n",
       "      <td>30.0</td>\n",
       "      <td>6-10</td>\n",
       "      <td>245.0</td>\n",
       "      <td>Florida</td>\n",
       "      <td>12000000.0</td>\n",
       "    </tr>\n",
       "  </tbody>\n",
       "</table>\n",
       "</div>"
      ],
      "text/plain": [
       "                                 Team  Number Position   Age Height  Weight  \\\n",
       "Name                                                                          \n",
       "Adreian Payne  Minnesota Timberwolves    33.0       PF  25.0   6-10   237.0   \n",
       "Al Horford              Atlanta Hawks    15.0        C  30.0   6-10   245.0   \n",
       "\n",
       "                      College      Salary  \n",
       "Name                                       \n",
       "Adreian Payne  Michigan State   1938840.0  \n",
       "Al Horford            Florida  12000000.0  "
      ]
     },
     "execution_count": 25,
     "metadata": {},
     "output_type": "execute_result"
    }
   ],
   "source": [
    "df.iloc[3:5]  # index labels are not important, index 5 is not included"
   ]
  },
  {
   "cell_type": "code",
   "execution_count": 26,
   "metadata": {},
   "outputs": [
    {
     "data": {
      "text/html": [
       "<div>\n",
       "<style scoped>\n",
       "    .dataframe tbody tr th:only-of-type {\n",
       "        vertical-align: middle;\n",
       "    }\n",
       "\n",
       "    .dataframe tbody tr th {\n",
       "        vertical-align: top;\n",
       "    }\n",
       "\n",
       "    .dataframe thead th {\n",
       "        text-align: right;\n",
       "    }\n",
       "</style>\n",
       "<table border=\"1\" class=\"dataframe\">\n",
       "  <thead>\n",
       "    <tr style=\"text-align: right;\">\n",
       "      <th></th>\n",
       "      <th>Team</th>\n",
       "      <th>Number</th>\n",
       "    </tr>\n",
       "    <tr>\n",
       "      <th>Name</th>\n",
       "      <th></th>\n",
       "      <th></th>\n",
       "    </tr>\n",
       "  </thead>\n",
       "  <tbody>\n",
       "    <tr>\n",
       "      <th>Adreian Payne</th>\n",
       "      <td>Minnesota Timberwolves</td>\n",
       "      <td>33.0</td>\n",
       "    </tr>\n",
       "    <tr>\n",
       "      <th>Al Horford</th>\n",
       "      <td>Atlanta Hawks</td>\n",
       "      <td>15.0</td>\n",
       "    </tr>\n",
       "  </tbody>\n",
       "</table>\n",
       "</div>"
      ],
      "text/plain": [
       "                                 Team  Number\n",
       "Name                                         \n",
       "Adreian Payne  Minnesota Timberwolves    33.0\n",
       "Al Horford              Atlanta Hawks    15.0"
      ]
     },
     "execution_count": 26,
     "metadata": {},
     "output_type": "execute_result"
    }
   ],
   "source": [
    "df.iloc[3:5, 0:2]  #  same for the columns, the names do not matter"
   ]
  },
  {
   "cell_type": "code",
   "execution_count": 27,
   "metadata": {},
   "outputs": [
    {
     "data": {
      "text/plain": [
       "0.0"
      ]
     },
     "execution_count": 27,
     "metadata": {},
     "output_type": "execute_result"
    }
   ],
   "source": [
    "df.iloc[1, 1]  # getting a particular value from the data frame"
   ]
  },
  {
   "cell_type": "markdown",
   "metadata": {},
   "source": [
    "## Inserting a new column\n",
    "\n",
    "``` py\n",
    ">>> df['E'] = ['one', 'one', 'two', 'three', 'four', 'three']  # just like regular dictionaries\n",
    "```"
   ]
  },
  {
   "cell_type": "code",
   "execution_count": 28,
   "metadata": {},
   "outputs": [
    {
     "data": {
      "text/html": [
       "<div>\n",
       "<style scoped>\n",
       "    .dataframe tbody tr th:only-of-type {\n",
       "        vertical-align: middle;\n",
       "    }\n",
       "\n",
       "    .dataframe tbody tr th {\n",
       "        vertical-align: top;\n",
       "    }\n",
       "\n",
       "    .dataframe thead th {\n",
       "        text-align: right;\n",
       "    }\n",
       "</style>\n",
       "<table border=\"1\" class=\"dataframe\">\n",
       "  <thead>\n",
       "    <tr style=\"text-align: right;\">\n",
       "      <th></th>\n",
       "      <th>Team</th>\n",
       "      <th>Number</th>\n",
       "      <th>Position</th>\n",
       "      <th>Age</th>\n",
       "      <th>Height</th>\n",
       "      <th>Weight</th>\n",
       "      <th>College</th>\n",
       "      <th>Salary</th>\n",
       "      <th>CS210_NBA_cOLUMN</th>\n",
       "    </tr>\n",
       "    <tr>\n",
       "      <th>Name</th>\n",
       "      <th></th>\n",
       "      <th></th>\n",
       "      <th></th>\n",
       "      <th></th>\n",
       "      <th></th>\n",
       "      <th></th>\n",
       "      <th></th>\n",
       "      <th></th>\n",
       "      <th></th>\n",
       "    </tr>\n",
       "  </thead>\n",
       "  <tbody>\n",
       "    <tr>\n",
       "      <th>Aaron Brooks</th>\n",
       "      <td>Chicago Bulls</td>\n",
       "      <td>0.0</td>\n",
       "      <td>PG</td>\n",
       "      <td>31.0</td>\n",
       "      <td>6-0</td>\n",
       "      <td>161.0</td>\n",
       "      <td>Oregon</td>\n",
       "      <td>2250000.0</td>\n",
       "      <td>4991.0</td>\n",
       "    </tr>\n",
       "    <tr>\n",
       "      <th>Aaron Gordon</th>\n",
       "      <td>Orlando Magic</td>\n",
       "      <td>0.0</td>\n",
       "      <td>PF</td>\n",
       "      <td>20.0</td>\n",
       "      <td>6-9</td>\n",
       "      <td>220.0</td>\n",
       "      <td>Arizona</td>\n",
       "      <td>4171680.0</td>\n",
       "      <td>4400.0</td>\n",
       "    </tr>\n",
       "    <tr>\n",
       "      <th>Aaron Harrison</th>\n",
       "      <td>Charlotte Hornets</td>\n",
       "      <td>9.0</td>\n",
       "      <td>SG</td>\n",
       "      <td>21.0</td>\n",
       "      <td>6-6</td>\n",
       "      <td>210.0</td>\n",
       "      <td>Kentucky</td>\n",
       "      <td>525093.0</td>\n",
       "      <td>4410.0</td>\n",
       "    </tr>\n",
       "    <tr>\n",
       "      <th>Adreian Payne</th>\n",
       "      <td>Minnesota Timberwolves</td>\n",
       "      <td>33.0</td>\n",
       "      <td>PF</td>\n",
       "      <td>25.0</td>\n",
       "      <td>6-10</td>\n",
       "      <td>237.0</td>\n",
       "      <td>Michigan State</td>\n",
       "      <td>1938840.0</td>\n",
       "      <td>5925.0</td>\n",
       "    </tr>\n",
       "    <tr>\n",
       "      <th>Al Horford</th>\n",
       "      <td>Atlanta Hawks</td>\n",
       "      <td>15.0</td>\n",
       "      <td>C</td>\n",
       "      <td>30.0</td>\n",
       "      <td>6-10</td>\n",
       "      <td>245.0</td>\n",
       "      <td>Florida</td>\n",
       "      <td>12000000.0</td>\n",
       "      <td>7350.0</td>\n",
       "    </tr>\n",
       "  </tbody>\n",
       "</table>\n",
       "</div>"
      ],
      "text/plain": [
       "                                  Team  Number Position   Age Height  Weight  \\\n",
       "Name                                                                           \n",
       "Aaron Brooks             Chicago Bulls     0.0       PG  31.0    6-0   161.0   \n",
       "Aaron Gordon             Orlando Magic     0.0       PF  20.0    6-9   220.0   \n",
       "Aaron Harrison       Charlotte Hornets     9.0       SG  21.0    6-6   210.0   \n",
       "Adreian Payne   Minnesota Timberwolves    33.0       PF  25.0   6-10   237.0   \n",
       "Al Horford               Atlanta Hawks    15.0        C  30.0   6-10   245.0   \n",
       "\n",
       "                       College      Salary  CS210_NBA_cOLUMN  \n",
       "Name                                                          \n",
       "Aaron Brooks            Oregon   2250000.0            4991.0  \n",
       "Aaron Gordon           Arizona   4171680.0            4400.0  \n",
       "Aaron Harrison        Kentucky    525093.0            4410.0  \n",
       "Adreian Payne   Michigan State   1938840.0            5925.0  \n",
       "Al Horford             Florida  12000000.0            7350.0  "
      ]
     },
     "execution_count": 28,
     "metadata": {},
     "output_type": "execute_result"
    }
   ],
   "source": [
    "df[\"CS210_NBA_cOLUMN\"] = df[\"Age\"] * df[\"Weight\"]  # we can also use existing columns \n",
    "\n",
    "df.head()"
   ]
  },
  {
   "cell_type": "markdown",
   "metadata": {},
   "source": [
    "## Dropping Rows and Columns\n",
    "\n",
    "We'll utilize the `.drop` method to discard values from a dataframe.\n",
    "\n",
    "      Drop specified labels from rows or columns.\n",
    "      Remove rows or columns by specifying label names and corresponding axis, or by specifying directly index or column names.\n",
    "\n",
    "In order to drop rows from a dataframe, we may provide the **index labels** of the desired rows."
   ]
  },
  {
   "cell_type": "code",
   "execution_count": 29,
   "metadata": {},
   "outputs": [
    {
     "data": {
      "text/html": [
       "<div>\n",
       "<style scoped>\n",
       "    .dataframe tbody tr th:only-of-type {\n",
       "        vertical-align: middle;\n",
       "    }\n",
       "\n",
       "    .dataframe tbody tr th {\n",
       "        vertical-align: top;\n",
       "    }\n",
       "\n",
       "    .dataframe thead th {\n",
       "        text-align: right;\n",
       "    }\n",
       "</style>\n",
       "<table border=\"1\" class=\"dataframe\">\n",
       "  <thead>\n",
       "    <tr style=\"text-align: right;\">\n",
       "      <th></th>\n",
       "      <th>Team</th>\n",
       "      <th>Number</th>\n",
       "      <th>Position</th>\n",
       "      <th>Age</th>\n",
       "      <th>Height</th>\n",
       "      <th>Weight</th>\n",
       "      <th>College</th>\n",
       "      <th>Salary</th>\n",
       "      <th>CS210_NBA_cOLUMN</th>\n",
       "    </tr>\n",
       "    <tr>\n",
       "      <th>Name</th>\n",
       "      <th></th>\n",
       "      <th></th>\n",
       "      <th></th>\n",
       "      <th></th>\n",
       "      <th></th>\n",
       "      <th></th>\n",
       "      <th></th>\n",
       "      <th></th>\n",
       "      <th></th>\n",
       "    </tr>\n",
       "  </thead>\n",
       "  <tbody>\n",
       "    <tr>\n",
       "      <th>Aaron Gordon</th>\n",
       "      <td>Orlando Magic</td>\n",
       "      <td>0.0</td>\n",
       "      <td>PF</td>\n",
       "      <td>20.0</td>\n",
       "      <td>6-9</td>\n",
       "      <td>220.0</td>\n",
       "      <td>Arizona</td>\n",
       "      <td>4171680.0</td>\n",
       "      <td>4400.0</td>\n",
       "    </tr>\n",
       "    <tr>\n",
       "      <th>Aaron Harrison</th>\n",
       "      <td>Charlotte Hornets</td>\n",
       "      <td>9.0</td>\n",
       "      <td>SG</td>\n",
       "      <td>21.0</td>\n",
       "      <td>6-6</td>\n",
       "      <td>210.0</td>\n",
       "      <td>Kentucky</td>\n",
       "      <td>525093.0</td>\n",
       "      <td>4410.0</td>\n",
       "    </tr>\n",
       "    <tr>\n",
       "      <th>Adreian Payne</th>\n",
       "      <td>Minnesota Timberwolves</td>\n",
       "      <td>33.0</td>\n",
       "      <td>PF</td>\n",
       "      <td>25.0</td>\n",
       "      <td>6-10</td>\n",
       "      <td>237.0</td>\n",
       "      <td>Michigan State</td>\n",
       "      <td>1938840.0</td>\n",
       "      <td>5925.0</td>\n",
       "    </tr>\n",
       "    <tr>\n",
       "      <th>Al Horford</th>\n",
       "      <td>Atlanta Hawks</td>\n",
       "      <td>15.0</td>\n",
       "      <td>C</td>\n",
       "      <td>30.0</td>\n",
       "      <td>6-10</td>\n",
       "      <td>245.0</td>\n",
       "      <td>Florida</td>\n",
       "      <td>12000000.0</td>\n",
       "      <td>7350.0</td>\n",
       "    </tr>\n",
       "    <tr>\n",
       "      <th>Al Jefferson</th>\n",
       "      <td>Charlotte Hornets</td>\n",
       "      <td>25.0</td>\n",
       "      <td>C</td>\n",
       "      <td>31.0</td>\n",
       "      <td>6-10</td>\n",
       "      <td>289.0</td>\n",
       "      <td>NaN</td>\n",
       "      <td>13500000.0</td>\n",
       "      <td>8959.0</td>\n",
       "    </tr>\n",
       "    <tr>\n",
       "      <th>...</th>\n",
       "      <td>...</td>\n",
       "      <td>...</td>\n",
       "      <td>...</td>\n",
       "      <td>...</td>\n",
       "      <td>...</td>\n",
       "      <td>...</td>\n",
       "      <td>...</td>\n",
       "      <td>...</td>\n",
       "      <td>...</td>\n",
       "    </tr>\n",
       "    <tr>\n",
       "      <th>Wilson Chandler</th>\n",
       "      <td>Denver Nuggets</td>\n",
       "      <td>21.0</td>\n",
       "      <td>SF</td>\n",
       "      <td>29.0</td>\n",
       "      <td>6-8</td>\n",
       "      <td>225.0</td>\n",
       "      <td>DePaul</td>\n",
       "      <td>10449438.0</td>\n",
       "      <td>6525.0</td>\n",
       "    </tr>\n",
       "    <tr>\n",
       "      <th>Xavier Munford</th>\n",
       "      <td>Memphis Grizzlies</td>\n",
       "      <td>14.0</td>\n",
       "      <td>PG</td>\n",
       "      <td>24.0</td>\n",
       "      <td>6-3</td>\n",
       "      <td>180.0</td>\n",
       "      <td>Rhode Island</td>\n",
       "      <td>NaN</td>\n",
       "      <td>4320.0</td>\n",
       "    </tr>\n",
       "    <tr>\n",
       "      <th>Zach LaVine</th>\n",
       "      <td>Minnesota Timberwolves</td>\n",
       "      <td>8.0</td>\n",
       "      <td>PG</td>\n",
       "      <td>21.0</td>\n",
       "      <td>6-5</td>\n",
       "      <td>189.0</td>\n",
       "      <td>UCLA</td>\n",
       "      <td>2148360.0</td>\n",
       "      <td>3969.0</td>\n",
       "    </tr>\n",
       "    <tr>\n",
       "      <th>Zach Randolph</th>\n",
       "      <td>Memphis Grizzlies</td>\n",
       "      <td>50.0</td>\n",
       "      <td>PF</td>\n",
       "      <td>34.0</td>\n",
       "      <td>6-9</td>\n",
       "      <td>260.0</td>\n",
       "      <td>Michigan State</td>\n",
       "      <td>9638555.0</td>\n",
       "      <td>8840.0</td>\n",
       "    </tr>\n",
       "    <tr>\n",
       "      <th>Zaza Pachulia</th>\n",
       "      <td>Dallas Mavericks</td>\n",
       "      <td>27.0</td>\n",
       "      <td>C</td>\n",
       "      <td>32.0</td>\n",
       "      <td>6-11</td>\n",
       "      <td>275.0</td>\n",
       "      <td>NaN</td>\n",
       "      <td>5200000.0</td>\n",
       "      <td>8800.0</td>\n",
       "    </tr>\n",
       "  </tbody>\n",
       "</table>\n",
       "<p>456 rows × 9 columns</p>\n",
       "</div>"
      ],
      "text/plain": [
       "                                   Team  Number Position   Age Height  Weight  \\\n",
       "Name                                                                            \n",
       "Aaron Gordon              Orlando Magic     0.0       PF  20.0    6-9   220.0   \n",
       "Aaron Harrison        Charlotte Hornets     9.0       SG  21.0    6-6   210.0   \n",
       "Adreian Payne    Minnesota Timberwolves    33.0       PF  25.0   6-10   237.0   \n",
       "Al Horford                Atlanta Hawks    15.0        C  30.0   6-10   245.0   \n",
       "Al Jefferson          Charlotte Hornets    25.0        C  31.0   6-10   289.0   \n",
       "...                                 ...     ...      ...   ...    ...     ...   \n",
       "Wilson Chandler          Denver Nuggets    21.0       SF  29.0    6-8   225.0   \n",
       "Xavier Munford        Memphis Grizzlies    14.0       PG  24.0    6-3   180.0   \n",
       "Zach LaVine      Minnesota Timberwolves     8.0       PG  21.0    6-5   189.0   \n",
       "Zach Randolph         Memphis Grizzlies    50.0       PF  34.0    6-9   260.0   \n",
       "Zaza Pachulia          Dallas Mavericks    27.0        C  32.0   6-11   275.0   \n",
       "\n",
       "                        College      Salary  CS210_NBA_cOLUMN  \n",
       "Name                                                           \n",
       "Aaron Gordon            Arizona   4171680.0            4400.0  \n",
       "Aaron Harrison         Kentucky    525093.0            4410.0  \n",
       "Adreian Payne    Michigan State   1938840.0            5925.0  \n",
       "Al Horford              Florida  12000000.0            7350.0  \n",
       "Al Jefferson                NaN  13500000.0            8959.0  \n",
       "...                         ...         ...               ...  \n",
       "Wilson Chandler          DePaul  10449438.0            6525.0  \n",
       "Xavier Munford     Rhode Island         NaN            4320.0  \n",
       "Zach LaVine                UCLA   2148360.0            3969.0  \n",
       "Zach Randolph    Michigan State   9638555.0            8840.0  \n",
       "Zaza Pachulia               NaN   5200000.0            8800.0  \n",
       "\n",
       "[456 rows x 9 columns]"
      ]
     },
     "execution_count": 29,
     "metadata": {},
     "output_type": "execute_result"
    }
   ],
   "source": [
    "# drops/discards the instances\n",
    "# where the index value (player name)\n",
    "# is equal to the given value\n",
    "# and returns the modified dataframe\n",
    "df.drop(\"Aaron Brooks\")\n",
    "#df.drop([\"Al Horford\", \"Zaza Pachulia\"]) You can do that with multiple names also."
   ]
  },
  {
   "cell_type": "markdown",
   "metadata": {},
   "source": [
    "## Visualization\n",
    "\n",
    "In the previous discussions, we talked about Matplotlib and Seaborn library to visualize the data we have. In addition to the plotting functionalities, it provides methods to manipulate the figures as well. However, we should prepare the data beforehand so that it can be provided to Matplotlib. You may also use Seaborn here, it's up to you probably visuals would be better.\n",
    "\n",
    "In the cell below, we visualize the annual salary of the players who play for Chicago Bulls as a bar chart. "
   ]
  },
  {
   "cell_type": "code",
   "execution_count": 42,
   "metadata": {},
   "outputs": [
    {
     "data": {
      "image/png": "[encoded data removed]",
      "text/plain": [
       "<Figure size 640x480 with 1 Axes>"
      ]
     },
     "metadata": {},
     "output_type": "display_data"
    }
   ],
   "source": [
    "import matplotlib.pyplot as plt\n",
    "\n",
    "team = \"Chicago Bulls\"\n",
    "# filter the dataframe wrt team\n",
    "# and sort the instances wrt salary\n",
    "# it returns a series object in which player names are indices\n",
    "# and salaries are the corresponding values\n",
    "salary_series = df[df[\"Team\"] == team][\"Salary\"].sort_values(ascending=True) \n",
    "'''\n",
    "What we do in the cell above is firstly take rows with the team = Chicago Bulls. (df[\"Team\"] == team) operation does\n",
    "this. Then df[df[\"Team\"] == team] filter this rows. Now we have a new DataFrame with Chicago Bulls players, and we can\n",
    "take \"Salary\" column of this DataFrame, and sort_values is already meaningful by its name.\n",
    "'''\n",
    "# extract players and salaries into two different sequences\n",
    "players = salary_series.index\n",
    "salaries = salary_series.values\n",
    "\n",
    "# plot the data\n",
    "plt.barh(players, salaries)\n",
    "# change the xticks into currency format\n",
    "xlocs = np.linspace(0, max(salaries), 5)\n",
    "ticks_labels = [f\"${xloc/10**6:.2f}M\" for xloc in xlocs] \n",
    "plt.xticks(xlocs, ticks_labels)\n",
    "# let's also display a grid\n",
    "plt.grid()\n",
    "plt.title(f\"Annual Salary per Player in {team}\")\n",
    "plt.xlabel(\"Annual Salary\")\n",
    "plt.show()"
   ]
  },
  {
   "cell_type": "markdown",
   "metadata": {},
   "source": [
    "Pandas provides a visualization module as well so that you rapidly manipulate the data and visualize it in the same expression (most of the time).\n",
    "\n",
    "Let's generate the same figure above with Pandas."
   ]
  },
  {
   "cell_type": "code",
   "execution_count": 41,
   "metadata": {},
   "outputs": [
    {
     "data": {
      "image/png": "[encoded data removed]",
      "text/plain": [
       "<Figure size 640x480 with 1 Axes>"
      ]
     },
     "metadata": {},
     "output_type": "display_data"
    }
   ],
   "source": [
    "team = \"Chicago Bulls\"\n",
    "# plot function on the returned series object\n",
    "# will map the index and corresponding values\n",
    "# on the x and y axes depending on the chart type\n",
    "# the returned value is an Axes object\n",
    "# so we can further manipulate it\n",
    "ax = df[df[\"Team\"] == team][\"Salary\"].sort_values(ascending=True).plot.barh(\n",
    "    title=f\"Annual Salary per Player in {team}\",\n",
    "    xticks=xlocs,\n",
    "    grid=True\n",
    ")\n",
    "\n",
    "# apply the set_xticklabels function\n",
    "# on the returned Axes object\n",
    "ax.set_xticklabels(ticks_labels)\n",
    "ax.set_xlabel(\"Annual Salary\")\n",
    "plt.show()"
   ]
  },
  {
   "cell_type": "markdown",
   "metadata": {},
   "source": [
    "We can use the plot function for Dataframes and series objects, and it returns an Axes object that we can further manipulate."
   ]
  },
  {
   "cell_type": "code",
   "execution_count": null,
   "metadata": {},
   "outputs": [],
   "source": [
    "# histogram of the age column\n",
    "# we first extract the column as a series object \n",
    "# and then call the plot.hist function\n",
    "ax = df[\"Age\"].plot.hist()\n",
    "\n",
    "# since it returns an Axes object\n",
    "# we can change the inner elements\n",
    "ax.set_title(\"Age Distribution\")\n",
    "ax.set_xlabel(\"Age\")\n",
    "plt.show()"
   ]
  },
  {
   "cell_type": "code",
   "execution_count": null,
   "metadata": {},
   "outputs": [],
   "source": [
    "\n",
    "team = \"Chicago Bulls\"\n",
    "\n",
    "# Subset the DataFrame to include only the desired team\n",
    "team_data = df[df[\"Team\"] == team]\n",
    "\n",
    "# Sort the data by salary in ascending order\n",
    "sorted_data = team_data.sort_values(\"Salary\")\n",
    "\n",
    "# Set the plot style to use Seaborn's default style\n",
    "sns.set()\n",
    "\n",
    "# Create the horizontal bar plot using Seaborn's barplot function\n",
    "ax = sns.barplot(x=\"Salary\", y= sorted_data.index, data=sorted_data, color=\"b\")\n",
    "\n",
    "# Set the x-axis label and tick labels\n",
    "ax.set_xlabel(\"Annual Salary\")\n",
    "ticks_labels = [f\"${xloc/10**6:.2f}M\" for xloc in xlocs] \n",
    "ax.set_xticks(xlocs)\n",
    "ax.set_xticklabels(ticks_labels)\n",
    "\n",
    "# Set the plot title\n",
    "ax.set_title(f\"Annual Salary per Player in {team}\")\n",
    "\n",
    "# Display the plot\n",
    "sns.despine() # remove the top and right spines\n",
    "plt.show()"
   ]
  },
  {
   "cell_type": "code",
   "execution_count": null,
   "metadata": {},
   "outputs": [],
   "source": [
    "# depending on the chart type\n",
    "# you can also specify the attributes\n",
    "# to be assigned on the axes\n",
    "ax = df[[\"Age\", \"Salary\"]].plot.scatter(x=\"Age\", y=\"Salary\", s=20)  # s-> marker size\n",
    "ax.set_title(\"Age - Salary\")\n",
    "plt.show()"
   ]
  },
  {
   "cell_type": "code",
   "execution_count": null,
   "metadata": {},
   "outputs": [],
   "source": [
    "# 2x2 figure layout\n",
    "r = 2\n",
    "c = 2\n",
    "\n",
    "# create the figure and axes\n",
    "fig, axes = plt.subplots(r, c, sharex=True, figsize=(15, 8))\n",
    "'''\n",
    "This code defines a 2x2 figure layout and creates a new Matplotlib figure with this layout.\n",
    "The sharex=True argument ensures that all the subplots share the same x-axis scale, and the figsize=(15, 8) \n",
    "argument sets the size of the figure in inches.\n",
    "'''\n",
    "# selected teams\n",
    "teams = [\"Cleveland Cavaliers\", \"Los Angeles Lakers\", \"Golden State Warriors\", \"Miami Heat\"]\n",
    "\n",
    "for ind, team in enumerate(teams):\n",
    "  # find the current axes position\n",
    "  ax = axes[ind // c][ind % c]\n",
    "  # display the chart in that axes\n",
    "  df[df[\"Team\"] == team][\"Salary\"].sort_values().plot.barh(grid=True, ax=ax)\n",
    "  ax.set_title(team, fontsize=15)\n",
    "  ax.set_xlabel(\"Salary\")\n",
    "'''\n",
    "This code loops over the teams list and for each team, finds the corresponding subplot in the axes array and plots a \n",
    "horizontal bar chart of the team's salary data using the plot.barh method. The ax=ax argument specifies the current subplot\n",
    "to plot on, and the grid=True argument adds a grid to the plot. The set_title method sets the subplot title to the team name, \n",
    "and the set_xlabel method sets the x-axis label to \"Salary\".\n",
    "\n",
    "'''\n",
    "\n",
    "# put the figure title with offset on y axis\n",
    "fig.suptitle(\"Annual Salary per Player\", y=1.05, fontsize=20)\n",
    "# arrange the spacing between axes\n",
    "plt.tight_layout()\n",
    "\n",
    "'''\n",
    "This code sets the figure title to \"Annual Salary per Player\" using the suptitle method, with a vertical offset of 1.05 to \n",
    "avoid overlapping with the subplots. The fontsize=20 argument sets the font size of the title. The tight_layout method adjusts\n",
    "the spacing between the subplots to minimize overlap.\n",
    "\n",
    "'''"
   ]
  }
 ],
 "metadata": {
  "colab": {
   "provenance": [],
   "toc_visible": true
  },
  "kernelspec": {
   "display_name": "Python 3 (ipykernel)",
   "language": "python",
   "name": "python3"
  },
  "language_info": {
   "codemirror_mode": {
    "name": "ipython",
    "version": 3
   },
   "file_extension": ".py",
   "mimetype": "text/x-python",
   "name": "python",
   "nbconvert_exporter": "python",
   "pygments_lexer": "ipython3",
   "version": "3.12.0"
  }
 },
 "nbformat": 4,
 "nbformat_minor": 4
}
